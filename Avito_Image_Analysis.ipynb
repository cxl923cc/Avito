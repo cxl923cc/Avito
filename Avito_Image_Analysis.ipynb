{
  "nbformat": 4,
  "nbformat_minor": 0,
  "metadata": {
    "colab": {
      "name": "Avito - Image Analysis.ipynb",
      "version": "0.3.2",
      "provenance": [],
      "collapsed_sections": []
    },
    "kernelspec": {
      "name": "python3",
      "display_name": "Python 3"
    },
    "accelerator": "GPU"
  },
  "cells": [
    {
      "cell_type": "markdown",
      "metadata": {
        "id": "view-in-github",
        "colab_type": "text"
      },
      "source": [
        "[View in Colaboratory](https://colab.research.google.com/github/cxl923cc/Avito/blob/master/Avito_Image_Analysis.ipynb)"
      ]
    },
    {
      "metadata": {
        "id": "g4T-_IsVbweU",
        "colab_type": "text"
      },
      "cell_type": "markdown",
      "source": [
        "# Avito Demand Prediction"
      ]
    },
    {
      "metadata": {
        "id": "LEAHZv4rIYHX",
        "colab_type": "text"
      },
      "cell_type": "markdown",
      "source": [
        "**Step 1 - Preparation:**\n",
        "  * Import the libraries. Define the threshold of image recognisability\n",
        "  * Set up Kaggle API\n",
        "  * Download image data and train master (zipped file), unzip the files\n",
        "  * Download Resnet50 from keras library"
      ]
    },
    {
      "metadata": {
        "id": "fOQ7Vqi02q0i",
        "colab_type": "code",
        "colab": {}
      },
      "cell_type": "code",
      "source": [
        "import os\n",
        "\n",
        "import numpy as np\n",
        "import pandas as pd\n",
        "from keras.preprocessing import image\n",
        "import keras.applications.resnet50 as resnet50\n",
        "import keras.applications.xception as xception\n",
        "import keras.applications.inception_v3 as inception_v3\n",
        "import matplotlib.pyplot as plt\n",
        "import seaborn as sns\n",
        "from PIL import Image\n",
        "\n",
        "from datetime import datetime\n",
        "import zipfile\n",
        "import cv2\n",
        "from google.colab import files\n",
        "\n",
        "#Set threshold of recognisability\n",
        "p_top_thresh = 0.8"
      ],
      "execution_count": 0,
      "outputs": []
    },
    {
      "metadata": {
        "id": "FNMk6IA_2PGy",
        "colab_type": "code",
        "colab": {
          "base_uri": "https://localhost:8080/",
          "height": 219
        },
        "collapsed": true,
        "outputId": "e1245446-bb07-4152-89b2-ece80a588f6f"
      },
      "cell_type": "code",
      "source": [
        "#@title\n",
        "!pip install kaggle"
      ],
      "execution_count": 1,
      "outputs": [
        {
          "output_type": "stream",
          "text": [
            "Collecting kaggle\n",
            "  Downloading https://files.pythonhosted.org/packages/bd/a6/d93a9492ad8f31b1a0d17225acfa066a38a27f5fc2ce9fc5034a7003fff1/kaggle-1.3.6.tar.gz\n",
            "Requirement already satisfied: urllib3>=1.15 in /usr/local/lib/python3.6/dist-packages (from kaggle) (1.22)\n",
            "Requirement already satisfied: six>=1.10 in /usr/local/lib/python3.6/dist-packages (from kaggle) (1.11.0)\n",
            "Requirement already satisfied: certifi in /usr/local/lib/python3.6/dist-packages (from kaggle) (2018.4.16)\n",
            "Requirement already satisfied: python-dateutil in /usr/local/lib/python3.6/dist-packages (from kaggle) (2.5.3)\n",
            "Building wheels for collected packages: kaggle\n",
            "  Running setup.py bdist_wheel for kaggle ... \u001b[?25l-\b \b\\\b \bdone\n",
            "\u001b[?25h  Stored in directory: /content/.cache/pip/wheels/98/be/57/a576a1f2f50f5c3bebd0c08fc3b2a6881dfde31c8217014978\n",
            "Successfully built kaggle\n",
            "Installing collected packages: kaggle\n",
            "Successfully installed kaggle-1.3.6\n"
          ],
          "name": "stdout"
        }
      ]
    },
    {
      "metadata": {
        "id": "IDtWD2-d0r4P",
        "colab_type": "code",
        "colab": {
          "base_uri": "https://localhost:8080/",
          "height": 34
        },
        "collapsed": true,
        "outputId": "28f22c48-2cee-4a36-be2c-271d0a8f47a4"
      },
      "cell_type": "code",
      "source": [
        "from googleapiclient.discovery import build\n",
        "import io, os\n",
        "from googleapiclient.http import MediaIoBaseDownload\n",
        "from google.colab import auth\n",
        "auth.authenticate_user()\n",
        "drive_service = build('drive', 'v3')\n",
        "results = drive_service.files().list(\n",
        "        q=\"name = 'kaggle.json'\", fields=\"files(id)\").execute()\n",
        "kaggle_api_key = results.get('files', [])\n",
        "filename = \"/content/.kaggle/kaggle.json\"\n",
        "os.makedirs(os.path.dirname(filename), exist_ok=True)\n",
        "request = drive_service.files().get_media(fileId=kaggle_api_key[0]['id'])\n",
        "fh = io.FileIO(filename, 'wb')\n",
        "downloader = MediaIoBaseDownload(fh, request)\n",
        "done = False\n",
        "while done is False:\n",
        "    status, done = downloader.next_chunk()\n",
        "    print(\"Download %d%%.\" % int(status.progress() * 100))\n",
        "os.chmod(filename, 600)"
      ],
      "execution_count": 2,
      "outputs": [
        {
          "output_type": "stream",
          "text": [
            "Download 100%.\n"
          ],
          "name": "stdout"
        }
      ]
    },
    {
      "metadata": {
        "id": "Fb05ZtId2_gI",
        "colab_type": "code",
        "colab": {
          "base_uri": "https://localhost:8080/",
          "height": 387
        },
        "collapsed": true,
        "outputId": "df089faf-fce2-4a0d-aaca-ed6a7638015b"
      },
      "cell_type": "code",
      "source": [
        "!kaggle competitions list"
      ],
      "execution_count": 9,
      "outputs": [
        {
          "output_type": "stream",
          "text": [
            "ref                                             deadline             category            reward  teamCount  userHasEntered  \r\n",
            "----------------------------------------------  -------------------  ---------------  ---------  ---------  --------------  \r\n",
            "imagenet-object-detection-challenge             2029-12-31 07:00:00  Research         Knowledge          0           False  \r\n",
            "imagenet-object-detection-from-video-challenge  2029-12-31 07:00:00  Research         Knowledge          0           False  \r\n",
            "imagenet-object-localization-challenge          2029-12-31 07:00:00  Research         Knowledge          8           False  \r\n",
            "titanic                                         2020-04-07 00:00:00  Getting Started  Knowledge      11190            True  \r\n",
            "house-prices-advanced-regression-techniques     2020-03-01 23:59:00  Getting Started  Knowledge       5243            True  \r\n",
            "digit-recognizer                                2020-01-07 00:00:00  Getting Started  Knowledge       2396           False  \r\n",
            "competitive-data-science-predict-future-sales   2019-01-01 23:59:00  Playground           Kudos        424           False  \r\n",
            "trackml-particle-identification                 2018-08-13 23:59:00  Featured           $25,000         89           False  \r\n",
            "freesound-audio-tagging                         2018-07-31 23:59:00  Research         Knowledge        107           False  \r\n",
            "whale-categorization-playground                 2018-07-09 23:59:00  Playground           Kudos        241           False  \r\n",
            "avito-demand-prediction                         2018-06-27 23:59:00  Featured           $25,000        520            True  \r\n",
            "cvpr-2018-autonomous-driving                    2018-06-11 23:59:00  Research            $2,500         55           False  \r\n",
            "inaturalist-2018                                2018-06-04 23:59:00  Research             Kudos         41           False  \r\n",
            "imaterialist-challenge-fashion-2018             2018-05-30 23:59:00  Research            $2,500        107           False  \r\n",
            "imaterialist-challenge-furniture-2018           2018-05-30 23:59:00  Research            $2,500        293           False  \r\n",
            "landmark-retrieval-challenge                    2018-05-22 23:59:00  Research            $2,500        147           False  \r\n",
            "landmark-recognition-challenge                  2018-05-22 23:59:00  Research            $2,500        345           False  \r\n",
            "talkingdata-adtracking-fraud-detection          2018-05-07 23:59:00  Featured           $25,000       3879            True  \r\n",
            "donorschoose-application-screening              2018-04-25 23:59:00  Playground            Swag        581           False  \r\n",
            "data-science-bowl-2018                          2018-04-16 23:59:00  Featured          $100,000       3634            True  \r\n"
          ],
          "name": "stdout"
        }
      ]
    },
    {
      "metadata": {
        "id": "78mWKaS53B5Z",
        "colab_type": "code",
        "colab": {
          "base_uri": "https://localhost:8080/",
          "height": 286
        },
        "collapsed": true,
        "outputId": "5ca34a26-7625-417d-ac5d-1b7f560d6f81"
      },
      "cell_type": "code",
      "source": [
        "!kaggle competitions files -c avito-demand-prediction"
      ],
      "execution_count": 4,
      "outputs": [
        {
          "output_type": "stream",
          "text": [
            "name                    size  creationDate         \r\n",
            "---------------------  -----  -------------------  \r\n",
            "sample_submission.csv    8MB  2018-04-23 21:26:51  \r\n",
            "test_jpg.zip            19GB  2018-04-23 22:09:42  \r\n",
            "train_jpg.zip           49GB  2018-04-23 23:06:39  \r\n",
            "test.csv.zip           107MB  2018-04-24 18:25:00  \r\n",
            "periods_test.csv.zip   136MB  2018-04-24 18:25:02  \r\n",
            "periods_train.csv.zip  170MB  2018-04-24 18:25:04  \r\n",
            "train.csv.zip          308MB  2018-04-24 18:26:58  \r\n",
            "test_active.csv.zip      2GB  2018-04-24 18:31:08  \r\n",
            "train_active.csv.zip     3GB  2018-04-24 18:44:13  \r\n",
            "train_jpg_4.zip         10GB  2018-05-01 22:40:01  \r\n",
            "train_jpg_2.zip         10GB  2018-05-01 22:40:05  \r\n",
            "train_jpg_1.zip         10GB  2018-05-01 22:40:06  \r\n",
            "train_jpg_0.zip         10GB  2018-05-01 22:40:06  \r\n",
            "train_jpg_3.zip         10GB  2018-05-01 22:40:06  \r\n"
          ],
          "name": "stdout"
        }
      ]
    },
    {
      "metadata": {
        "id": "_LsHaT9T3SM2",
        "colab_type": "code",
        "colab": {
          "base_uri": "https://localhost:8080/",
          "height": 34
        },
        "outputId": "d97ab043-1b2f-411d-8830-686e1c922ec3"
      },
      "cell_type": "code",
      "source": [
        "!kaggle competitions download -c avito-demand-prediction -f train_jpg_0.zip   \n",
        "!kaggle competitions download -c avito-demand-prediction -f train_jpg_1.zip  \n",
        "!kaggle competitions download -c avito-demand-prediction -f train_jpg_2.zip \n",
        "!kaggle competitions download -c avito-demand-prediction -f train_jpg_3.zip \n",
        "!kaggle competitions download -c avito-demand-prediction -f train_jpg_4.zip \n",
        "#2 mins"
      ],
      "execution_count": 5,
      "outputs": [
        {
          "output_type": "stream",
          "text": [
            "train_jpg_0.zip: Downloaded 10GB of 10GB\n"
          ],
          "name": "stdout"
        }
      ]
    },
    {
      "metadata": {
        "id": "6ES-f7rI6G7X",
        "colab_type": "code",
        "colab": {
          "base_uri": "https://localhost:8080/",
          "height": 34
        },
        "outputId": "e5c1c737-4417-4438-d3f8-1bf39865ec00"
      },
      "cell_type": "code",
      "source": [
        "!kaggle competitions download -c avito-demand-prediction -f train.csv.zip"
      ],
      "execution_count": 4,
      "outputs": [
        {
          "output_type": "stream",
          "text": [
            "train.csv.zip: Downloaded 308MB of 308MB\n"
          ],
          "name": "stdout"
        }
      ]
    },
    {
      "metadata": {
        "id": "LP22Zm4W7u48",
        "colab_type": "code",
        "colab": {
          "base_uri": "https://localhost:8080/",
          "height": 51
        },
        "collapsed": true,
        "outputId": "c14c41e9-16d9-4e94-91f0-bf62629a4682"
      },
      "cell_type": "code",
      "source": [
        "!unzip .kaggle/competitions/avito-demand-prediction/train.csv.zip\n",
        "#After unzip, train.csv is under the home folder"
      ],
      "execution_count": 5,
      "outputs": [
        {
          "output_type": "stream",
          "text": [
            "Archive:  .kaggle/competitions/avito-demand-prediction/train.csv.zip\n",
            "  inflating: train.csv               \n"
          ],
          "name": "stdout"
        }
      ]
    },
    {
      "metadata": {
        "id": "Wt_9ExDh9t4z",
        "colab_type": "code",
        "colab": {
          "base_uri": "https://localhost:8080/",
          "height": 34
        },
        "collapsed": true,
        "outputId": "067c03fe-c199-4b5c-e864-21431e09c62c"
      },
      "cell_type": "code",
      "source": [
        "!ls .kaggle/competitions/avito-demand-prediction/"
      ],
      "execution_count": 6,
      "outputs": [
        {
          "output_type": "stream",
          "text": [
            "train.csv.zip  train_jpg_4.zip\r\n"
          ],
          "name": "stdout"
        }
      ]
    },
    {
      "metadata": {
        "id": "CnR8Wj767lxg",
        "colab_type": "code",
        "colab": {
          "base_uri": "https://localhost:8080/",
          "height": 51
        },
        "collapsed": true,
        "outputId": "7be649f2-f561-4d63-d957-23a063cde7eb"
      },
      "cell_type": "code",
      "source": [
        "resnet_model = resnet50.ResNet50(weights='imagenet')"
      ],
      "execution_count": 8,
      "outputs": [
        {
          "output_type": "stream",
          "text": [
            "Downloading data from https://github.com/fchollet/deep-learning-models/releases/download/v0.2/resnet50_weights_tf_dim_ordering_tf_kernels.h5\n",
            "102858752/102853048 [==============================] - 7s 0us/step\n"
          ],
          "name": "stdout"
        }
      ]
    },
    {
      "metadata": {
        "id": "n03bb8-3AdCM",
        "colab_type": "text"
      },
      "cell_type": "markdown",
      "source": [
        "**Step 2 - Read Data:**\n",
        "  * Read train master file into a dataframe 'train_df'\n",
        "  * Read all the images from the zipped image archive"
      ]
    },
    {
      "metadata": {
        "id": "9S8LzodA_qMj",
        "colab_type": "code",
        "colab": {
          "base_uri": "https://localhost:8080/",
          "height": 367
        },
        "collapsed": true,
        "outputId": "3a9bbf51-1aea-4b00-e377-5f269c0c6e58"
      },
      "cell_type": "code",
      "source": [
        "train_df = pd.read_csv('train.csv')\n",
        "train_df.head()"
      ],
      "execution_count": 9,
      "outputs": [
        {
          "output_type": "execute_result",
          "data": {
            "text/html": [
              "<div>\n",
              "<style scoped>\n",
              "    .dataframe tbody tr th:only-of-type {\n",
              "        vertical-align: middle;\n",
              "    }\n",
              "\n",
              "    .dataframe tbody tr th {\n",
              "        vertical-align: top;\n",
              "    }\n",
              "\n",
              "    .dataframe thead th {\n",
              "        text-align: right;\n",
              "    }\n",
              "</style>\n",
              "<table border=\"1\" class=\"dataframe\">\n",
              "  <thead>\n",
              "    <tr style=\"text-align: right;\">\n",
              "      <th></th>\n",
              "      <th>item_id</th>\n",
              "      <th>user_id</th>\n",
              "      <th>region</th>\n",
              "      <th>city</th>\n",
              "      <th>parent_category_name</th>\n",
              "      <th>category_name</th>\n",
              "      <th>param_1</th>\n",
              "      <th>param_2</th>\n",
              "      <th>param_3</th>\n",
              "      <th>title</th>\n",
              "      <th>description</th>\n",
              "      <th>price</th>\n",
              "      <th>item_seq_number</th>\n",
              "      <th>activation_date</th>\n",
              "      <th>user_type</th>\n",
              "      <th>image</th>\n",
              "      <th>image_top_1</th>\n",
              "      <th>deal_probability</th>\n",
              "    </tr>\n",
              "  </thead>\n",
              "  <tbody>\n",
              "    <tr>\n",
              "      <th>0</th>\n",
              "      <td>b912c3c6a6ad</td>\n",
              "      <td>e00f8ff2eaf9</td>\n",
              "      <td>Свердловская область</td>\n",
              "      <td>Екатеринбург</td>\n",
              "      <td>Личные вещи</td>\n",
              "      <td>Товары для детей и игрушки</td>\n",
              "      <td>Постельные принадлежности</td>\n",
              "      <td>NaN</td>\n",
              "      <td>NaN</td>\n",
              "      <td>Кокоби(кокон для сна)</td>\n",
              "      <td>Кокон для сна малыша,пользовались меньше месяц...</td>\n",
              "      <td>400.0</td>\n",
              "      <td>2</td>\n",
              "      <td>2017-03-28</td>\n",
              "      <td>Private</td>\n",
              "      <td>d10c7e016e03247a3bf2d13348fe959fe6f436c1caf64c...</td>\n",
              "      <td>1008.0</td>\n",
              "      <td>0.12789</td>\n",
              "    </tr>\n",
              "    <tr>\n",
              "      <th>1</th>\n",
              "      <td>2dac0150717d</td>\n",
              "      <td>39aeb48f0017</td>\n",
              "      <td>Самарская область</td>\n",
              "      <td>Самара</td>\n",
              "      <td>Для дома и дачи</td>\n",
              "      <td>Мебель и интерьер</td>\n",
              "      <td>Другое</td>\n",
              "      <td>NaN</td>\n",
              "      <td>NaN</td>\n",
              "      <td>Стойка для Одежды</td>\n",
              "      <td>Стойка для одежды, под вешалки. С бутика.</td>\n",
              "      <td>3000.0</td>\n",
              "      <td>19</td>\n",
              "      <td>2017-03-26</td>\n",
              "      <td>Private</td>\n",
              "      <td>79c9392cc51a9c81c6eb91eceb8e552171db39d7142700...</td>\n",
              "      <td>692.0</td>\n",
              "      <td>0.00000</td>\n",
              "    </tr>\n",
              "    <tr>\n",
              "      <th>2</th>\n",
              "      <td>ba83aefab5dc</td>\n",
              "      <td>91e2f88dd6e3</td>\n",
              "      <td>Ростовская область</td>\n",
              "      <td>Ростов-на-Дону</td>\n",
              "      <td>Бытовая электроника</td>\n",
              "      <td>Аудио и видео</td>\n",
              "      <td>Видео, DVD и Blu-ray плееры</td>\n",
              "      <td>NaN</td>\n",
              "      <td>NaN</td>\n",
              "      <td>Philips bluray</td>\n",
              "      <td>В хорошем состоянии, домашний кинотеатр с blu ...</td>\n",
              "      <td>4000.0</td>\n",
              "      <td>9</td>\n",
              "      <td>2017-03-20</td>\n",
              "      <td>Private</td>\n",
              "      <td>b7f250ee3f39e1fedd77c141f273703f4a9be59db4b48a...</td>\n",
              "      <td>3032.0</td>\n",
              "      <td>0.43177</td>\n",
              "    </tr>\n",
              "    <tr>\n",
              "      <th>3</th>\n",
              "      <td>02996f1dd2ea</td>\n",
              "      <td>bf5cccea572d</td>\n",
              "      <td>Татарстан</td>\n",
              "      <td>Набережные Челны</td>\n",
              "      <td>Личные вещи</td>\n",
              "      <td>Товары для детей и игрушки</td>\n",
              "      <td>Автомобильные кресла</td>\n",
              "      <td>NaN</td>\n",
              "      <td>NaN</td>\n",
              "      <td>Автокресло</td>\n",
              "      <td>Продам кресло от0-25кг</td>\n",
              "      <td>2200.0</td>\n",
              "      <td>286</td>\n",
              "      <td>2017-03-25</td>\n",
              "      <td>Company</td>\n",
              "      <td>e6ef97e0725637ea84e3d203e82dadb43ed3cc0a1c8413...</td>\n",
              "      <td>796.0</td>\n",
              "      <td>0.80323</td>\n",
              "    </tr>\n",
              "    <tr>\n",
              "      <th>4</th>\n",
              "      <td>7c90be56d2ab</td>\n",
              "      <td>ef50846afc0b</td>\n",
              "      <td>Волгоградская область</td>\n",
              "      <td>Волгоград</td>\n",
              "      <td>Транспорт</td>\n",
              "      <td>Автомобили</td>\n",
              "      <td>С пробегом</td>\n",
              "      <td>ВАЗ (LADA)</td>\n",
              "      <td>2110</td>\n",
              "      <td>ВАЗ 2110, 2003</td>\n",
              "      <td>Все вопросы по телефону.</td>\n",
              "      <td>40000.0</td>\n",
              "      <td>3</td>\n",
              "      <td>2017-03-16</td>\n",
              "      <td>Private</td>\n",
              "      <td>54a687a3a0fc1d68aed99bdaaf551c5c70b761b16fd0a2...</td>\n",
              "      <td>2264.0</td>\n",
              "      <td>0.20797</td>\n",
              "    </tr>\n",
              "  </tbody>\n",
              "</table>\n",
              "</div>"
            ],
            "text/plain": [
              "        item_id       user_id                 region              city  \\\n",
              "0  b912c3c6a6ad  e00f8ff2eaf9   Свердловская область      Екатеринбург   \n",
              "1  2dac0150717d  39aeb48f0017      Самарская область            Самара   \n",
              "2  ba83aefab5dc  91e2f88dd6e3     Ростовская область    Ростов-на-Дону   \n",
              "3  02996f1dd2ea  bf5cccea572d              Татарстан  Набережные Челны   \n",
              "4  7c90be56d2ab  ef50846afc0b  Волгоградская область         Волгоград   \n",
              "\n",
              "  parent_category_name               category_name  \\\n",
              "0          Личные вещи  Товары для детей и игрушки   \n",
              "1      Для дома и дачи           Мебель и интерьер   \n",
              "2  Бытовая электроника               Аудио и видео   \n",
              "3          Личные вещи  Товары для детей и игрушки   \n",
              "4            Транспорт                  Автомобили   \n",
              "\n",
              "                       param_1     param_2 param_3                  title  \\\n",
              "0    Постельные принадлежности         NaN     NaN  Кокоби(кокон для сна)   \n",
              "1                       Другое         NaN     NaN      Стойка для Одежды   \n",
              "2  Видео, DVD и Blu-ray плееры         NaN     NaN         Philips bluray   \n",
              "3         Автомобильные кресла         NaN     NaN             Автокресло   \n",
              "4                   С пробегом  ВАЗ (LADA)    2110         ВАЗ 2110, 2003   \n",
              "\n",
              "                                         description    price  \\\n",
              "0  Кокон для сна малыша,пользовались меньше месяц...    400.0   \n",
              "1          Стойка для одежды, под вешалки. С бутика.   3000.0   \n",
              "2  В хорошем состоянии, домашний кинотеатр с blu ...   4000.0   \n",
              "3                             Продам кресло от0-25кг   2200.0   \n",
              "4                           Все вопросы по телефону.  40000.0   \n",
              "\n",
              "   item_seq_number activation_date user_type  \\\n",
              "0                2      2017-03-28   Private   \n",
              "1               19      2017-03-26   Private   \n",
              "2                9      2017-03-20   Private   \n",
              "3              286      2017-03-25   Company   \n",
              "4                3      2017-03-16   Private   \n",
              "\n",
              "                                               image  image_top_1  \\\n",
              "0  d10c7e016e03247a3bf2d13348fe959fe6f436c1caf64c...       1008.0   \n",
              "1  79c9392cc51a9c81c6eb91eceb8e552171db39d7142700...        692.0   \n",
              "2  b7f250ee3f39e1fedd77c141f273703f4a9be59db4b48a...       3032.0   \n",
              "3  e6ef97e0725637ea84e3d203e82dadb43ed3cc0a1c8413...        796.0   \n",
              "4  54a687a3a0fc1d68aed99bdaaf551c5c70b761b16fd0a2...       2264.0   \n",
              "\n",
              "   deal_probability  \n",
              "0           0.12789  \n",
              "1           0.00000  \n",
              "2           0.43177  \n",
              "3           0.80323  \n",
              "4           0.20797  "
            ]
          },
          "metadata": {
            "tags": []
          },
          "execution_count": 9
        }
      ]
    },
    {
      "metadata": {
        "id": "Aq-8mrHt_kW4",
        "colab_type": "code",
        "colab": {}
      },
      "cell_type": "code",
      "source": [
        "#Specify the zip archive\n",
        "def read_zip(i):\n",
        "    print('processing train_jpg_' + i)\n",
        "\n",
        "    start=datetime.now()\n",
        "\n",
        "    #Create directory to store the images extracted from the zip archive\n",
        "    images_dir = os.path.expanduser(os.path.join('~', 'avito_images'+i))\n",
        "    if not os.path.exists(images_dir):\n",
        "        os.makedirs(images_dir)\n",
        "\n",
        "    #Extract images and save them under the directory\n",
        "    with zipfile.ZipFile('.kaggle/competitions/avito-demand-prediction/train_jpg_'+ i +'.zip', 'r') as train_zip:\n",
        "        files_in_zip = sorted(train_zip.namelist())\n",
        "        for idx, file in enumerate(files_in_zip):\n",
        "            if file.endswith('.jpg'):\n",
        "                train_zip.extract(file, path=images_dir)\n",
        "\n",
        "    #Scan all the images under the directory and save their path to a list that will be used to read the images\n",
        "    image_files = [x.path for x in os.scandir('/content/avito_images' + i)]\n",
        "    print('Total number of images read into the image directory: ', len(image_files))\n",
        "\n",
        "    print (datetime.now()-start)\n",
        "    \n",
        "    return image_files\n"
      ],
      "execution_count": 0,
      "outputs": []
    },
    {
      "metadata": {
        "id": "3yIqunW6GPAU",
        "colab_type": "text"
      },
      "cell_type": "markdown",
      "source": [
        "**Step 3 - Make Prediction:**\n",
        "  * Make predictions on all images and take the top predicted class\n",
        "  * Set the confidence threshold as 0.8 meaning when ResNet is 80% sure about the top predicted class, we assume the image is recognisable and assign a flag ('flag_clear_img') 1 to the image, otherwise 0.\n",
        "  * Note: Few damaged images - train_jpg_0.zip has 278168 images but there are 2 damaged ones that can not be opened\n",
        "  * Potential improvements: Add another two networks; compare similarity between the top 2 categories\n"
      ]
    },
    {
      "metadata": {
        "id": "FrmFJF41_NB7",
        "colab_type": "code",
        "colab": {}
      },
      "cell_type": "code",
      "source": [
        "#Create a flag to identify whether the top probability is larger than 80%\n",
        "#Set threshold of the prediction for the most likely class\n",
        "\n",
        "def extract_img_f(image_files):  \n",
        "    start=datetime.now()\n",
        "\n",
        "    #Set the total number of images\n",
        "    tot_num_image = len(image_files)\n",
        "\n",
        "    list_img_id = []\n",
        "    list_flag_clear_img = []\n",
        "    list_img_size = []\n",
        "    list_img_shape_ratio = []\n",
        "\n",
        "    for i in range(0, tot_num_image):\n",
        "        flag_clear_img = 0\n",
        "        #Skip the damaged images that exist but can not be opened, e.g. image_files[270883] exists but can't be opened\n",
        "        if cv2.imread(image_files[i]) is not None:\n",
        "            img = Image.open(image_files[i])\n",
        "            #Get image size and the shape ratio (width/height)\n",
        "            image_size = img.size[0]*img.size[1]\n",
        "            image_shape_ratio = img.size[0]/img.size[1]\n",
        "            \"\"\"Classify image and return top matches.\"\"\"\n",
        "            target_size = (224, 224)\n",
        "            if img.size != target_size:\n",
        "                img = img.resize(target_size)\n",
        "            x = image.img_to_array(img)\n",
        "            x = np.expand_dims(x, axis=0)\n",
        "            x = resnet50.preprocess_input(x)\n",
        "            preds = resnet_model.predict(x)\n",
        "            resnet_preds = resnet50.decode_predictions(preds, top=3)[0]\n",
        "            #Top probability\n",
        "            if resnet_preds[0][2] > p_top_thresh:\n",
        "                flag_clear_img = 1\n",
        "            list_flag_clear_img.append(flag_clear_img)\n",
        "\n",
        "            list_img_size.append(image_size)\n",
        "            list_img_shape_ratio.append(image_shape_ratio)\n",
        "            list_img_id.append(image_files[i].split('/')[-1].replace('.jpg',''))\n",
        "        #print(resnet_preds)\n",
        "        \n",
        "    df = pd.DataFrame({'image_id': list_img_id,\n",
        "                       'flag_clear_img': list_flag_clear_img,\n",
        "                       'image_size': list_img_size,\n",
        "                       'image_shape_ratio': list_img_shape_ratio})\n",
        "    \n",
        "    print (datetime.now()-start)\n",
        "    \n",
        "    return df\n"
      ],
      "execution_count": 0,
      "outputs": []
    },
    {
      "metadata": {
        "id": "vY2o-232Hc_7",
        "colab_type": "text"
      },
      "cell_type": "markdown",
      "source": [
        "**Step 4 - Compare the deal probability of the recognisable and unrecognisable group:**\n",
        "  * The average deal probability on the recognisable is slightly higher than the unrecognisable group. It is more obvious on the 10000 sample (16.3% vs 13.9%) than the 1000 sample (14.7% vs 13.1%)."
      ]
    },
    {
      "metadata": {
        "id": "LIMZknh_EOUS",
        "colab_type": "code",
        "colab": {}
      },
      "cell_type": "code",
      "source": [
        "def report_export(df, i):\n",
        "    #Check how different the deal probability on the recognisable (ResNet is more than 80% confident) and unrecognisable images (ResNet is <= 80% confident)\n",
        "    df_w_target = pd.merge(df, train_df, how = 'left', left_on='image_id', right_on='image')\n",
        "    print('check missing rate from merge:', df_w_target.deal_probability.isnull().sum())\n",
        "    print(df_w_target.groupby(df_w_target['flag_clear_img'])['deal_probability'].agg(['count','sum','mean','min','max','median']))\n",
        "    sns.factorplot(data = df_w_target, x = 'flag_clear_img', y = 'deal_probability', kind = 'box')\n",
        "    plt.show()\n",
        "    #Histogram\n",
        "    df_w_target.loc[df_w_target.flag_clear_img == 0]['deal_probability'].plot.hist()\n",
        "    plt.title('Unrecognisable image')\n",
        "    plt.show()\n",
        "    df_w_target.loc[df_w_target.flag_clear_img == 1]['deal_probability'].plot.hist()\n",
        "    plt.title('Recognisable image')\n",
        "    plt.show()\n",
        "    \n",
        "    df_w_target[['image_id','flag_clear_img','image_size','image_shape_ratio']].to_csv('train_jpg_'+ i + '.csv')\n",
        "    files.download('train_jpg_'+ i + '.csv')\n"
      ],
      "execution_count": 0,
      "outputs": []
    },
    {
      "metadata": {
        "id": "KdYSJzv0Fkfl",
        "colab_type": "code",
        "colab": {
          "base_uri": "https://localhost:8080/",
          "height": 118
        },
        "collapsed": true,
        "outputId": "12f73f46-fd91-4c7b-8830-68ac9327e585"
      },
      "cell_type": "code",
      "source": [
        "# Call the functions\n",
        "image_files0 = read_zip(i = '0')\n",
        "df0 = extract_img_f(image_files = image_files0)\n",
        "report_export(df = df0, i = '0')\n",
        "\n",
        "image_files1 = read_zip(i = '1')\n",
        "df1 = extract_img_f(image_files = image_files1)\n",
        "report_export(df = df1, i = '1')\n",
        "\n",
        "image_files2 = read_zip(i = '2')\n",
        "df = extract_img_f(image_files = image_files2)\n",
        "report_export(df = df, i = '2')\n",
        "\n",
        "image_files3 = read_zip(i = '3')\n",
        "df3 = extract_img_f(image_files = image_files3)\n",
        "report_export(df = df3, i = '3')\n",
        "\n",
        "image_files4 = read_zip(i = '4')\n",
        "df4 = extract_img_f(image_files = image_files4)\n",
        "report_export(df = df4, i = '4')\n",
        "\n",
        "'''\n",
        "====== Runtime =======\n",
        "Loading images takes 10 mins, prediction takes ~1 hour per 100k images, so total run time is about 3.5 hours per zip archive\n",
        "\n",
        "================== Results On 0_zip images ==================\n",
        "                 count          sum      mean  min  max  median\n",
        "flag_clear_img                                                 \n",
        "0               226768  30329.68297  0.133748  0.0  1.0     0.0\n",
        "1                51398   7346.91666  0.142942  0.0  1.0     0.0\n",
        "================== Results On 1_zip images ==================\n",
        "                 count          sum      mean  min  max  median\n",
        "flag_clear_img                                                 \n",
        "0               226774  30132.30750  0.132874  0.0  1.0     0.0\n",
        "1                51392   7357.39799  0.143162  0.0  1.0     0.0\n",
        "================== Results On 2_zip images ==================\n",
        "                 count          sum      mean  min  max  median\n",
        "flag_clear_img                                                 \n",
        "0               227169  30279.05575  0.133289  0.0  1.0     0.0\n",
        "1                50997   7282.34254  0.142799  0.0  1.0     0.0\n",
        "================== Results On 3_zip images ==================\n",
        "                 count          sum      mean  min  max  median\n",
        "flag_clear_img                                                 \n",
        "0               226806  30276.31462  0.133490  0.0  1.0     0.0\n",
        "1                51361   7261.14626  0.141375  0.0  1.0     0.0\n",
        "================== Results On 4_zip images ==================\n",
        "                 count          sum      mean  min  max  median\n",
        "flag_clear_img                                                 \n",
        "0               226929  30202.73535  0.133093  0.0  1.0     0.0\n",
        "1                51238   7200.08444  0.140522  0.0  1.0     0.0\n",
        "'''"
      ],
      "execution_count": 13,
      "outputs": [
        {
          "output_type": "stream",
          "text": [
            "processing train_jpg_4\n",
            "Total number of images read into the image directory:  278167\n",
            "0:11:22.140258\n",
            "Downloading data from https://s3.amazonaws.com/deep-learning-models/image-models/imagenet_class_index.json\n",
            "40960/35363 [==================================] - 0s 3us/step\n",
            "3:11:12.884755\n"
          ],
          "name": "stdout"
        }
      ]
    },
    {
      "metadata": {
        "id": "fYcAyCp4_hV6",
        "colab_type": "code",
        "colab": {
          "base_uri": "https://localhost:8080/",
          "height": 1100
        },
        "collapsed": true,
        "outputId": "95587ac2-ffa6-4926-e57d-1aad6a0e0587"
      },
      "cell_type": "code",
      "source": [
        "#@title\n",
        "#report_export(df = df4, i = '4')"
      ],
      "execution_count": 14,
      "outputs": [
        {
          "output_type": "stream",
          "text": [
            "check missing rate from merge: 0\n",
            "                 count          sum      mean  min  max  median\n",
            "flag_clear_img                                                 \n",
            "0               226929  30202.73535  0.133093  0.0  1.0     0.0\n",
            "1                51238   7200.08444  0.140522  0.0  1.0     0.0\n"
          ],
          "name": "stdout"
        },
        {
          "output_type": "stream",
          "text": [
            "/usr/local/lib/python3.6/dist-packages/seaborn/categorical.py:454: FutureWarning: remove_na is deprecated and is a private function. Do not use.\n",
            "  box_data = remove_na(group_data)\n"
          ],
          "name": "stderr"
        },
        {
          "output_type": "display_data",
          "data": {
            "image/png": "[encoded data removed]",
            "text/plain": [
              "<matplotlib.figure.Figure at 0x7f6c89ef6c18>"
            ]
          },
          "metadata": {
            "tags": []
          }
        },
        {
          "output_type": "display_data",
          "data": {
            "image/png": "[encoded data removed]",
            "text/plain": [
              "<matplotlib.figure.Figure at 0x7f6c89eba9e8>"
            ]
          },
          "metadata": {
            "tags": []
          }
        },
        {
          "output_type": "display_data",
          "data": {
            "image/png": "[encoded data removed]",
            "text/plain": [
              "<matplotlib.figure.Figure at 0x7f6c89fc12e8>"
            ]
          },
          "metadata": {
            "tags": []
          }
        }
      ]
    }
  ]
}