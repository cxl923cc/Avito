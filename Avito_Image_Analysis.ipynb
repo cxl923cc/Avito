{
  "nbformat": 4,
  "nbformat_minor": 0,
  "metadata": {
    "colab": {
      "name": "Avito - Image Analysis.ipynb",
      "version": "0.3.2",
      "provenance": [],
      "collapsed_sections": [
        "JndnmDMp66FL",
        "dPpJUV862FYI",
        "i2e3TlyL57Qs",
        "wCugvl0JdWYL"
      ]
    },
    "kernelspec": {
      "name": "python3",
      "display_name": "Python 3"
    },
    "accelerator": "GPU"
  },
  "cells": [
    {
      "cell_type": "markdown",
      "metadata": {
        "id": "view-in-github",
        "colab_type": "text"
      },
      "source": [
        "[View in Colaboratory](https://colab.research.google.com/github/cxl923cc/Avito/blob/master/Avito_Image_Analysis.ipynb)"
      ]
    },
    {
      "metadata": {
        "id": "g4T-_IsVbweU",
        "colab_type": "text"
      },
      "cell_type": "markdown",
      "source": [
        "# Avito Demand Prediction"
      ]
    },
    {
      "metadata": {
        "id": "LEAHZv4rIYHX",
        "colab_type": "text"
      },
      "cell_type": "markdown",
      "source": [
        "**Step 1 - Preparation:**\n",
        "  * Set up Kaggle API\n",
        "  * Download image data and train master (zipped file), unzip the files\n",
        "  * Download Resnet50 from keras library"
      ]
    },
    {
      "metadata": {
        "id": "FNMk6IA_2PGy",
        "colab_type": "code",
        "colab": {
          "base_uri": "https://localhost:8080/",
          "height": 219
        },
        "outputId": "535f32bc-3206-4207-8226-9c17e6f05bb6"
      },
      "cell_type": "code",
      "source": [
        "!pip install kaggle"
      ],
      "execution_count": 0,
      "outputs": [
        {
          "output_type": "stream",
          "text": [
            "Collecting kaggle\n",
            "  Downloading https://files.pythonhosted.org/packages/9c/a3/0fb0869ff912717b9ba3eb719f2bbb381092959be097aa1333bd7f8ff3f2/kaggle-1.3.5.tar.gz\n",
            "Requirement already satisfied: urllib3>=1.15 in /usr/local/lib/python3.6/dist-packages (from kaggle) (1.22)\n",
            "Requirement already satisfied: six>=1.10 in /usr/local/lib/python3.6/dist-packages (from kaggle) (1.11.0)\n",
            "Requirement already satisfied: certifi in /usr/local/lib/python3.6/dist-packages (from kaggle) (2018.4.16)\n",
            "Requirement already satisfied: python-dateutil in /usr/local/lib/python3.6/dist-packages (from kaggle) (2.5.3)\n",
            "Building wheels for collected packages: kaggle\n",
            "  Running setup.py bdist_wheel for kaggle ... \u001b[?25l-\b \bdone\n",
            "\u001b[?25h  Stored in directory: /content/.cache/pip/wheels/2f/ba/5f/b59c5344c9f91464e4f805dba9b091896008d6ea7153edcacf\n",
            "Successfully built kaggle\n",
            "Installing collected packages: kaggle\n",
            "Successfully installed kaggle-1.3.5\n"
          ],
          "name": "stdout"
        }
      ]
    },
    {
      "metadata": {
        "id": "IDtWD2-d0r4P",
        "colab_type": "code",
        "colab": {
          "base_uri": "https://localhost:8080/",
          "height": 34
        },
        "outputId": "8b6c95fc-9866-4354-889e-af48ba330288"
      },
      "cell_type": "code",
      "source": [
        "from googleapiclient.discovery import build\n",
        "import io, os\n",
        "from googleapiclient.http import MediaIoBaseDownload\n",
        "from google.colab import auth\n",
        "auth.authenticate_user()\n",
        "drive_service = build('drive', 'v3')\n",
        "results = drive_service.files().list(\n",
        "        q=\"name = 'kaggle.json'\", fields=\"files(id)\").execute()\n",
        "kaggle_api_key = results.get('files', [])\n",
        "filename = \"/content/.kaggle/kaggle.json\"\n",
        "os.makedirs(os.path.dirname(filename), exist_ok=True)\n",
        "request = drive_service.files().get_media(fileId=kaggle_api_key[0]['id'])\n",
        "fh = io.FileIO(filename, 'wb')\n",
        "downloader = MediaIoBaseDownload(fh, request)\n",
        "done = False\n",
        "while done is False:\n",
        "    status, done = downloader.next_chunk()\n",
        "    print(\"Download %d%%.\" % int(status.progress() * 100))\n",
        "os.chmod(filename, 600)"
      ],
      "execution_count": 0,
      "outputs": [
        {
          "output_type": "stream",
          "text": [
            "Download 100%.\n"
          ],
          "name": "stdout"
        }
      ]
    },
    {
      "metadata": {
        "id": "Fb05ZtId2_gI",
        "colab_type": "code",
        "colab": {
          "base_uri": "https://localhost:8080/",
          "height": 387
        },
        "outputId": "4f5e56e9-2f64-4570-e678-febdff0b5471"
      },
      "cell_type": "code",
      "source": [
        "!kaggle competitions list"
      ],
      "execution_count": 0,
      "outputs": [
        {
          "output_type": "stream",
          "text": [
            "ref                                             deadline             category            reward  teamCount  userHasEntered  \r\n",
            "----------------------------------------------  -------------------  ---------------  ---------  ---------  --------------  \r\n",
            "imagenet-object-detection-challenge             2029-12-31 07:00:00  Research         Knowledge          0           False  \r\n",
            "imagenet-object-detection-from-video-challenge  2029-12-31 07:00:00  Research         Knowledge          0           False  \r\n",
            "imagenet-object-localization-challenge          2029-12-31 07:00:00  Research         Knowledge          8           False  \r\n",
            "titanic                                         2020-04-07 00:00:00  Getting Started  Knowledge      11216            True  \r\n",
            "house-prices-advanced-regression-techniques     2020-03-01 23:59:00  Getting Started  Knowledge       5248            True  \r\n",
            "digit-recognizer                                2020-01-07 00:00:00  Getting Started  Knowledge       2393           False  \r\n",
            "competitive-data-science-predict-future-sales   2019-01-01 23:59:00  Playground           Kudos        419           False  \r\n",
            "trackml-particle-identification                 2018-08-13 23:59:00  Featured           $25,000         87           False  \r\n",
            "freesound-audio-tagging                         2018-07-31 23:59:00  Research         Knowledge        107           False  \r\n",
            "whale-categorization-playground                 2018-07-09 23:59:00  Playground           Kudos        241           False  \r\n",
            "avito-demand-prediction                         2018-06-27 23:59:00  Featured           $25,000        514            True  \r\n",
            "cvpr-2018-autonomous-driving                    2018-06-11 23:59:00  Research            $2,500         55           False  \r\n",
            "inaturalist-2018                                2018-06-04 23:59:00  Research             Kudos         41           False  \r\n",
            "imaterialist-challenge-fashion-2018             2018-05-30 23:59:00  Research            $2,500        107           False  \r\n",
            "imaterialist-challenge-furniture-2018           2018-05-30 23:59:00  Research            $2,500        293           False  \r\n",
            "landmark-retrieval-challenge                    2018-05-22 23:59:00  Research            $2,500        145           False  \r\n",
            "landmark-recognition-challenge                  2018-05-22 23:59:00  Research            $2,500        343           False  \r\n",
            "talkingdata-adtracking-fraud-detection          2018-05-07 23:59:00  Featured           $25,000       3867            True  \r\n",
            "donorschoose-application-screening              2018-04-25 23:59:00  Playground            Swag        581           False  \r\n",
            "data-science-bowl-2018                          2018-04-16 23:59:00  Featured          $100,000       3634            True  \r\n"
          ],
          "name": "stdout"
        }
      ]
    },
    {
      "metadata": {
        "id": "78mWKaS53B5Z",
        "colab_type": "code",
        "colab": {
          "base_uri": "https://localhost:8080/",
          "height": 286
        },
        "outputId": "3f6ccbba-9729-4724-bfc8-ef5321373f61"
      },
      "cell_type": "code",
      "source": [
        "!kaggle competitions files -c avito-demand-prediction"
      ],
      "execution_count": 0,
      "outputs": [
        {
          "output_type": "stream",
          "text": [
            "name                    size  creationDate         \r\n",
            "---------------------  -----  -------------------  \r\n",
            "sample_submission.csv    8MB  2018-04-23 21:26:51  \r\n",
            "test_jpg.zip            19GB  2018-04-23 22:09:42  \r\n",
            "train_jpg.zip           49GB  2018-04-23 23:06:39  \r\n",
            "test.csv.zip           107MB  2018-04-24 18:25:00  \r\n",
            "periods_test.csv.zip   136MB  2018-04-24 18:25:02  \r\n",
            "periods_train.csv.zip  170MB  2018-04-24 18:25:04  \r\n",
            "train.csv.zip          308MB  2018-04-24 18:26:58  \r\n",
            "test_active.csv.zip      2GB  2018-04-24 18:31:08  \r\n",
            "train_active.csv.zip     3GB  2018-04-24 18:44:13  \r\n",
            "train_jpg_4.zip         10GB  2018-05-01 22:40:01  \r\n",
            "train_jpg_2.zip         10GB  2018-05-01 22:40:05  \r\n",
            "train_jpg_1.zip         10GB  2018-05-01 22:40:06  \r\n",
            "train_jpg_0.zip         10GB  2018-05-01 22:40:06  \r\n",
            "train_jpg_3.zip         10GB  2018-05-01 22:40:06  \r\n"
          ],
          "name": "stdout"
        }
      ]
    },
    {
      "metadata": {
        "id": "_LsHaT9T3SM2",
        "colab_type": "code",
        "colab": {
          "base_uri": "https://localhost:8080/",
          "height": 34
        },
        "outputId": "13996527-2397-4743-965e-184f1259eea5"
      },
      "cell_type": "code",
      "source": [
        "!kaggle competitions download -c avito-demand-prediction -f train_jpg_0.zip   \n",
        "#Download of train_jpg_0.zip started at 8:53pm finished at 8:55pm"
      ],
      "execution_count": 0,
      "outputs": [
        {
          "output_type": "stream",
          "text": [
            "train_jpg_0.zip: Downloaded 10GB of 10GB\n"
          ],
          "name": "stdout"
        }
      ]
    },
    {
      "metadata": {
        "id": "6ES-f7rI6G7X",
        "colab_type": "code",
        "colab": {
          "base_uri": "https://localhost:8080/",
          "height": 34
        },
        "outputId": "ef89f344-8011-46f0-b2d2-25d7cdd8123a"
      },
      "cell_type": "code",
      "source": [
        "!kaggle competitions download -c avito-demand-prediction -f train.csv.zip"
      ],
      "execution_count": 0,
      "outputs": [
        {
          "output_type": "stream",
          "text": [
            "train.csv.zip: Downloaded 308MB of 308MB\n"
          ],
          "name": "stdout"
        }
      ]
    },
    {
      "metadata": {
        "id": "LP22Zm4W7u48",
        "colab_type": "code",
        "colab": {
          "base_uri": "https://localhost:8080/",
          "height": 51
        },
        "outputId": "9c68acdd-19e9-49e0-a12b-605dc68a2d13"
      },
      "cell_type": "code",
      "source": [
        "!unzip .kaggle/competitions/avito-demand-prediction/train.csv.zip\n",
        "#After unzip, train.csv is under the home folder"
      ],
      "execution_count": 0,
      "outputs": [
        {
          "output_type": "stream",
          "text": [
            "Archive:  .kaggle/competitions/avito-demand-prediction/train.csv.zip\n",
            "  inflating: train.csv               \n"
          ],
          "name": "stdout"
        }
      ]
    },
    {
      "metadata": {
        "id": "Wt_9ExDh9t4z",
        "colab_type": "code",
        "colab": {
          "base_uri": "https://localhost:8080/",
          "height": 34
        },
        "outputId": "82b7799c-26ea-480d-800b-f21507892a15"
      },
      "cell_type": "code",
      "source": [
        "!ls .kaggle/competitions/avito-demand-prediction/\n",
        "#train.csv.zip  train_jpg_0.zip are under the kaggle folder"
      ],
      "execution_count": 0,
      "outputs": [
        {
          "output_type": "stream",
          "text": [
            "train.csv.zip  train_jpg_0.zip\r\n"
          ],
          "name": "stdout"
        }
      ]
    },
    {
      "metadata": {
        "id": "D1yVVXRa5FTD",
        "colab_type": "code",
        "colab": {}
      },
      "cell_type": "code",
      "source": [
        "import os\n",
        "\n",
        "import numpy as np\n",
        "import pandas as pd\n",
        "from keras.preprocessing import image\n",
        "import keras.applications.resnet50 as resnet50\n",
        "import keras.applications.xception as xception\n",
        "import keras.applications.inception_v3 as inception_v3\n",
        "import matplotlib.pyplot as plt\n",
        "import seaborn as sns\n",
        "from PIL import Image"
      ],
      "execution_count": 0,
      "outputs": []
    },
    {
      "metadata": {
        "id": "CnR8Wj767lxg",
        "colab_type": "code",
        "colab": {
          "base_uri": "https://localhost:8080/",
          "height": 51
        },
        "outputId": "a4def3fa-c35e-4d0b-a80a-fcfdad82cb39"
      },
      "cell_type": "code",
      "source": [
        "resnet_model = resnet50.ResNet50(weights='imagenet')"
      ],
      "execution_count": 0,
      "outputs": [
        {
          "output_type": "stream",
          "text": [
            "Downloading data from https://github.com/fchollet/deep-learning-models/releases/download/v0.2/resnet50_weights_tf_dim_ordering_tf_kernels.h5\n",
            "102858752/102853048 [==============================] - 1s 0us/step\n"
          ],
          "name": "stdout"
        }
      ]
    },
    {
      "metadata": {
        "id": "n03bb8-3AdCM",
        "colab_type": "text"
      },
      "cell_type": "markdown",
      "source": [
        "**Step 2 - Read Data:**\n",
        "  * Read train master file into a dataframe 'train_df'\n",
        "  * Read 1000-10000 images"
      ]
    },
    {
      "metadata": {
        "id": "9S8LzodA_qMj",
        "colab_type": "code",
        "colab": {
          "base_uri": "https://localhost:8080/",
          "height": 367
        },
        "outputId": "658f2bd7-6f90-49a3-d4d9-f8cc6c2db92e"
      },
      "cell_type": "code",
      "source": [
        "train_df = pd.read_csv('train.csv')\n",
        "train_df.head()"
      ],
      "execution_count": 0,
      "outputs": [
        {
          "output_type": "execute_result",
          "data": {
            "text/html": [
              "<div>\n",
              "<style scoped>\n",
              "    .dataframe tbody tr th:only-of-type {\n",
              "        vertical-align: middle;\n",
              "    }\n",
              "\n",
              "    .dataframe tbody tr th {\n",
              "        vertical-align: top;\n",
              "    }\n",
              "\n",
              "    .dataframe thead th {\n",
              "        text-align: right;\n",
              "    }\n",
              "</style>\n",
              "<table border=\"1\" class=\"dataframe\">\n",
              "  <thead>\n",
              "    <tr style=\"text-align: right;\">\n",
              "      <th></th>\n",
              "      <th>item_id</th>\n",
              "      <th>user_id</th>\n",
              "      <th>region</th>\n",
              "      <th>city</th>\n",
              "      <th>parent_category_name</th>\n",
              "      <th>category_name</th>\n",
              "      <th>param_1</th>\n",
              "      <th>param_2</th>\n",
              "      <th>param_3</th>\n",
              "      <th>title</th>\n",
              "      <th>description</th>\n",
              "      <th>price</th>\n",
              "      <th>item_seq_number</th>\n",
              "      <th>activation_date</th>\n",
              "      <th>user_type</th>\n",
              "      <th>image</th>\n",
              "      <th>image_top_1</th>\n",
              "      <th>deal_probability</th>\n",
              "    </tr>\n",
              "  </thead>\n",
              "  <tbody>\n",
              "    <tr>\n",
              "      <th>0</th>\n",
              "      <td>b912c3c6a6ad</td>\n",
              "      <td>e00f8ff2eaf9</td>\n",
              "      <td>Свердловская область</td>\n",
              "      <td>Екатеринбург</td>\n",
              "      <td>Личные вещи</td>\n",
              "      <td>Товары для детей и игрушки</td>\n",
              "      <td>Постельные принадлежности</td>\n",
              "      <td>NaN</td>\n",
              "      <td>NaN</td>\n",
              "      <td>Кокоби(кокон для сна)</td>\n",
              "      <td>Кокон для сна малыша,пользовались меньше месяц...</td>\n",
              "      <td>400.0</td>\n",
              "      <td>2</td>\n",
              "      <td>2017-03-28</td>\n",
              "      <td>Private</td>\n",
              "      <td>d10c7e016e03247a3bf2d13348fe959fe6f436c1caf64c...</td>\n",
              "      <td>1008.0</td>\n",
              "      <td>0.12789</td>\n",
              "    </tr>\n",
              "    <tr>\n",
              "      <th>1</th>\n",
              "      <td>2dac0150717d</td>\n",
              "      <td>39aeb48f0017</td>\n",
              "      <td>Самарская область</td>\n",
              "      <td>Самара</td>\n",
              "      <td>Для дома и дачи</td>\n",
              "      <td>Мебель и интерьер</td>\n",
              "      <td>Другое</td>\n",
              "      <td>NaN</td>\n",
              "      <td>NaN</td>\n",
              "      <td>Стойка для Одежды</td>\n",
              "      <td>Стойка для одежды, под вешалки. С бутика.</td>\n",
              "      <td>3000.0</td>\n",
              "      <td>19</td>\n",
              "      <td>2017-03-26</td>\n",
              "      <td>Private</td>\n",
              "      <td>79c9392cc51a9c81c6eb91eceb8e552171db39d7142700...</td>\n",
              "      <td>692.0</td>\n",
              "      <td>0.00000</td>\n",
              "    </tr>\n",
              "    <tr>\n",
              "      <th>2</th>\n",
              "      <td>ba83aefab5dc</td>\n",
              "      <td>91e2f88dd6e3</td>\n",
              "      <td>Ростовская область</td>\n",
              "      <td>Ростов-на-Дону</td>\n",
              "      <td>Бытовая электроника</td>\n",
              "      <td>Аудио и видео</td>\n",
              "      <td>Видео, DVD и Blu-ray плееры</td>\n",
              "      <td>NaN</td>\n",
              "      <td>NaN</td>\n",
              "      <td>Philips bluray</td>\n",
              "      <td>В хорошем состоянии, домашний кинотеатр с blu ...</td>\n",
              "      <td>4000.0</td>\n",
              "      <td>9</td>\n",
              "      <td>2017-03-20</td>\n",
              "      <td>Private</td>\n",
              "      <td>b7f250ee3f39e1fedd77c141f273703f4a9be59db4b48a...</td>\n",
              "      <td>3032.0</td>\n",
              "      <td>0.43177</td>\n",
              "    </tr>\n",
              "    <tr>\n",
              "      <th>3</th>\n",
              "      <td>02996f1dd2ea</td>\n",
              "      <td>bf5cccea572d</td>\n",
              "      <td>Татарстан</td>\n",
              "      <td>Набережные Челны</td>\n",
              "      <td>Личные вещи</td>\n",
              "      <td>Товары для детей и игрушки</td>\n",
              "      <td>Автомобильные кресла</td>\n",
              "      <td>NaN</td>\n",
              "      <td>NaN</td>\n",
              "      <td>Автокресло</td>\n",
              "      <td>Продам кресло от0-25кг</td>\n",
              "      <td>2200.0</td>\n",
              "      <td>286</td>\n",
              "      <td>2017-03-25</td>\n",
              "      <td>Company</td>\n",
              "      <td>e6ef97e0725637ea84e3d203e82dadb43ed3cc0a1c8413...</td>\n",
              "      <td>796.0</td>\n",
              "      <td>0.80323</td>\n",
              "    </tr>\n",
              "    <tr>\n",
              "      <th>4</th>\n",
              "      <td>7c90be56d2ab</td>\n",
              "      <td>ef50846afc0b</td>\n",
              "      <td>Волгоградская область</td>\n",
              "      <td>Волгоград</td>\n",
              "      <td>Транспорт</td>\n",
              "      <td>Автомобили</td>\n",
              "      <td>С пробегом</td>\n",
              "      <td>ВАЗ (LADA)</td>\n",
              "      <td>2110</td>\n",
              "      <td>ВАЗ 2110, 2003</td>\n",
              "      <td>Все вопросы по телефону.</td>\n",
              "      <td>40000.0</td>\n",
              "      <td>3</td>\n",
              "      <td>2017-03-16</td>\n",
              "      <td>Private</td>\n",
              "      <td>54a687a3a0fc1d68aed99bdaaf551c5c70b761b16fd0a2...</td>\n",
              "      <td>2264.0</td>\n",
              "      <td>0.20797</td>\n",
              "    </tr>\n",
              "  </tbody>\n",
              "</table>\n",
              "</div>"
            ],
            "text/plain": [
              "        item_id       user_id                 region              city  \\\n",
              "0  b912c3c6a6ad  e00f8ff2eaf9   Свердловская область      Екатеринбург   \n",
              "1  2dac0150717d  39aeb48f0017      Самарская область            Самара   \n",
              "2  ba83aefab5dc  91e2f88dd6e3     Ростовская область    Ростов-на-Дону   \n",
              "3  02996f1dd2ea  bf5cccea572d              Татарстан  Набережные Челны   \n",
              "4  7c90be56d2ab  ef50846afc0b  Волгоградская область         Волгоград   \n",
              "\n",
              "  parent_category_name               category_name  \\\n",
              "0          Личные вещи  Товары для детей и игрушки   \n",
              "1      Для дома и дачи           Мебель и интерьер   \n",
              "2  Бытовая электроника               Аудио и видео   \n",
              "3          Личные вещи  Товары для детей и игрушки   \n",
              "4            Транспорт                  Автомобили   \n",
              "\n",
              "                       param_1     param_2 param_3                  title  \\\n",
              "0    Постельные принадлежности         NaN     NaN  Кокоби(кокон для сна)   \n",
              "1                       Другое         NaN     NaN      Стойка для Одежды   \n",
              "2  Видео, DVD и Blu-ray плееры         NaN     NaN         Philips bluray   \n",
              "3         Автомобильные кресла         NaN     NaN             Автокресло   \n",
              "4                   С пробегом  ВАЗ (LADA)    2110         ВАЗ 2110, 2003   \n",
              "\n",
              "                                         description    price  \\\n",
              "0  Кокон для сна малыша,пользовались меньше месяц...    400.0   \n",
              "1          Стойка для одежды, под вешалки. С бутика.   3000.0   \n",
              "2  В хорошем состоянии, домашний кинотеатр с blu ...   4000.0   \n",
              "3                             Продам кресло от0-25кг   2200.0   \n",
              "4                           Все вопросы по телефону.  40000.0   \n",
              "\n",
              "   item_seq_number activation_date user_type  \\\n",
              "0                2      2017-03-28   Private   \n",
              "1               19      2017-03-26   Private   \n",
              "2                9      2017-03-20   Private   \n",
              "3              286      2017-03-25   Company   \n",
              "4                3      2017-03-16   Private   \n",
              "\n",
              "                                               image  image_top_1  \\\n",
              "0  d10c7e016e03247a3bf2d13348fe959fe6f436c1caf64c...       1008.0   \n",
              "1  79c9392cc51a9c81c6eb91eceb8e552171db39d7142700...        692.0   \n",
              "2  b7f250ee3f39e1fedd77c141f273703f4a9be59db4b48a...       3032.0   \n",
              "3  e6ef97e0725637ea84e3d203e82dadb43ed3cc0a1c8413...        796.0   \n",
              "4  54a687a3a0fc1d68aed99bdaaf551c5c70b761b16fd0a2...       2264.0   \n",
              "\n",
              "   deal_probability  \n",
              "0           0.12789  \n",
              "1           0.00000  \n",
              "2           0.43177  \n",
              "3           0.80323  \n",
              "4           0.20797  "
            ]
          },
          "metadata": {
            "tags": []
          },
          "execution_count": 38
        }
      ]
    },
    {
      "metadata": {
        "id": "8NlSghdiBX5e",
        "colab_type": "code",
        "colab": {
          "base_uri": "https://localhost:8080/",
          "height": 34
        },
        "outputId": "aa6fd0cf-d272-40f4-aad4-ca79e45da081"
      },
      "cell_type": "code",
      "source": [
        "images_dir = os.path.expanduser(os.path.join('~', 'avito_images'))\n",
        "if not os.path.exists(images_dir):\n",
        "    os.makedirs(images_dir)"
      ],
      "execution_count": 0,
      "outputs": [
        {
          "output_type": "stream",
          "text": [
            "avito_images  datalab  train.csv\r\n"
          ],
          "name": "stdout"
        }
      ]
    },
    {
      "metadata": {
        "id": "Aq-8mrHt_kW4",
        "colab_type": "code",
        "colab": {
          "base_uri": "https://localhost:8080/",
          "height": 34
        },
        "outputId": "c8acad67-00f8-416f-f1ad-41abac9782eb"
      },
      "cell_type": "code",
      "source": [
        "from datetime import datetime\n",
        "start=datetime.now()\n",
        "\n",
        "import zipfile\n",
        "\n",
        "NUM_IMAGES_TO_EXTRACT = 10000\n",
        "\n",
        "with zipfile.ZipFile('.kaggle/competitions/avito-demand-prediction/train_jpg_0.zip', 'r') as train_zip:\n",
        "    files_in_zip = sorted(train_zip.namelist())\n",
        "    for idx, file in enumerate(files_in_zip[:NUM_IMAGES_TO_EXTRACT]):\n",
        "        if file.endswith('.jpg'):\n",
        "            train_zip.extract(file, path=file)\n",
        "\n",
        "!mv *.jpg/* ~/avito_images\n",
        "!rm -rf *.jpg\n",
        "\n",
        "image_files = [x.path for x in os.scandir(images_dir)]\n",
        "len(image_files)\n",
        "\n",
        "print (datetime.now()-start)\n",
        "#Load 1000 images takes 30 seconds (Kaggle kernel) -> 7 seconds (colab)\n",
        "#Load 2000 images takes 50 seconds (Kaggle kernel) -> 10 seconds (colab)\n",
        "#Load 10000 images takes - 32 seconds (colab) (13 seconds for the 2nd run)"
      ],
      "execution_count": 0,
      "outputs": [
        {
          "output_type": "stream",
          "text": [
            "0:00:12.604695\n"
          ],
          "name": "stdout"
        }
      ]
    },
    {
      "metadata": {
        "id": "3yIqunW6GPAU",
        "colab_type": "text"
      },
      "cell_type": "markdown",
      "source": [
        "**Step 3 - Make Prediction:**\n",
        "  * Make predictions on 1000-10000 images and take the top predicted class\n",
        "  * Set the confidence threshold as 0.8 meaning when ResNet is 80% sure about the top predicted class, we assume the image is recognisable and assign a flag ('flag_clear_img') 1 to the image, otherwise 0."
      ]
    },
    {
      "metadata": {
        "id": "FrmFJF41_NB7",
        "colab_type": "code",
        "colab": {
          "base_uri": "https://localhost:8080/",
          "height": 34
        },
        "outputId": "b715d323-8f25-4171-8b84-ffa92e9fe98f"
      },
      "cell_type": "code",
      "source": [
        "#Create a flag to identify whether the top probability is larger than 80%\n",
        "#Threshold of the first prediction\n",
        "from datetime import datetime\n",
        "start=datetime.now()\n",
        "\n",
        "p_top_thresh = 0.8\n",
        "list_img_id = []\n",
        "list_flag_clear_img = []\n",
        "\n",
        "for i in range(0, NUM_IMAGES_TO_EXTRACT-1):\n",
        "#for i in range(0, 10):\n",
        "    flag_clear_img = 0\n",
        "    img = Image.open(image_files[i])\n",
        "    \"\"\"Classify image and return top matches.\"\"\"\n",
        "    target_size = (224, 224)\n",
        "    if img.size != target_size:\n",
        "        img = img.resize(target_size)\n",
        "    x = image.img_to_array(img)\n",
        "    x = np.expand_dims(x, axis=0)\n",
        "    x = resnet50.preprocess_input(x)\n",
        "    preds = resnet_model.predict(x)\n",
        "    resnet_preds = resnet50.decode_predictions(preds, top=3)[0]\n",
        "    #Top probability\n",
        "    if resnet_preds[0][2] > p_top_thresh:\n",
        "        flag_clear_img = 1\n",
        "    list_flag_clear_img.append(flag_clear_img)\n",
        "    list_img_id.append(image_files[i].split('/')[-1].replace('.jpg',''))\n",
        "    #print(resnet_preds)\n",
        "df = pd.DataFrame({'image_id': list_img_id,\n",
        "                       'flag_clear_img': list_flag_clear_img})\n",
        "df\n",
        "#Add another two networks\n",
        "#Similarity between the top 2 categories\n",
        "#elif \n",
        "\n",
        "print (datetime.now()-start)\n",
        "#Predict 1000 images - 7.5 mins (Kaggle kernel) -> 40 seconds (colab)\n",
        "#Predict 10000 images - 6.5 mins (colab)"
      ],
      "execution_count": 0,
      "outputs": [
        {
          "output_type": "stream",
          "text": [
            "0:06:25.534132\n"
          ],
          "name": "stdout"
        }
      ]
    },
    {
      "metadata": {
        "id": "vY2o-232Hc_7",
        "colab_type": "text"
      },
      "cell_type": "markdown",
      "source": [
        "**Step 4 - Compare the deal probability of the recognisable and unrecognisable group:**\n",
        "  * The average deal probability on the recognisable is slightly higher than the unrecognisable group. It is more obvious on the 10000 sample (16.3% vs 13.9%) than the 1000 sample (14.7% vs 13.1%)."
      ]
    },
    {
      "metadata": {
        "id": "LIMZknh_EOUS",
        "colab_type": "code",
        "colab": {
          "base_uri": "https://localhost:8080/",
          "height": 1137
        },
        "outputId": "d7742b51-73b0-481c-daf9-06aa53447882"
      },
      "cell_type": "code",
      "source": [
        "#Check how different the deal probability on the recognisable (ResNet is more than 50% confident) and unrecognisable images (ResNet is <= 50% confident)\n",
        "df_w_target = pd.merge(df, train_df, how = 'left', left_on='image_id', right_on='image')\n",
        "print('check missing rate from merge:', df_w_target.deal_probability.isnull().sum())\n",
        "print(df_w_target.groupby(df_w_target['flag_clear_img'])['deal_probability'].agg(['count','sum','mean','min','max','median']))\n",
        "sns.factorplot(data = df_w_target, x = 'flag_clear_img', y = 'deal_probability', kind = 'box')\n",
        "plt.show()\n",
        "#Histogram\n",
        "df_w_target.loc[df_w_target.flag_clear_img == 0]['deal_probability'].plot.hist()\n",
        "plt.title('Unrecognisable image')\n",
        "plt.show()\n",
        "df_w_target.loc[df_w_target.flag_clear_img == 1]['deal_probability'].plot.hist()\n",
        "plt.title('Recognisable image')\n",
        "plt.show()\n",
        "\n",
        "'''\n",
        "================== Results On 1000 images ==================\n",
        "                count        sum      mean  min  max  median\n",
        "flag_clear_img                                              \n",
        "0                 813  106.21661  0.130648  0.0  1.0     0.0\n",
        "1                 186   27.40012  0.147312  0.0  1.0     0.0\n",
        "\n",
        "================== Results On 10000 images ==================\n",
        "\n",
        "                count         sum      mean  min  max  median\n",
        "flag_clear_img                                               \n",
        "0                8181  1133.61985  0.138567  0.0  1.0     0.0\n",
        "1                1818   297.02736  0.163381  0.0  1.0     0.0\n",
        "'''"
      ],
      "execution_count": 0,
      "outputs": [
        {
          "output_type": "stream",
          "text": [
            "check missing rate from merge: 0\n",
            "                count         sum      mean  min  max  median\n",
            "flag_clear_img                                               \n",
            "0                8181  1133.61985  0.138567  0.0  1.0     0.0\n",
            "1                1818   297.02736  0.163381  0.0  1.0     0.0\n"
          ],
          "name": "stdout"
        },
        {
          "output_type": "stream",
          "text": [
            "/usr/local/lib/python3.6/dist-packages/seaborn/categorical.py:454: FutureWarning: remove_na is deprecated and is a private function. Do not use.\n",
            "  box_data = remove_na(group_data)\n"
          ],
          "name": "stderr"
        },
        {
          "output_type": "display_data",
          "data": {
            "image/png": "[encoded data removed]",
            "text/plain": [
              "<matplotlib.figure.Figure at 0x7f57a61c3978>"
            ]
          },
          "metadata": {
            "tags": []
          }
        },
        {
          "output_type": "display_data",
          "data": {
            "image/png": "[encoded data removed]",
            "text/plain": [
              "<matplotlib.figure.Figure at 0x7f574231ccc0>"
            ]
          },
          "metadata": {
            "tags": []
          }
        },
        {
          "output_type": "display_data",
          "data": {
            "image/png": "[encoded data removed]",
            "text/plain": [
              "<matplotlib.figure.Figure at 0x7f57424f9080>"
            ]
          },
          "metadata": {
            "tags": []
          }
        },
        {
          "output_type": "execute_result",
          "data": {
            "text/plain": [
              "'\\n                count        sum      mean  min  max  median\\nflag_clear_img                                              \\n0                 813  106.21661  0.130648  0.0  1.0     0.0\\n1                 186   27.40012  0.147312  0.0  1.0     0.0\\n'"
            ]
          },
          "metadata": {
            "tags": []
          },
          "execution_count": 56
        }
      ]
    }
  ]
}