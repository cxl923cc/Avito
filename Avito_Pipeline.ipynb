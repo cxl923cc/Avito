{
  "nbformat": 4,
  "nbformat_minor": 0,
  "metadata": {
    "colab": {
      "name": "Avito Pipeline.ipynb",
      "version": "0.3.2",
      "provenance": [],
      "collapsed_sections": []
    },
    "kernelspec": {
      "name": "python3",
      "display_name": "Python 3"
    },
    "accelerator": "GPU"
  },
  "cells": [
    {
      "cell_type": "markdown",
      "metadata": {
        "id": "view-in-github",
        "colab_type": "text"
      },
      "source": [
        "[View in Colaboratory](https://colab.research.google.com/github/cxl923cc/Avito/blob/master/Avito_Pipeline.ipynb)"
      ]
    },
    {
      "metadata": {
        "id": "g4T-_IsVbweU",
        "colab_type": "text"
      },
      "cell_type": "markdown",
      "source": [
        "# Avito Demand Prediction"
      ]
    },
    {
      "metadata": {
        "id": "LEAHZv4rIYHX",
        "colab_type": "text"
      },
      "cell_type": "markdown",
      "source": [
        "**Step 1 - Preparation:**\n",
        "  * Import the libraries.\n",
        "  * Set up Kaggle API\n",
        "  * Get train, test from Kaggle and feature files from Google drive\n"
      ]
    },
    {
      "metadata": {
        "id": "tV_a07IQkgD6",
        "colab_type": "code",
        "colab": {
          "base_uri": "https://localhost:8080/",
          "height": 104
        },
        "outputId": "b12ac994-4678-4355-9e14-879dbbc3297e"
      },
      "cell_type": "code",
      "source": [
        "!pip install lightgbm\n",
        "!pip install tqdm"
      ],
      "execution_count": 3,
      "outputs": [
        {
          "output_type": "stream",
          "text": [
            "Requirement already satisfied: lightgbm in /usr/local/lib/python3.6/dist-packages (2.1.1)\r\n",
            "Requirement already satisfied: scipy in /usr/local/lib/python3.6/dist-packages (from lightgbm) (0.19.1)\r\n",
            "Requirement already satisfied: numpy in /usr/local/lib/python3.6/dist-packages (from lightgbm) (1.14.3)\r\n",
            "Requirement already satisfied: scikit-learn in /usr/local/lib/python3.6/dist-packages (from lightgbm) (0.19.1)\n",
            "Requirement already satisfied: tqdm in /usr/local/lib/python3.6/dist-packages (4.23.3)\n"
          ],
          "name": "stdout"
        }
      ]
    },
    {
      "metadata": {
        "id": "fOQ7Vqi02q0i",
        "colab_type": "code",
        "colab": {}
      },
      "cell_type": "code",
      "source": [
        "import os\n",
        "\n",
        "import numpy as np\n",
        "import pandas as pd\n",
        "import matplotlib.pyplot as plt\n",
        "import seaborn as sns\n",
        "\n",
        "from datetime import datetime\n",
        "import zipfile\n",
        "import cv2\n",
        "from google.colab import files\n",
        "\n",
        "from sklearn.preprocessing import LabelEncoder\n",
        "import lightgbm as lgb\n",
        "from tqdm import tqdm\n",
        "from sklearn.feature_extraction.text import TfidfVectorizer, CountVectorizer\n",
        "from sklearn.decomposition import TruncatedSVD\n",
        "from sklearn import preprocessing, model_selection, metrics\n",
        "from sklearn.model_selection import train_test_split"
      ],
      "execution_count": 0,
      "outputs": []
    },
    {
      "metadata": {
        "id": "FNMk6IA_2PGy",
        "colab_type": "code",
        "colab": {
          "base_uri": "https://localhost:8080/",
          "height": 225
        },
        "collapsed": true,
        "outputId": "9ab4545c-19d2-41b9-e8ac-1a6c8a4a074b"
      },
      "cell_type": "code",
      "source": [
        "#@title\n",
        "!pip install kaggle"
      ],
      "execution_count": 4,
      "outputs": [
        {
          "output_type": "stream",
          "text": [
            "Collecting kaggle\n",
            "  Downloading https://files.pythonhosted.org/packages/bd/a6/d93a9492ad8f31b1a0d17225acfa066a38a27f5fc2ce9fc5034a7003fff1/kaggle-1.3.6.tar.gz\n",
            "Requirement already satisfied: urllib3>=1.15 in /usr/local/lib/python3.6/dist-packages (from kaggle) (1.22)\n",
            "Requirement already satisfied: six>=1.10 in /usr/local/lib/python3.6/dist-packages (from kaggle) (1.11.0)\n",
            "Requirement already satisfied: certifi in /usr/local/lib/python3.6/dist-packages (from kaggle) (2018.4.16)\n",
            "Requirement already satisfied: python-dateutil in /usr/local/lib/python3.6/dist-packages (from kaggle) (2.5.3)\n",
            "Building wheels for collected packages: kaggle\n",
            "  Running setup.py bdist_wheel for kaggle ... \u001b[?25l-\b \b\\\b \bdone\n",
            "\u001b[?25h  Stored in directory: /content/.cache/pip/wheels/98/be/57/a576a1f2f50f5c3bebd0c08fc3b2a6881dfde31c8217014978\n",
            "Successfully built kaggle\n",
            "Installing collected packages: kaggle\n",
            "Successfully installed kaggle-1.3.6\n"
          ],
          "name": "stdout"
        }
      ]
    },
    {
      "metadata": {
        "id": "IDtWD2-d0r4P",
        "colab_type": "code",
        "colab": {
          "base_uri": "https://localhost:8080/",
          "height": 35
        },
        "collapsed": true,
        "outputId": "f9758fb2-0901-4cbd-becd-e9b5ac445253"
      },
      "cell_type": "code",
      "source": [
        "from googleapiclient.discovery import build\n",
        "import io, os\n",
        "from googleapiclient.http import MediaIoBaseDownload\n",
        "from google.colab import auth\n",
        "auth.authenticate_user()\n",
        "drive_service = build('drive', 'v3')\n",
        "results = drive_service.files().list(\n",
        "        q=\"name = 'kaggle.json'\", fields=\"files(id)\").execute()\n",
        "kaggle_api_key = results.get('files', [])\n",
        "filename = \"/content/.kaggle/kaggle.json\"\n",
        "os.makedirs(os.path.dirname(filename), exist_ok=True)\n",
        "request = drive_service.files().get_media(fileId=kaggle_api_key[0]['id'])\n",
        "fh = io.FileIO(filename, 'wb')\n",
        "downloader = MediaIoBaseDownload(fh, request)\n",
        "done = False\n",
        "while done is False:\n",
        "    status, done = downloader.next_chunk()\n",
        "    print(\"Download %d%%.\" % int(status.progress() * 100))\n",
        "os.chmod(filename, 600)"
      ],
      "execution_count": 5,
      "outputs": [
        {
          "output_type": "stream",
          "text": [
            "Download 100%.\n"
          ],
          "name": "stdout"
        }
      ]
    },
    {
      "metadata": {
        "id": "6ES-f7rI6G7X",
        "colab_type": "code",
        "colab": {
          "base_uri": "https://localhost:8080/",
          "height": 121
        },
        "outputId": "2af49c7f-f63f-4a9f-9a90-c62a5784c8aa"
      },
      "cell_type": "code",
      "source": [
        "!kaggle competitions download -c avito-demand-prediction -f train.csv.zip\n",
        "!unzip .kaggle/competitions/avito-demand-prediction/train.csv.zip\n",
        "!kaggle competitions download -c avito-demand-prediction -f test.csv.zip\n",
        "!unzip .kaggle/competitions/avito-demand-prediction/test.csv.zip\n",
        "#After unzip, train.csv is under the home folder\n"
      ],
      "execution_count": 6,
      "outputs": [
        {
          "output_type": "stream",
          "text": [
            "train.csv.zip: Downloaded 308MB of 308MB\n",
            "Archive:  .kaggle/competitions/avito-demand-prediction/train.csv.zip\n",
            "  inflating: train.csv               \n",
            "test.csv.zip: Downloaded 107MB of 107MB\n",
            "Archive:  .kaggle/competitions/avito-demand-prediction/test.csv.zip\n",
            "  inflating: test.csv                \n"
          ],
          "name": "stdout"
        }
      ]
    },
    {
      "metadata": {
        "id": "AI1Lj1KSYeaV",
        "colab_type": "code",
        "colab": {}
      },
      "cell_type": "code",
      "source": [
        "# Install the PyDrive wrapper & import libraries.\n",
        "# This only needs to be done once in a notebook.\n",
        "!pip install -U -q PyDrive\n",
        "from pydrive.auth import GoogleAuth\n",
        "from pydrive.drive import GoogleDrive\n",
        "from google.colab import auth\n",
        "from oauth2client.client import GoogleCredentials\n",
        "\n",
        "# Authenticate and create the PyDrive client.\n",
        "# This only needs to be done once in a notebook.\n",
        "auth.authenticate_user()\n",
        "gauth = GoogleAuth()\n",
        "gauth.credentials = GoogleCredentials.get_application_default()\n",
        "drive = GoogleDrive(gauth)"
      ],
      "execution_count": 0,
      "outputs": []
    },
    {
      "metadata": {
        "id": "WxlWN08ytzT7",
        "colab_type": "code",
        "colab": {}
      },
      "cell_type": "code",
      "source": [
        "from google.colab import files\n",
        "\n",
        "csv_import = drive.CreateFile({'id':'1taVHWV-xZ3BDyhewojBHc1GGqX0vi4Og'})\n",
        "csv_import.GetContentFile('jpg_0.csv')\n",
        "\n",
        "csv_import = drive.CreateFile({'id':'1_0KF6ii09a0zlUyCVUa5hb5smh2-ALBD'})\n",
        "csv_import.GetContentFile('jpg_1.csv')\n",
        "\n",
        "csv_import = drive.CreateFile({'id':'16hKDpvcw-rMNdBgbQV2Qj3Jk38Lgr2xs'})\n",
        "csv_import.GetContentFile('jpg_2.csv')\n",
        "\n",
        "csv_import = drive.CreateFile({'id':'13x8E4hIKv-g_7lyrBqaiDwDpRtMhvaSC'})\n",
        "csv_import.GetContentFile('jpg_3.csv')\n",
        "\n",
        "csv_import = drive.CreateFile({'id':'1eimUtnnWFxYB0ti68G6QnytGzdrP3GO6'})\n",
        "csv_import.GetContentFile('jpg_4.csv')\n",
        "\n",
        "csv_import = drive.CreateFile({'id':'1P5PHzBW6Uf9IOoAFqb8aAKe_DfdiqM7X'})\n",
        "csv_import.GetContentFile('train_normal_text.csv')\n",
        "\n",
        "csv_import = drive.CreateFile({'id':'1FPtGLkY8H4c2C55sRCslIq2a_9jMWEnQ'})\n",
        "csv_import.GetContentFile('test_normal_text.csv')\n"
      ],
      "execution_count": 0,
      "outputs": []
    },
    {
      "metadata": {
        "id": "n03bb8-3AdCM",
        "colab_type": "text"
      },
      "cell_type": "markdown",
      "source": [
        "**Step 2 - Read Data:**\n",
        "  * Read feature files\n",
        "  * Read train and test master files\n",
        "  * Feature engineering\n",
        "  * Merge image and text features onto train and test\n",
        "  * Load russian stopwords, perform Tf-idf vectorisation on train and test"
      ]
    },
    {
      "metadata": {
        "id": "nuk3rM2twtCd",
        "colab_type": "code",
        "colab": {
          "base_uri": "https://localhost:8080/",
          "height": 52
        },
        "collapsed": true,
        "outputId": "ae1159fb-578c-458d-f852-6d9f384b79fb"
      },
      "cell_type": "code",
      "source": [
        "jpg_0 = pd.read_csv('jpg_0.csv', index_col=0)\n",
        "jpg_1 = pd.read_csv('jpg_1.csv', index_col=0)\n",
        "jpg_2 = pd.read_csv('jpg_2.csv', index_col=0)\n",
        "jpg_3 = pd.read_csv('jpg_3.csv', index_col=0)\n",
        "jpg_4 = pd.read_csv('jpg_4.csv', index_col=0)\n",
        "image_features = pd.concat([jpg_0, jpg_1, jpg_2, jpg_3, jpg_4], axis = 0, ignore_index = True)\n",
        "\n",
        "train_normal_text = pd.read_csv('train_normal_text.csv', index_col=0)\n",
        "test_normal_text = pd.read_csv('test_normal_text.csv', index_col=0)"
      ],
      "execution_count": 5,
      "outputs": [
        {
          "output_type": "stream",
          "text": [
            "/usr/local/lib/python3.6/dist-packages/numpy/lib/arraysetops.py:472: FutureWarning: elementwise comparison failed; returning scalar instead, but in the future will perform elementwise comparison\n",
            "  mask |= (ar1 == a)\n"
          ],
          "name": "stderr"
        }
      ]
    },
    {
      "metadata": {
        "id": "9S8LzodA_qMj",
        "colab_type": "code",
        "colab": {},
        "collapsed": true
      },
      "cell_type": "code",
      "source": [
        "train_df = pd.read_csv('train.csv', parse_dates=[\"activation_date\"])\n",
        "\n",
        "# Merge image features\n",
        "#train_df = pd.merge(train_df, image_features, how = 'left', left_on = 'image', right_on = 'image_id')\n",
        "#train_df.drop(['image_id'], axis =1, inplace = True)\n",
        "\n",
        "# Merge text columns (title and description) post normalisation\n",
        "train_normal_text.columns = ['user_id', 'item_id', 'title_pn', 'description_pn']\n",
        "train_df = pd.merge(train_df, train_normal_text[['item_id', 'title_pn', 'description_pn']], how = 'left', on = 'item_id')"
      ],
      "execution_count": 0,
      "outputs": []
    },
    {
      "metadata": {
        "id": "1jcoeVDM6uPc",
        "colab_type": "code",
        "colab": {},
        "collapsed": true
      },
      "cell_type": "code",
      "source": [
        "# Test - merge text features\n",
        "test_df = pd.read_csv('test.csv', parse_dates=[\"activation_date\"])\n",
        "\n",
        "# Merge image features\n",
        "#test_df = pd.merge(test_df, test_image_features, how = 'left', left_on = 'image', right_on = 'image_id')\n",
        "#test_df.drop(['image_id'], axis =1, inplace = True)\n",
        "\n",
        "# Merge text columns (title and description) post normalisation\n",
        "test_normal_text.columns = ['user_id', 'item_id', 'title_pn', 'description_pn']\n",
        "test_df = pd.merge(test_df, test_normal_text[['item_id', 'title_pn', 'description_pn']], how = 'left', on = 'item_id')"
      ],
      "execution_count": 0,
      "outputs": []
    },
    {
      "metadata": {
        "id": "RCOzyaxYujiE",
        "colab_type": "code",
        "colab": {
          "base_uri": "https://localhost:8080/",
          "height": 69
        },
        "outputId": "560de530-91c8-47fe-d231-76837114f181"
      },
      "cell_type": "code",
      "source": [
        "#Tabular feature + word counts in title and description\n",
        "def basic_f(df):\n",
        "    \n",
        "    df['flag_price_missing'] = df[\"price\"].isnull()*1\n",
        "    df[\"price_log\"] = df['price'].loc[df['price'].notnull()].apply(lambda x: np.log(x + 0.0001))\n",
        "    #df[\"price_log\"].fillna(-999,inplace=True)\n",
        "    \n",
        "    df[\"image_top_1\"].fillna(-999,inplace=True)\n",
        "    df['flag_image_missing'] = df['image'].isnull()*1\n",
        "    \n",
        "    df[\"weekday\"] = df['activation_date'].dt.weekday\n",
        "    df[\"weekofyear\"] = df['activation_date'].dt.week\n",
        "    df[\"dayofmonth\"] = df['activation_date'].dt.day\n",
        "    \n",
        "    df[\"title_nwords\"] = df[\"title\"].apply(lambda x: len(x.split()))\n",
        "    \n",
        "    df[\"description\"].fillna(\"NA\", inplace=True)\n",
        "    df[\"desc_nwords\"] = df[\"description\"].apply(lambda x: len(x.split()))\n",
        "    \n",
        "    df[\"description_pn\"].fillna(\"NA\", inplace=True)\n",
        "    \n",
        "basic_f(train_df)\n",
        "basic_f(test_df)\n",
        "\n",
        "print(\"\\nEncode Variables\")\n",
        "categorical = [\"region\", \"city\", \"parent_category_name\", \"category_name\", \"user_type\", \"param_1\", \"param_2\", \"param_3\"]\n",
        "print(\"Encoding :\",categorical)\n",
        "# Encoder:\n",
        "lbl = preprocessing.LabelEncoder()\n",
        "for col in categorical:\n",
        "    lbl.fit(list(train_df[col].values.astype('str')) + list(test_df[col].values.astype('str')))\n",
        "    train_df[col] = lbl.transform(list(train_df[col].values.astype('str')))\n",
        "    test_df[col] = lbl.transform(list(test_df[col].values.astype('str')))\n",
        "    "
      ],
      "execution_count": 45,
      "outputs": [
        {
          "output_type": "stream",
          "text": [
            "\n",
            "Encode Variables\n",
            "Encoding : ['region', 'city', 'parent_category_name', 'category_name', 'user_type', 'param_1', 'param_2', 'param_3']\n"
          ],
          "name": "stdout"
        }
      ]
    },
    {
      "metadata": {
        "id": "N2T7JY6K2QgH",
        "colab_type": "code",
        "colab": {
          "base_uri": "https://localhost:8080/",
          "height": 2660
        },
        "collapsed": true,
        "outputId": "1f816755-8f94-4083-cb51-e0525045a49b"
      },
      "cell_type": "code",
      "source": [
        "import nltk\n",
        "from nltk.corpus import stopwords\n",
        "nltk.download('stopwords')\n",
        "stopWords = stopwords.words('russian')\n",
        "stopWords"
      ],
      "execution_count": 46,
      "outputs": [
        {
          "output_type": "stream",
          "text": [
            "[nltk_data] Downloading package stopwords to /content/nltk_data...\n",
            "[nltk_data]   Package stopwords is already up-to-date!\n"
          ],
          "name": "stdout"
        },
        {
          "output_type": "execute_result",
          "data": {
            "text/plain": [
              "['и',\n",
              " 'в',\n",
              " 'во',\n",
              " 'не',\n",
              " 'что',\n",
              " 'он',\n",
              " 'на',\n",
              " 'я',\n",
              " 'с',\n",
              " 'со',\n",
              " 'как',\n",
              " 'а',\n",
              " 'то',\n",
              " 'все',\n",
              " 'она',\n",
              " 'так',\n",
              " 'его',\n",
              " 'но',\n",
              " 'да',\n",
              " 'ты',\n",
              " 'к',\n",
              " 'у',\n",
              " 'же',\n",
              " 'вы',\n",
              " 'за',\n",
              " 'бы',\n",
              " 'по',\n",
              " 'только',\n",
              " 'ее',\n",
              " 'мне',\n",
              " 'было',\n",
              " 'вот',\n",
              " 'от',\n",
              " 'меня',\n",
              " 'еще',\n",
              " 'нет',\n",
              " 'о',\n",
              " 'из',\n",
              " 'ему',\n",
              " 'теперь',\n",
              " 'когда',\n",
              " 'даже',\n",
              " 'ну',\n",
              " 'вдруг',\n",
              " 'ли',\n",
              " 'если',\n",
              " 'уже',\n",
              " 'или',\n",
              " 'ни',\n",
              " 'быть',\n",
              " 'был',\n",
              " 'него',\n",
              " 'до',\n",
              " 'вас',\n",
              " 'нибудь',\n",
              " 'опять',\n",
              " 'уж',\n",
              " 'вам',\n",
              " 'ведь',\n",
              " 'там',\n",
              " 'потом',\n",
              " 'себя',\n",
              " 'ничего',\n",
              " 'ей',\n",
              " 'может',\n",
              " 'они',\n",
              " 'тут',\n",
              " 'где',\n",
              " 'есть',\n",
              " 'надо',\n",
              " 'ней',\n",
              " 'для',\n",
              " 'мы',\n",
              " 'тебя',\n",
              " 'их',\n",
              " 'чем',\n",
              " 'была',\n",
              " 'сам',\n",
              " 'чтоб',\n",
              " 'без',\n",
              " 'будто',\n",
              " 'чего',\n",
              " 'раз',\n",
              " 'тоже',\n",
              " 'себе',\n",
              " 'под',\n",
              " 'будет',\n",
              " 'ж',\n",
              " 'тогда',\n",
              " 'кто',\n",
              " 'этот',\n",
              " 'того',\n",
              " 'потому',\n",
              " 'этого',\n",
              " 'какой',\n",
              " 'совсем',\n",
              " 'ним',\n",
              " 'здесь',\n",
              " 'этом',\n",
              " 'один',\n",
              " 'почти',\n",
              " 'мой',\n",
              " 'тем',\n",
              " 'чтобы',\n",
              " 'нее',\n",
              " 'сейчас',\n",
              " 'были',\n",
              " 'куда',\n",
              " 'зачем',\n",
              " 'всех',\n",
              " 'никогда',\n",
              " 'можно',\n",
              " 'при',\n",
              " 'наконец',\n",
              " 'два',\n",
              " 'об',\n",
              " 'другой',\n",
              " 'хоть',\n",
              " 'после',\n",
              " 'над',\n",
              " 'больше',\n",
              " 'тот',\n",
              " 'через',\n",
              " 'эти',\n",
              " 'нас',\n",
              " 'про',\n",
              " 'всего',\n",
              " 'них',\n",
              " 'какая',\n",
              " 'много',\n",
              " 'разве',\n",
              " 'три',\n",
              " 'эту',\n",
              " 'моя',\n",
              " 'впрочем',\n",
              " 'хорошо',\n",
              " 'свою',\n",
              " 'этой',\n",
              " 'перед',\n",
              " 'иногда',\n",
              " 'лучше',\n",
              " 'чуть',\n",
              " 'том',\n",
              " 'нельзя',\n",
              " 'такой',\n",
              " 'им',\n",
              " 'более',\n",
              " 'всегда',\n",
              " 'конечно',\n",
              " 'всю',\n",
              " 'между']"
            ]
          },
          "metadata": {
            "tags": []
          },
          "execution_count": 46
        }
      ]
    },
    {
      "metadata": {
        "id": "YC35wJURBt8Q",
        "colab_type": "code",
        "colab": {},
        "collapsed": true
      },
      "cell_type": "code",
      "source": [
        "### TFIDF Vectorizer ###\n",
        "def text_f(ngram_min, ngram_max, num_SVD, textcol, train_df, test_df):\n",
        "    tfidf_vec = TfidfVectorizer(ngram_range=(ngram_min,ngram_max), stop_words = stopWords)\n",
        "\n",
        "    train_df[textcol] = train_df[textcol].fillna('NA')\n",
        "    test_df[textcol] = test_df[textcol].fillna('NA')\n",
        "    \n",
        "    #Use Kernel's method to create vectorizor based on train and test combined\n",
        "    full_tfidf = tfidf_vec.fit_transform(train_df[textcol].values.tolist() + test_df[textcol].values.tolist())\n",
        "    train_tfidf = tfidf_vec.transform(train_df[textcol].values.tolist())\n",
        "    test_tfidf = tfidf_vec.transform(test_df[textcol].values.tolist())\n",
        "\n",
        "    ### SVD Components ###\n",
        "    n_comp = num_SVD\n",
        "    svd_obj = TruncatedSVD(n_components=n_comp, algorithm='arpack')\n",
        "    svd_obj.fit(full_tfidf)\n",
        "\n",
        "    print(textcol, ' svd explained variance_ratio is : ', svd_obj.explained_variance_ratio_.sum()) \n",
        "    \n",
        "    train_svd = pd.DataFrame(svd_obj.transform(train_tfidf))\n",
        "    test_svd = pd.DataFrame(svd_obj.transform(test_tfidf))\n",
        "    train_svd.columns = ['svd_'+textcol+'_'+str(i+1) for i in range(n_comp)]\n",
        "    test_svd.columns = ['svd_'+textcol+'_'+str(i+1) for i in range(n_comp)]\n",
        "    train_df = pd.concat([train_df, train_svd], axis=1)\n",
        "    test_df = pd.concat([test_df, test_svd], axis=1)\n",
        "    del full_tfidf, train_tfidf, test_tfidf, train_svd, test_svd\n",
        "    return train_df, test_df\n",
        "train_df, test_df = text_f(1, 1, 3, 'title', train_df, test_df)\n",
        "train_df, test_df = text_f(1, 1, 3, 'description', train_df, test_df)\n",
        "train_df, test_df = text_f(1, 1, 3, 'title_pn', train_df, test_df)\n",
        "train_df, test_df = text_f(1, 1, 3, 'description_pn', train_df, test_df)\n"
      ],
      "execution_count": 0,
      "outputs": []
    },
    {
      "metadata": {
        "id": "3yIqunW6GPAU",
        "colab_type": "text"
      },
      "cell_type": "markdown",
      "source": [
        "**Step 3 - Training and Validation:**\n",
        "  * lightgbm with 5-fold Cross Validation\n"
      ]
    },
    {
      "metadata": {
        "id": "3slDSNOr9mCx",
        "colab_type": "code",
        "colab": {
          "base_uri": "https://localhost:8080/",
          "height": 35
        },
        "outputId": "6d74d20d-bc8e-477c-c11b-477b55f01efa"
      },
      "cell_type": "code",
      "source": [
        "#Specify the features for CV\n",
        "tabular_cols = ['price_log', 'title_nwords', 'desc_nwords', 'item_seq_number']\n",
        "time_cols = ['weekday']\n",
        "encode_cols = ['region', 'city', 'parent_category_name', 'category_name','user_type', 'param_1', 'param_2', 'param_3']\n",
        "text_cols = ['svd_title_1', 'svd_title_2', 'svd_title_3', 'svd_description_pn_1', 'svd_description_pn_2', 'svd_description_pn_3']\n",
        "image_cols = ['image_top_1']\n",
        "\n",
        "select_cols = tabular_cols + time_cols + encode_cols + text_cols + image_cols\n",
        "print(len(select_cols), 'features used')\n",
        "#train_df[select_cols].info()"
      ],
      "execution_count": 69,
      "outputs": [
        {
          "output_type": "stream",
          "text": [
            "20 features used\n"
          ],
          "name": "stdout"
        }
      ]
    },
    {
      "metadata": {
        "id": "lcglyZlQuBx5",
        "colab_type": "code",
        "colab": {
          "base_uri": "https://localhost:8080/",
          "height": 1263
        },
        "collapsed": true,
        "outputId": "e36f7d5d-f2e0-4754-bb2d-4a7aadcb06ab"
      },
      "cell_type": "code",
      "source": [
        "#Specify the parameters\n",
        "%%time\n",
        "params = {\n",
        "    \"objective\" : \"regression\",\n",
        "    \"metric\" : \"rmse\",\n",
        "    \"num_leaves\" : 30,\n",
        "    \"learning_rate\" : 0.1,\n",
        "    \"bagging_fraction\" : 0.7,\n",
        "    \"feature_fraction\" : 0.7,\n",
        "    \"bagging_frequency\" : 5,\n",
        "    \"bagging_seed\" : 2018,\n",
        "    \"verbosity\" : -1\n",
        "    }\n",
        "\n",
        "\n",
        "from sklearn.cross_validation import KFold\n",
        "\n",
        "\n",
        "  \n",
        "def run_kfold(k, X_all, y_all, max_iteration, early_stop_iteration):\n",
        "    kf = KFold(train_df.shape[0], n_folds=k)\n",
        "    outcomes = []\n",
        "    eval_summary = []\n",
        "    fold = 0\n",
        "    for train_index, valid_index in kf:\n",
        "        fold += 1\n",
        "        X_train, X_valid = X_all.values[train_index], X_all.values[valid_index]\n",
        "        y_train, y_valid = y_all.values[train_index], y_all.values[valid_index]\n",
        "        lgtrain = lgb.Dataset(X_train, label=y_train)\n",
        "        lgval = lgb.Dataset(X_valid, label=y_valid)\n",
        "        evals_result = {}\n",
        "        model = lgb.train(params, lgtrain, max_iteration, valid_sets=[lgval], early_stopping_rounds=early_stop_iteration, verbose_eval=200, evals_result=evals_result)\n",
        "        print(\"Fold {0} best iteration: {1}\".format(fold, model.best_iteration))\n",
        "        \n",
        "        rmse = np.sqrt(metrics.mean_squared_error(y_valid, model.predict(X_valid, num_iteration=model.best_iteration)))\n",
        "        print(\"Fold {0} rmse: {1}\".format(fold, rmse))  \n",
        "        \n",
        "        outcomes.append(rmse)\n",
        "        eval_summary.append(evals_result['valid_0']['rmse'])\n",
        "        \n",
        "    mean_outcome = np.mean(outcomes)\n",
        "    std_outcome = np.std(outcomes)\n",
        "    print(\"Mean RMSE: {0}; Std RMSE {1}\".format(mean_outcome, std_outcome)) \n",
        "    return eval_summary\n",
        "    \n",
        "    #return model, evals_result\n",
        "\n",
        "eval_summary = run_kfold(k = 5, X_all = train_df[select_cols], y_all = train_df['deal_probability'], max_iteration = 1000, early_stop_iteration = 100)\n",
        "pd.DataFrame(dict(zip(['fold 1', 'fold 2', 'fold 3', 'fold 4', 'fold 5'], eval_summary))).plot.line()"
      ],
      "execution_count": 70,
      "outputs": [
        {
          "output_type": "stream",
          "text": [
            "Training until validation scores don't improve for 100 rounds.\n",
            "[200]\tvalid_0's rmse: 0.228255\n",
            "[400]\tvalid_0's rmse: 0.22696\n",
            "[600]\tvalid_0's rmse: 0.226218\n",
            "[800]\tvalid_0's rmse: 0.225766\n",
            "[1000]\tvalid_0's rmse: 0.225455\n",
            "Did not meet early stopping. Best iteration is:\n",
            "[1000]\tvalid_0's rmse: 0.225455\n",
            "Fold 1 best iteration: 1000\n",
            "Fold 1 rmse: 0.2254548035230029\n",
            "Training until validation scores don't improve for 100 rounds.\n",
            "[200]\tvalid_0's rmse: 0.22828\n",
            "[400]\tvalid_0's rmse: 0.226879\n",
            "[600]\tvalid_0's rmse: 0.226233\n",
            "[800]\tvalid_0's rmse: 0.225788\n",
            "[1000]\tvalid_0's rmse: 0.225503\n",
            "Did not meet early stopping. Best iteration is:\n",
            "[999]\tvalid_0's rmse: 0.225502\n",
            "Fold 2 best iteration: 999\n",
            "Fold 2 rmse: 0.22550235837796254\n",
            "Training until validation scores don't improve for 100 rounds.\n",
            "[200]\tvalid_0's rmse: 0.227946\n",
            "[400]\tvalid_0's rmse: 0.226651\n",
            "[600]\tvalid_0's rmse: 0.225979\n",
            "[800]\tvalid_0's rmse: 0.225619\n",
            "[1000]\tvalid_0's rmse: 0.225293\n",
            "Did not meet early stopping. Best iteration is:\n",
            "[1000]\tvalid_0's rmse: 0.225293\n",
            "Fold 3 best iteration: 1000\n",
            "Fold 3 rmse: 0.2252932474786601\n",
            "Training until validation scores don't improve for 100 rounds.\n",
            "[200]\tvalid_0's rmse: 0.228468\n",
            "[400]\tvalid_0's rmse: 0.227183\n",
            "[600]\tvalid_0's rmse: 0.226481\n",
            "[800]\tvalid_0's rmse: 0.226009\n",
            "[1000]\tvalid_0's rmse: 0.225739\n",
            "Did not meet early stopping. Best iteration is:\n",
            "[1000]\tvalid_0's rmse: 0.225739\n",
            "Fold 4 best iteration: 1000\n",
            "Fold 4 rmse: 0.2257387765986132\n",
            "Training until validation scores don't improve for 100 rounds.\n",
            "[200]\tvalid_0's rmse: 0.228456\n",
            "[400]\tvalid_0's rmse: 0.227157\n",
            "[600]\tvalid_0's rmse: 0.226416\n",
            "[800]\tvalid_0's rmse: 0.22597\n",
            "[1000]\tvalid_0's rmse: 0.225635\n",
            "Did not meet early stopping. Best iteration is:\n",
            "[999]\tvalid_0's rmse: 0.225634\n",
            "Fold 5 best iteration: 999\n",
            "Fold 5 rmse: 0.22563448857562285\n",
            "Mean RMSE: 0.2255247349107723; Std RMSE 0.00015286415572248315\n",
            "CPU times: user 15min 57s, sys: 6.87 s, total: 16min 4s\n",
            "Wall time: 8min 6s\n"
          ],
          "name": "stdout"
        },
        {
          "output_type": "display_data",
          "data": {
            "image/png": "[encoded data removed]",
            "text/plain": [
              "<matplotlib.figure.Figure at 0x7fa77f93a8d0>"
            ]
          },
          "metadata": {
            "tags": []
          }
        }
      ]
    },
    {
      "metadata": {
        "id": "1GFfTVjBEZ-2",
        "colab_type": "code",
        "colab": {
          "base_uri": "https://localhost:8080/",
          "height": 1090
        },
        "outputId": "29093f17-80b9-41b3-953d-94e3e1c88245"
      },
      "cell_type": "code",
      "source": [
        "# Train Test split 85%/15%, Create predictions on test\n",
        "%%time\n",
        "max_iteration = 1000\n",
        "early_stop_iteration = 100\n",
        "evals_result = {}\n",
        "#Specify the features for CV\n",
        "tabular_cols = ['price_log', 'title_nwords', 'desc_nwords', 'item_seq_number']\n",
        "time_cols = ['weekday']\n",
        "encode_cols = ['region', 'city', 'parent_category_name', 'category_name','user_type', 'param_1', 'param_2', 'param_3']\n",
        "text_cols = ['svd_title_1', 'svd_title_2', 'svd_title_3', 'svd_description_pn_1', 'svd_description_pn_2', 'svd_description_pn_3']\n",
        "image_cols = ['image_top_1']\n",
        "\n",
        "select_cols = tabular_cols + time_cols + encode_cols + text_cols + image_cols\n",
        "print(len(select_cols), 'features used')\n",
        "\n",
        "\n",
        "train_X, valid_X, train_y, valid_y = train_test_split(train_df[select_cols], train_df['deal_probability'], test_size=0.15, random_state=23)\n",
        "lgtrain = lgb.Dataset(train_X, label=train_y)\n",
        "lgval = lgb.Dataset(valid_X, label=valid_y)\n",
        "model_final = lgb.train(params, lgtrain, max_iteration, valid_sets=[lgval], early_stopping_rounds=early_stop_iteration, verbose_eval=100, evals_result=evals_result)\n",
        "#THIS IS WRONG!!!\n",
        "#lgtrain = lgb.Dataset(train_df[select_cols], label=train_df['deal_probability'])\n",
        "#model_final = lgb.train(params, lgtrain, num_boost_round=1000)\n",
        "pred_test_y = model_final.predict(test_df[select_cols])\n",
        "pd.Series(pred_test_y).plot.hist(bins = 10)"
      ],
      "execution_count": 74,
      "outputs": [
        {
          "output_type": "stream",
          "text": [
            "20 features used\n",
            "Training until validation scores don't improve for 100 rounds.\n",
            "[100]\tvalid_0's rmse: 0.230266\n",
            "[200]\tvalid_0's rmse: 0.228779\n",
            "[300]\tvalid_0's rmse: 0.227848\n",
            "[400]\tvalid_0's rmse: 0.227273\n",
            "[500]\tvalid_0's rmse: 0.22692\n",
            "[600]\tvalid_0's rmse: 0.226611\n",
            "[700]\tvalid_0's rmse: 0.226304\n",
            "[800]\tvalid_0's rmse: 0.226133\n",
            "[900]\tvalid_0's rmse: 0.225979\n",
            "[1000]\tvalid_0's rmse: 0.225871\n",
            "[1100]\tvalid_0's rmse: 0.22575\n",
            "[1200]\tvalid_0's rmse: 0.225666\n",
            "[1300]\tvalid_0's rmse: 0.225577\n",
            "[1400]\tvalid_0's rmse: 0.225464\n",
            "[1500]\tvalid_0's rmse: 0.225382\n",
            "[1600]\tvalid_0's rmse: 0.225343\n",
            "[1700]\tvalid_0's rmse: 0.225299\n",
            "[1800]\tvalid_0's rmse: 0.22524\n",
            "[1900]\tvalid_0's rmse: 0.225181\n",
            "[2000]\tvalid_0's rmse: 0.225116\n",
            "[2100]\tvalid_0's rmse: 0.225071\n",
            "[2200]\tvalid_0's rmse: 0.225051\n",
            "[2300]\tvalid_0's rmse: 0.224984\n",
            "[2400]\tvalid_0's rmse: 0.224943\n",
            "[2500]\tvalid_0's rmse: 0.224929\n",
            "[2600]\tvalid_0's rmse: 0.224893\n",
            "[2700]\tvalid_0's rmse: 0.22487\n",
            "[2800]\tvalid_0's rmse: 0.224852\n",
            "[2900]\tvalid_0's rmse: 0.224836\n",
            "[3000]\tvalid_0's rmse: 0.224813\n",
            "[3100]\tvalid_0's rmse: 0.224797\n",
            "[3200]\tvalid_0's rmse: 0.224764\n",
            "[3300]\tvalid_0's rmse: 0.224765\n",
            "[3400]\tvalid_0's rmse: 0.224733\n",
            "[3500]\tvalid_0's rmse: 0.224726\n",
            "[3600]\tvalid_0's rmse: 0.224714\n",
            "[3700]\tvalid_0's rmse: 0.224706\n",
            "Early stopping, best iteration is:\n",
            "[3644]\tvalid_0's rmse: 0.224701\n",
            "CPU times: user 11min 23s, sys: 4.81 s, total: 11min 28s\n",
            "Wall time: 5min 47s\n"
          ],
          "name": "stdout"
        },
        {
          "output_type": "display_data",
          "data": {
            "image/png": "[encoded data removed]",
            "text/plain": [
              "<matplotlib.figure.Figure at 0x7fa779e75f60>"
            ]
          },
          "metadata": {
            "tags": []
          }
        }
      ]
    },
    {
      "metadata": {
        "id": "uK7Kcr2Qef-Q",
        "colab_type": "code",
        "colab": {
          "base_uri": "https://localhost:8080/",
          "height": 218
        },
        "outputId": "f2df05e7-3c2b-4cb2-9cc3-6cee0ef489df"
      },
      "cell_type": "code",
      "source": [
        "train_df[select_cols].head()"
      ],
      "execution_count": 42,
      "outputs": [
        {
          "output_type": "execute_result",
          "data": {
            "text/html": [
              "<div>\n",
              "<style scoped>\n",
              "    .dataframe tbody tr th:only-of-type {\n",
              "        vertical-align: middle;\n",
              "    }\n",
              "\n",
              "    .dataframe tbody tr th {\n",
              "        vertical-align: top;\n",
              "    }\n",
              "\n",
              "    .dataframe thead th {\n",
              "        text-align: right;\n",
              "    }\n",
              "</style>\n",
              "<table border=\"1\" class=\"dataframe\">\n",
              "  <thead>\n",
              "    <tr style=\"text-align: right;\">\n",
              "      <th></th>\n",
              "      <th>price_log</th>\n",
              "      <th>title_nwords</th>\n",
              "      <th>desc_nwords</th>\n",
              "      <th>item_seq_number</th>\n",
              "      <th>weekday</th>\n",
              "      <th>region</th>\n",
              "      <th>city</th>\n",
              "      <th>parent_category_name</th>\n",
              "      <th>category_name</th>\n",
              "      <th>user_type</th>\n",
              "      <th>param_1</th>\n",
              "      <th>param_2</th>\n",
              "      <th>param_3</th>\n",
              "      <th>svd_title_1</th>\n",
              "      <th>svd_title_2</th>\n",
              "      <th>svd_title_3</th>\n",
              "      <th>svd_description_1</th>\n",
              "      <th>svd_description_2</th>\n",
              "      <th>svd_description_3</th>\n",
              "      <th>image_top_1</th>\n",
              "    </tr>\n",
              "  </thead>\n",
              "  <tbody>\n",
              "    <tr>\n",
              "      <th>0</th>\n",
              "      <td>5.991465</td>\n",
              "      <td>3</td>\n",
              "      <td>7</td>\n",
              "      <td>2</td>\n",
              "      <td>1</td>\n",
              "      <td>19</td>\n",
              "      <td>462</td>\n",
              "      <td>4</td>\n",
              "      <td>42</td>\n",
              "      <td>1</td>\n",
              "      <td>249</td>\n",
              "      <td>112</td>\n",
              "      <td>1217</td>\n",
              "      <td>4.004211e-07</td>\n",
              "      <td>0.000007</td>\n",
              "      <td>0.000001</td>\n",
              "      <td>1.414582e-08</td>\n",
              "      <td>0.015132</td>\n",
              "      <td>0.017916</td>\n",
              "      <td>1008.0</td>\n",
              "    </tr>\n",
              "    <tr>\n",
              "      <th>1</th>\n",
              "      <td>8.006368</td>\n",
              "      <td>3</td>\n",
              "      <td>7</td>\n",
              "      <td>19</td>\n",
              "      <td>6</td>\n",
              "      <td>17</td>\n",
              "      <td>1314</td>\n",
              "      <td>2</td>\n",
              "      <td>22</td>\n",
              "      <td>1</td>\n",
              "      <td>122</td>\n",
              "      <td>112</td>\n",
              "      <td>1217</td>\n",
              "      <td>1.762265e-05</td>\n",
              "      <td>0.000069</td>\n",
              "      <td>0.000023</td>\n",
              "      <td>4.046466e-10</td>\n",
              "      <td>0.001598</td>\n",
              "      <td>0.001936</td>\n",
              "      <td>692.0</td>\n",
              "    </tr>\n",
              "    <tr>\n",
              "      <th>2</th>\n",
              "      <td>8.294050</td>\n",
              "      <td>2</td>\n",
              "      <td>17</td>\n",
              "      <td>9</td>\n",
              "      <td>0</td>\n",
              "      <td>16</td>\n",
              "      <td>1290</td>\n",
              "      <td>0</td>\n",
              "      <td>2</td>\n",
              "      <td>1</td>\n",
              "      <td>84</td>\n",
              "      <td>112</td>\n",
              "      <td>1217</td>\n",
              "      <td>1.578299e-05</td>\n",
              "      <td>0.000018</td>\n",
              "      <td>0.000023</td>\n",
              "      <td>3.131675e-08</td>\n",
              "      <td>0.164734</td>\n",
              "      <td>-0.026715</td>\n",
              "      <td>3032.0</td>\n",
              "    </tr>\n",
              "    <tr>\n",
              "      <th>3</th>\n",
              "      <td>7.696213</td>\n",
              "      <td>1</td>\n",
              "      <td>3</td>\n",
              "      <td>286</td>\n",
              "      <td>5</td>\n",
              "      <td>21</td>\n",
              "      <td>950</td>\n",
              "      <td>4</td>\n",
              "      <td>42</td>\n",
              "      <td>0</td>\n",
              "      <td>38</td>\n",
              "      <td>112</td>\n",
              "      <td>1217</td>\n",
              "      <td>4.961771e-05</td>\n",
              "      <td>0.000214</td>\n",
              "      <td>0.000065</td>\n",
              "      <td>2.851744e-08</td>\n",
              "      <td>0.033871</td>\n",
              "      <td>0.031143</td>\n",
              "      <td>796.0</td>\n",
              "    </tr>\n",
              "    <tr>\n",
              "      <th>4</th>\n",
              "      <td>10.596635</td>\n",
              "      <td>3</td>\n",
              "      <td>4</td>\n",
              "      <td>3</td>\n",
              "      <td>3</td>\n",
              "      <td>4</td>\n",
              "      <td>318</td>\n",
              "      <td>6</td>\n",
              "      <td>0</td>\n",
              "      <td>1</td>\n",
              "      <td>278</td>\n",
              "      <td>124</td>\n",
              "      <td>46</td>\n",
              "      <td>2.424651e-06</td>\n",
              "      <td>0.000003</td>\n",
              "      <td>0.000005</td>\n",
              "      <td>5.491043e-09</td>\n",
              "      <td>0.037992</td>\n",
              "      <td>0.027920</td>\n",
              "      <td>2264.0</td>\n",
              "    </tr>\n",
              "  </tbody>\n",
              "</table>\n",
              "</div>"
            ],
            "text/plain": [
              "   price_log  title_nwords  desc_nwords  item_seq_number  weekday  region  \\\n",
              "0   5.991465             3            7                2        1      19   \n",
              "1   8.006368             3            7               19        6      17   \n",
              "2   8.294050             2           17                9        0      16   \n",
              "3   7.696213             1            3              286        5      21   \n",
              "4  10.596635             3            4                3        3       4   \n",
              "\n",
              "   city  parent_category_name  category_name  user_type  param_1  param_2  \\\n",
              "0   462                     4             42          1      249      112   \n",
              "1  1314                     2             22          1      122      112   \n",
              "2  1290                     0              2          1       84      112   \n",
              "3   950                     4             42          0       38      112   \n",
              "4   318                     6              0          1      278      124   \n",
              "\n",
              "   param_3   svd_title_1  svd_title_2  svd_title_3  svd_description_1  \\\n",
              "0     1217  4.004211e-07     0.000007     0.000001       1.414582e-08   \n",
              "1     1217  1.762265e-05     0.000069     0.000023       4.046466e-10   \n",
              "2     1217  1.578299e-05     0.000018     0.000023       3.131675e-08   \n",
              "3     1217  4.961771e-05     0.000214     0.000065       2.851744e-08   \n",
              "4       46  2.424651e-06     0.000003     0.000005       5.491043e-09   \n",
              "\n",
              "   svd_description_2  svd_description_3  image_top_1  \n",
              "0           0.015132           0.017916       1008.0  \n",
              "1           0.001598           0.001936        692.0  \n",
              "2           0.164734          -0.026715       3032.0  \n",
              "3           0.033871           0.031143        796.0  \n",
              "4           0.037992           0.027920       2264.0  "
            ]
          },
          "metadata": {
            "tags": []
          },
          "execution_count": 42
        }
      ]
    },
    {
      "metadata": {
        "id": "b27CyqW4eLRv",
        "colab_type": "code",
        "colab": {
          "base_uri": "https://localhost:8080/",
          "height": 218
        },
        "outputId": "52e61488-bad3-4e51-ab82-54e35be5047e"
      },
      "cell_type": "code",
      "source": [
        "test_df[select_cols].head()"
      ],
      "execution_count": 41,
      "outputs": [
        {
          "output_type": "execute_result",
          "data": {
            "text/html": [
              "<div>\n",
              "<style scoped>\n",
              "    .dataframe tbody tr th:only-of-type {\n",
              "        vertical-align: middle;\n",
              "    }\n",
              "\n",
              "    .dataframe tbody tr th {\n",
              "        vertical-align: top;\n",
              "    }\n",
              "\n",
              "    .dataframe thead th {\n",
              "        text-align: right;\n",
              "    }\n",
              "</style>\n",
              "<table border=\"1\" class=\"dataframe\">\n",
              "  <thead>\n",
              "    <tr style=\"text-align: right;\">\n",
              "      <th></th>\n",
              "      <th>price_log</th>\n",
              "      <th>title_nwords</th>\n",
              "      <th>desc_nwords</th>\n",
              "      <th>item_seq_number</th>\n",
              "      <th>weekday</th>\n",
              "      <th>region</th>\n",
              "      <th>city</th>\n",
              "      <th>parent_category_name</th>\n",
              "      <th>category_name</th>\n",
              "      <th>user_type</th>\n",
              "      <th>param_1</th>\n",
              "      <th>param_2</th>\n",
              "      <th>param_3</th>\n",
              "      <th>svd_title_1</th>\n",
              "      <th>svd_title_2</th>\n",
              "      <th>svd_title_3</th>\n",
              "      <th>svd_description_1</th>\n",
              "      <th>svd_description_2</th>\n",
              "      <th>svd_description_3</th>\n",
              "      <th>image_top_1</th>\n",
              "    </tr>\n",
              "  </thead>\n",
              "  <tbody>\n",
              "    <tr>\n",
              "      <th>0</th>\n",
              "      <td>5.991465</td>\n",
              "      <td>2</td>\n",
              "      <td>2</td>\n",
              "      <td>66</td>\n",
              "      <td>1</td>\n",
              "      <td>4</td>\n",
              "      <td>318</td>\n",
              "      <td>4</td>\n",
              "      <td>10</td>\n",
              "      <td>1</td>\n",
              "      <td>110</td>\n",
              "      <td>198</td>\n",
              "      <td>74</td>\n",
              "      <td>0.000024</td>\n",
              "      <td>0.000213</td>\n",
              "      <td>0.000050</td>\n",
              "      <td>9.765783e-12</td>\n",
              "      <td>0.000038</td>\n",
              "      <td>0.000034</td>\n",
              "      <td>2020.0</td>\n",
              "    </tr>\n",
              "    <tr>\n",
              "      <th>1</th>\n",
              "      <td>8.006368</td>\n",
              "      <td>2</td>\n",
              "      <td>10</td>\n",
              "      <td>4</td>\n",
              "      <td>6</td>\n",
              "      <td>19</td>\n",
              "      <td>993</td>\n",
              "      <td>8</td>\n",
              "      <td>5</td>\n",
              "      <td>1</td>\n",
              "      <td>119</td>\n",
              "      <td>112</td>\n",
              "      <td>1217</td>\n",
              "      <td>0.000593</td>\n",
              "      <td>0.042106</td>\n",
              "      <td>0.001669</td>\n",
              "      <td>3.949482e-08</td>\n",
              "      <td>0.148974</td>\n",
              "      <td>0.024468</td>\n",
              "      <td>-999.0</td>\n",
              "    </tr>\n",
              "    <tr>\n",
              "      <th>2</th>\n",
              "      <td>8.294050</td>\n",
              "      <td>1</td>\n",
              "      <td>21</td>\n",
              "      <td>15</td>\n",
              "      <td>0</td>\n",
              "      <td>12</td>\n",
              "      <td>151</td>\n",
              "      <td>0</td>\n",
              "      <td>2</td>\n",
              "      <td>1</td>\n",
              "      <td>318</td>\n",
              "      <td>112</td>\n",
              "      <td>1217</td>\n",
              "      <td>0.000002</td>\n",
              "      <td>0.000007</td>\n",
              "      <td>0.000004</td>\n",
              "      <td>4.274962e-08</td>\n",
              "      <td>0.037448</td>\n",
              "      <td>0.037759</td>\n",
              "      <td>2960.0</td>\n",
              "    </tr>\n",
              "    <tr>\n",
              "      <th>3</th>\n",
              "      <td>7.696213</td>\n",
              "      <td>3</td>\n",
              "      <td>12</td>\n",
              "      <td>70</td>\n",
              "      <td>0</td>\n",
              "      <td>18</td>\n",
              "      <td>1319</td>\n",
              "      <td>2</td>\n",
              "      <td>4</td>\n",
              "      <td>1</td>\n",
              "      <td>108</td>\n",
              "      <td>131</td>\n",
              "      <td>1217</td>\n",
              "      <td>0.013586</td>\n",
              "      <td>0.000066</td>\n",
              "      <td>0.007611</td>\n",
              "      <td>4.164126e-08</td>\n",
              "      <td>0.021288</td>\n",
              "      <td>0.021532</td>\n",
              "      <td>-999.0</td>\n",
              "    </tr>\n",
              "    <tr>\n",
              "      <th>4</th>\n",
              "      <td>10.596635</td>\n",
              "      <td>2</td>\n",
              "      <td>10</td>\n",
              "      <td>15</td>\n",
              "      <td>5</td>\n",
              "      <td>14</td>\n",
              "      <td>243</td>\n",
              "      <td>4</td>\n",
              "      <td>42</td>\n",
              "      <td>1</td>\n",
              "      <td>102</td>\n",
              "      <td>112</td>\n",
              "      <td>1217</td>\n",
              "      <td>0.000044</td>\n",
              "      <td>0.001100</td>\n",
              "      <td>0.000121</td>\n",
              "      <td>9.517014e-08</td>\n",
              "      <td>0.066943</td>\n",
              "      <td>0.058184</td>\n",
              "      <td>1002.0</td>\n",
              "    </tr>\n",
              "  </tbody>\n",
              "</table>\n",
              "</div>"
            ],
            "text/plain": [
              "   price_log  title_nwords  desc_nwords  item_seq_number  weekday  region  \\\n",
              "0   5.991465             2            2               66        1       4   \n",
              "1   8.006368             2           10                4        6      19   \n",
              "2   8.294050             1           21               15        0      12   \n",
              "3   7.696213             3           12               70        0      18   \n",
              "4  10.596635             2           10               15        5      14   \n",
              "\n",
              "   city  parent_category_name  category_name  user_type  param_1  param_2  \\\n",
              "0   318                     4             10          1      110      198   \n",
              "1   993                     8              5          1      119      112   \n",
              "2   151                     0              2          1      318      112   \n",
              "3  1319                     2              4          1      108      131   \n",
              "4   243                     4             42          1      102      112   \n",
              "\n",
              "   param_3  svd_title_1  svd_title_2  svd_title_3  svd_description_1  \\\n",
              "0       74     0.000024     0.000213     0.000050       9.765783e-12   \n",
              "1     1217     0.000593     0.042106     0.001669       3.949482e-08   \n",
              "2     1217     0.000002     0.000007     0.000004       4.274962e-08   \n",
              "3     1217     0.013586     0.000066     0.007611       4.164126e-08   \n",
              "4     1217     0.000044     0.001100     0.000121       9.517014e-08   \n",
              "\n",
              "   svd_description_2  svd_description_3  image_top_1  \n",
              "0           0.000038           0.000034       2020.0  \n",
              "1           0.148974           0.024468       -999.0  \n",
              "2           0.037448           0.037759       2960.0  \n",
              "3           0.021288           0.021532       -999.0  \n",
              "4           0.066943           0.058184       1002.0  "
            ]
          },
          "metadata": {
            "tags": []
          },
          "execution_count": 41
        }
      ]
    },
    {
      "metadata": {
        "id": "cUbnEzxDGDtc",
        "colab_type": "code",
        "colab": {
          "base_uri": "https://localhost:8080/",
          "height": 52
        },
        "outputId": "5f42567c-52aa-44df-fe98-6c969c0eea04"
      },
      "cell_type": "code",
      "source": [
        "%%time\n",
        "version = 'v13'\n",
        "lgsub = pd.DataFrame(pred_test_y,columns=[\"deal_probability\"], index=test_df.item_id)\n",
        "lgsub['deal_probability'].clip(0.0, 1.0, inplace=True) # Between 0 and 1\n",
        "lgsub.to_csv('sub_'+version+'.csv',index=True,header=True)\n",
        "lgsub.head()\n",
        "files.download('sub_'+version+'.csv')"
      ],
      "execution_count": 75,
      "outputs": [
        {
          "output_type": "stream",
          "text": [
            "CPU times: user 1.75 s, sys: 101 ms, total: 1.85 s\n",
            "Wall time: 59.7 s\n"
          ],
          "name": "stdout"
        }
      ]
    },
    {
      "metadata": {
        "id": "YFPv-sA-IG-7",
        "colab_type": "code",
        "colab": {
          "base_uri": "https://localhost:8080/",
          "height": 365
        },
        "outputId": "90a08dd6-18de-4ed7-ba85-ad2e5e2fc305"
      },
      "cell_type": "code",
      "source": [
        "lgsub.plot.hist(bins = 10)"
      ],
      "execution_count": 77,
      "outputs": [
        {
          "output_type": "execute_result",
          "data": {
            "text/plain": [
              "<matplotlib.axes._subplots.AxesSubplot at 0x7fa7b7608828>"
            ]
          },
          "metadata": {
            "tags": []
          },
          "execution_count": 77
        },
        {
          "output_type": "display_data",
          "data": {
            "image/png": "[encoded data removed]",
            "text/plain": [
              "<matplotlib.figure.Figure at 0x7fa77eae2588>"
            ]
          },
          "metadata": {
            "tags": []
          }
        }
      ]
    },
    {
      "metadata": {
        "id": "vY2o-232Hc_7",
        "colab_type": "text"
      },
      "cell_type": "markdown",
      "source": [
        "**Step 4 - Plot Feature Importance**\n",
        "  * v1: image_top_1, price_log, svd_title_1/2/3"
      ]
    },
    {
      "metadata": {
        "id": "LIMZknh_EOUS",
        "colab_type": "code",
        "colab": {
          "base_uri": "https://localhost:8080/",
          "height": 1057
        },
        "outputId": "dda12e5a-de5b-40b7-f105-85a4d8818019"
      },
      "cell_type": "code",
      "source": [
        "fig, ax = plt.subplots(figsize=(12,18))\n",
        "lgb.plot_importance(model_final, max_num_features=50, height=0.8, ax=ax)\n",
        "ax.grid(False)\n",
        "plt.title(\"LightGBM - Feature Importance\", fontsize=15)\n",
        "plt.show()"
      ],
      "execution_count": 76,
      "outputs": [
        {
          "output_type": "display_data",
          "data": {
            "image/png": "[encoded data removed]",
            "text/plain": [
              "<matplotlib.figure.Figure at 0x7fa7a7179be0>"
            ]
          },
          "metadata": {
            "tags": []
          }
        }
      ]
    },
    {
      "metadata": {
        "id": "7Qr37_W6itsW",
        "colab_type": "code",
        "colab": {}
      },
      "cell_type": "code",
      "source": [
        ""
      ],
      "execution_count": 0,
      "outputs": []
    }
  ]
}
