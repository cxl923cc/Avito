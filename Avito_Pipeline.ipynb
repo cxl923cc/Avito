{
  "nbformat": 4,
  "nbformat_minor": 0,
  "metadata": {
    "colab": {
      "name": "Avito Pipeline.ipynb",
      "version": "0.3.2",
      "provenance": [],
      "collapsed_sections": []
    },
    "kernelspec": {
      "name": "python3",
      "display_name": "Python 3"
    },
    "accelerator": "GPU"
  },
  "cells": [
    {
      "cell_type": "markdown",
      "metadata": {
        "id": "view-in-github",
        "colab_type": "text"
      },
      "source": [
        "[View in Colaboratory](https://colab.research.google.com/github/cxl923cc/Avito/blob/master/Avito_Pipeline.ipynb)"
      ]
    },
    {
      "metadata": {
        "id": "g4T-_IsVbweU",
        "colab_type": "text"
      },
      "cell_type": "markdown",
      "source": [
        "# Avito Demand Prediction"
      ]
    },
    {
      "metadata": {
        "id": "LEAHZv4rIYHX",
        "colab_type": "text"
      },
      "cell_type": "markdown",
      "source": [
        "**Step 1 - Preparation:**\n",
        "  * Import the libraries.\n",
        "  * Set up Kaggle API\n",
        "  * Load train, test and feature files\n",
        "  * Load russian stopwords"
      ]
    },
    {
      "metadata": {
        "id": "tV_a07IQkgD6",
        "colab_type": "code",
        "colab": {
          "base_uri": "https://localhost:8080/",
          "height": 168
        },
        "outputId": "da3404a2-d825-409e-f154-ed8c98e20ced"
      },
      "cell_type": "code",
      "source": [
        "!pip install lightgbm\n",
        "!pip install tqdm"
      ],
      "execution_count": 30,
      "outputs": [
        {
          "output_type": "stream",
          "text": [
            "Requirement already satisfied: lightgbm in /usr/local/lib/python3.6/dist-packages (2.1.1)\r\n",
            "Requirement already satisfied: scikit-learn in /usr/local/lib/python3.6/dist-packages (from lightgbm) (0.19.1)\r\n",
            "Requirement already satisfied: scipy in /usr/local/lib/python3.6/dist-packages (from lightgbm) (0.19.1)\r\n",
            "Requirement already satisfied: numpy in /usr/local/lib/python3.6/dist-packages (from lightgbm) (1.14.3)\n",
            "Collecting tqdm\n",
            "\u001b[?25l  Downloading https://files.pythonhosted.org/packages/d8/ca/6524dfba7a0e850d3fda223693779035ddc8bf5c242acd9ee4eb9e52711a/tqdm-4.23.3-py2.py3-none-any.whl (42kB)\n",
            "\u001b[K    100% |████████████████████████████████| 51kB 4.9MB/s \n",
            "\u001b[?25hInstalling collected packages: tqdm\n",
            "Successfully installed tqdm-4.23.3\n"
          ],
          "name": "stdout"
        }
      ]
    },
    {
      "metadata": {
        "id": "fOQ7Vqi02q0i",
        "colab_type": "code",
        "colab": {}
      },
      "cell_type": "code",
      "source": [
        "import os\n",
        "\n",
        "import numpy as np\n",
        "import pandas as pd\n",
        "import matplotlib.pyplot as plt\n",
        "import seaborn as sns\n",
        "\n",
        "from datetime import datetime\n",
        "import zipfile\n",
        "import cv2\n",
        "from google.colab import files\n",
        "\n",
        "from sklearn.preprocessing import LabelEncoder\n",
        "import lightgbm as lgb\n",
        "from tqdm import tqdm\n",
        "from sklearn.feature_extraction.text import TfidfVectorizer, CountVectorizer\n",
        "from sklearn.decomposition import TruncatedSVD\n",
        "from sklearn import preprocessing, model_selection, metrics"
      ],
      "execution_count": 0,
      "outputs": []
    },
    {
      "metadata": {
        "id": "FNMk6IA_2PGy",
        "colab_type": "code",
        "colab": {
          "base_uri": "https://localhost:8080/",
          "height": 218
        },
        "collapsed": true,
        "outputId": "e5f47a95-8914-4875-e05c-0bcae17e503a"
      },
      "cell_type": "code",
      "source": [
        "#@title\n",
        "!pip install kaggle"
      ],
      "execution_count": 2,
      "outputs": [
        {
          "output_type": "stream",
          "text": [
            "Collecting kaggle\n",
            "  Downloading https://files.pythonhosted.org/packages/bd/a6/d93a9492ad8f31b1a0d17225acfa066a38a27f5fc2ce9fc5034a7003fff1/kaggle-1.3.6.tar.gz\n",
            "Requirement already satisfied: urllib3>=1.15 in /usr/local/lib/python3.6/dist-packages (from kaggle) (1.22)\n",
            "Requirement already satisfied: six>=1.10 in /usr/local/lib/python3.6/dist-packages (from kaggle) (1.11.0)\n",
            "Requirement already satisfied: certifi in /usr/local/lib/python3.6/dist-packages (from kaggle) (2018.4.16)\n",
            "Requirement already satisfied: python-dateutil in /usr/local/lib/python3.6/dist-packages (from kaggle) (2.5.3)\n",
            "Building wheels for collected packages: kaggle\n",
            "  Running setup.py bdist_wheel for kaggle ... \u001b[?25l-\b \b\\\b \bdone\n",
            "\u001b[?25h  Stored in directory: /content/.cache/pip/wheels/98/be/57/a576a1f2f50f5c3bebd0c08fc3b2a6881dfde31c8217014978\n",
            "Successfully built kaggle\n",
            "Installing collected packages: kaggle\n",
            "Successfully installed kaggle-1.3.6\n"
          ],
          "name": "stdout"
        }
      ]
    },
    {
      "metadata": {
        "id": "IDtWD2-d0r4P",
        "colab_type": "code",
        "colab": {
          "base_uri": "https://localhost:8080/",
          "height": 34
        },
        "collapsed": true,
        "outputId": "97898de9-4377-4f10-a385-08219d1c3975"
      },
      "cell_type": "code",
      "source": [
        "from googleapiclient.discovery import build\n",
        "import io, os\n",
        "from googleapiclient.http import MediaIoBaseDownload\n",
        "from google.colab import auth\n",
        "auth.authenticate_user()\n",
        "drive_service = build('drive', 'v3')\n",
        "results = drive_service.files().list(\n",
        "        q=\"name = 'kaggle.json'\", fields=\"files(id)\").execute()\n",
        "kaggle_api_key = results.get('files', [])\n",
        "filename = \"/content/.kaggle/kaggle.json\"\n",
        "os.makedirs(os.path.dirname(filename), exist_ok=True)\n",
        "request = drive_service.files().get_media(fileId=kaggle_api_key[0]['id'])\n",
        "fh = io.FileIO(filename, 'wb')\n",
        "downloader = MediaIoBaseDownload(fh, request)\n",
        "done = False\n",
        "while done is False:\n",
        "    status, done = downloader.next_chunk()\n",
        "    print(\"Download %d%%.\" % int(status.progress() * 100))\n",
        "os.chmod(filename, 600)"
      ],
      "execution_count": 3,
      "outputs": [
        {
          "output_type": "stream",
          "text": [
            "Download 100%.\n"
          ],
          "name": "stdout"
        }
      ]
    },
    {
      "metadata": {
        "id": "Fb05ZtId2_gI",
        "colab_type": "code",
        "colab": {
          "base_uri": "https://localhost:8080/",
          "height": 34
        },
        "collapsed": true,
        "outputId": "fad62ef3-378e-4b31-df73-8b1456e11c0e"
      },
      "cell_type": "code",
      "source": [
        "!kaggle competitions list"
      ],
      "execution_count": 0,
      "outputs": [
        {
          "output_type": "stream",
          "text": [
            "/bin/sh: 1: kaggle: not found\r\n"
          ],
          "name": "stdout"
        }
      ]
    },
    {
      "metadata": {
        "id": "78mWKaS53B5Z",
        "colab_type": "code",
        "colab": {
          "base_uri": "https://localhost:8080/",
          "height": 286
        },
        "collapsed": true,
        "outputId": "ed76b0d1-fc02-410f-a81c-ac6196cf418c"
      },
      "cell_type": "code",
      "source": [
        "!kaggle competitions files -c avito-demand-prediction"
      ],
      "execution_count": 5,
      "outputs": [
        {
          "output_type": "stream",
          "text": [
            "name                    size  creationDate         \r\n",
            "---------------------  -----  -------------------  \r\n",
            "sample_submission.csv    8MB  2018-04-23 21:26:51  \r\n",
            "test_jpg.zip            19GB  2018-04-23 22:09:42  \r\n",
            "train_jpg.zip           49GB  2018-04-23 23:06:39  \r\n",
            "test.csv.zip           107MB  2018-04-24 18:25:00  \r\n",
            "periods_test.csv.zip   136MB  2018-04-24 18:25:02  \r\n",
            "periods_train.csv.zip  170MB  2018-04-24 18:25:04  \r\n",
            "train.csv.zip          308MB  2018-04-24 18:26:58  \r\n",
            "test_active.csv.zip      2GB  2018-04-24 18:31:08  \r\n",
            "train_active.csv.zip     3GB  2018-04-24 18:44:13  \r\n",
            "train_jpg_4.zip         10GB  2018-05-01 22:40:01  \r\n",
            "train_jpg_2.zip         10GB  2018-05-01 22:40:05  \r\n",
            "train_jpg_1.zip         10GB  2018-05-01 22:40:06  \r\n",
            "train_jpg_0.zip         10GB  2018-05-01 22:40:06  \r\n",
            "train_jpg_3.zip         10GB  2018-05-01 22:40:06  \r\n"
          ],
          "name": "stdout"
        }
      ]
    },
    {
      "metadata": {
        "id": "6ES-f7rI6G7X",
        "colab_type": "code",
        "colab": {
          "base_uri": "https://localhost:8080/",
          "height": 118
        },
        "outputId": "261f4630-fb06-4d5b-e6d2-d538ed6b9efa"
      },
      "cell_type": "code",
      "source": [
        "!kaggle competitions download -c avito-demand-prediction -f train.csv.zip\n",
        "!unzip .kaggle/competitions/avito-demand-prediction/train.csv.zip\n",
        "!kaggle competitions download -c avito-demand-prediction -f test.csv.zip\n",
        "!unzip .kaggle/competitions/avito-demand-prediction/test.csv.zip\n",
        "#After unzip, train.csv is under the home folder\n"
      ],
      "execution_count": 4,
      "outputs": [
        {
          "output_type": "stream",
          "text": [
            "train.csv.zip: Downloaded 308MB of 308MB\n",
            "Archive:  .kaggle/competitions/avito-demand-prediction/train.csv.zip\n",
            "  inflating: train.csv               \n",
            "test.csv.zip: Downloaded 107MB of 107MB\n",
            "Archive:  .kaggle/competitions/avito-demand-prediction/test.csv.zip\n",
            "  inflating: test.csv                \n"
          ],
          "name": "stdout"
        }
      ]
    },
    {
      "metadata": {
        "id": "Wt_9ExDh9t4z",
        "colab_type": "code",
        "colab": {
          "base_uri": "https://localhost:8080/",
          "height": 50
        },
        "collapsed": true,
        "outputId": "d5ac6ac9-31f9-43af-f7b4-de092aa1c304"
      },
      "cell_type": "code",
      "source": [
        "!ls .kaggle/competitions/avito-demand-prediction/\n",
        "!ls"
      ],
      "execution_count": 5,
      "outputs": [
        {
          "output_type": "stream",
          "text": [
            "test.csv.zip  train.csv.zip\n",
            "datalab  test.csv  train.csv\n"
          ],
          "name": "stdout"
        }
      ]
    },
    {
      "metadata": {
        "id": "AI1Lj1KSYeaV",
        "colab_type": "code",
        "colab": {}
      },
      "cell_type": "code",
      "source": [
        "# Install the PyDrive wrapper & import libraries.\n",
        "# This only needs to be done once in a notebook.\n",
        "!pip install -U -q PyDrive\n",
        "from pydrive.auth import GoogleAuth\n",
        "from pydrive.drive import GoogleDrive\n",
        "from google.colab import auth\n",
        "from oauth2client.client import GoogleCredentials\n",
        "\n",
        "# Authenticate and create the PyDrive client.\n",
        "# This only needs to be done once in a notebook.\n",
        "auth.authenticate_user()\n",
        "gauth = GoogleAuth()\n",
        "gauth.credentials = GoogleCredentials.get_application_default()\n",
        "drive = GoogleDrive(gauth)"
      ],
      "execution_count": 0,
      "outputs": []
    },
    {
      "metadata": {
        "id": "WxlWN08ytzT7",
        "colab_type": "code",
        "colab": {}
      },
      "cell_type": "code",
      "source": [
        "from google.colab import files\n",
        "\n",
        "csv_import = drive.CreateFile({'id':'1taVHWV-xZ3BDyhewojBHc1GGqX0vi4Og'})\n",
        "csv_import.GetContentFile('jpg_0.csv')\n",
        "\n",
        "csv_import = drive.CreateFile({'id':'1_0KF6ii09a0zlUyCVUa5hb5smh2-ALBD'})\n",
        "csv_import.GetContentFile('jpg_1.csv')\n",
        "\n",
        "csv_import = drive.CreateFile({'id':'16hKDpvcw-rMNdBgbQV2Qj3Jk38Lgr2xs'})\n",
        "csv_import.GetContentFile('jpg_2.csv')\n",
        "\n",
        "csv_import = drive.CreateFile({'id':'13x8E4hIKv-g_7lyrBqaiDwDpRtMhvaSC'})\n",
        "csv_import.GetContentFile('jpg_3.csv')\n",
        "\n",
        "csv_import = drive.CreateFile({'id':'1eimUtnnWFxYB0ti68G6QnytGzdrP3GO6'})\n",
        "csv_import.GetContentFile('jpg_4.csv')\n",
        "\n",
        "csv_import = drive.CreateFile({'id':'1P5PHzBW6Uf9IOoAFqb8aAKe_DfdiqM7X'})\n",
        "csv_import.GetContentFile('train_normal_text.csv')\n",
        "\n",
        "csv_import = drive.CreateFile({'id':'1FPtGLkY8H4c2C55sRCslIq2a_9jMWEnQ'})\n",
        "csv_import.GetContentFile('test_normal_text.csv')\n"
      ],
      "execution_count": 0,
      "outputs": []
    },
    {
      "metadata": {
        "id": "nuk3rM2twtCd",
        "colab_type": "code",
        "colab": {
          "base_uri": "https://localhost:8080/",
          "height": 70
        },
        "collapsed": true,
        "outputId": "6cafdbc8-10ba-4a6f-b3a9-58046b7ea99f"
      },
      "cell_type": "code",
      "source": [
        "jpg_0 = pd.read_csv('jpg_0.csv', index_col=0)\n",
        "jpg_1 = pd.read_csv('jpg_1.csv', index_col=0)\n",
        "jpg_2 = pd.read_csv('jpg_2.csv', index_col=0)\n",
        "jpg_3 = pd.read_csv('jpg_3.csv', index_col=0)\n",
        "jpg_4 = pd.read_csv('jpg_4.csv', index_col=0)\n",
        "train_normal_text = pd.read_csv('train_normal_text.csv', index_col=0)\n",
        "test_normal_text = pd.read_csv('test_normal_text.csv', index_col=0)"
      ],
      "execution_count": 8,
      "outputs": [
        {
          "output_type": "stream",
          "text": [
            "/usr/local/lib/python3.6/dist-packages/numpy/lib/arraysetops.py:472: FutureWarning: elementwise comparison failed; returning scalar instead, but in the future will perform elementwise comparison\n",
            "  mask |= (ar1 == a)\n"
          ],
          "name": "stderr"
        }
      ]
    },
    {
      "metadata": {
        "id": "8K-GsKP5znvO",
        "colab_type": "code",
        "colab": {
          "base_uri": "https://localhost:8080/",
          "height": 284
        },
        "collapsed": true,
        "outputId": "bde1ebbc-d29c-40ec-d7d6-f73647b5c28c"
      },
      "cell_type": "code",
      "source": [
        "image_features = pd.concat([jpg_0, jpg_1, jpg_2, jpg_3, jpg_4], axis = 0, ignore_index = True)\n",
        "image_features.describe().applymap('{:,.2f}'.format)"
      ],
      "execution_count": 9,
      "outputs": [
        {
          "output_type": "execute_result",
          "data": {
            "text/html": [
              "<div>\n",
              "<style scoped>\n",
              "    .dataframe tbody tr th:only-of-type {\n",
              "        vertical-align: middle;\n",
              "    }\n",
              "\n",
              "    .dataframe tbody tr th {\n",
              "        vertical-align: top;\n",
              "    }\n",
              "\n",
              "    .dataframe thead th {\n",
              "        text-align: right;\n",
              "    }\n",
              "</style>\n",
              "<table border=\"1\" class=\"dataframe\">\n",
              "  <thead>\n",
              "    <tr style=\"text-align: right;\">\n",
              "      <th></th>\n",
              "      <th>flag_clear_img</th>\n",
              "      <th>image_size</th>\n",
              "      <th>image_shape_ratio</th>\n",
              "    </tr>\n",
              "  </thead>\n",
              "  <tbody>\n",
              "    <tr>\n",
              "      <th>count</th>\n",
              "      <td>1,390,832.00</td>\n",
              "      <td>1,390,832.00</td>\n",
              "      <td>1,390,832.00</td>\n",
              "    </tr>\n",
              "    <tr>\n",
              "      <th>mean</th>\n",
              "      <td>0.18</td>\n",
              "      <td>166,790.95</td>\n",
              "      <td>1.04</td>\n",
              "    </tr>\n",
              "    <tr>\n",
              "      <th>std</th>\n",
              "      <td>0.39</td>\n",
              "      <td>31,078.61</td>\n",
              "      <td>0.41</td>\n",
              "    </tr>\n",
              "    <tr>\n",
              "      <th>min</th>\n",
              "      <td>0.00</td>\n",
              "      <td>1,150.00</td>\n",
              "      <td>0.06</td>\n",
              "    </tr>\n",
              "    <tr>\n",
              "      <th>25%</th>\n",
              "      <td>0.00</td>\n",
              "      <td>152,640.00</td>\n",
              "      <td>0.75</td>\n",
              "    </tr>\n",
              "    <tr>\n",
              "      <th>50%</th>\n",
              "      <td>0.00</td>\n",
              "      <td>172,800.00</td>\n",
              "      <td>0.86</td>\n",
              "    </tr>\n",
              "    <tr>\n",
              "      <th>75%</th>\n",
              "      <td>0.00</td>\n",
              "      <td>172,800.00</td>\n",
              "      <td>1.33</td>\n",
              "    </tr>\n",
              "    <tr>\n",
              "      <th>max</th>\n",
              "      <td>1.00</td>\n",
              "      <td>230,400.00</td>\n",
              "      <td>22.07</td>\n",
              "    </tr>\n",
              "  </tbody>\n",
              "</table>\n",
              "</div>"
            ],
            "text/plain": [
              "      flag_clear_img    image_size image_shape_ratio\n",
              "count   1,390,832.00  1,390,832.00      1,390,832.00\n",
              "mean            0.18    166,790.95              1.04\n",
              "std             0.39     31,078.61              0.41\n",
              "min             0.00      1,150.00              0.06\n",
              "25%             0.00    152,640.00              0.75\n",
              "50%             0.00    172,800.00              0.86\n",
              "75%             0.00    172,800.00              1.33\n",
              "max             1.00    230,400.00             22.07"
            ]
          },
          "metadata": {
            "tags": []
          },
          "execution_count": 9
        }
      ]
    },
    {
      "metadata": {
        "id": "pRqCywuc2Rbt",
        "colab_type": "code",
        "colab": {}
      },
      "cell_type": "code",
      "source": [
        ""
      ],
      "execution_count": 0,
      "outputs": []
    },
    {
      "metadata": {
        "id": "n03bb8-3AdCM",
        "colab_type": "text"
      },
      "cell_type": "markdown",
      "source": [
        "**Step 2 - Read Data:**\n",
        "  * Read train master file into a dataframe 'train_df'\n",
        "  * Feature engineering\n",
        "  * Merge image and text features onto train and test\n",
        "  * Tf-idf vectorisation on train and test"
      ]
    },
    {
      "metadata": {
        "id": "9S8LzodA_qMj",
        "colab_type": "code",
        "colab": {
          "base_uri": "https://localhost:8080/",
          "height": 366
        },
        "collapsed": true,
        "outputId": "044ff023-417e-44ff-a883-c4d84d74e20e"
      },
      "cell_type": "code",
      "source": [
        "train_df = pd.read_csv('train.csv')\n",
        "train_df.head()"
      ],
      "execution_count": 10,
      "outputs": [
        {
          "output_type": "execute_result",
          "data": {
            "text/html": [
              "<div>\n",
              "<style scoped>\n",
              "    .dataframe tbody tr th:only-of-type {\n",
              "        vertical-align: middle;\n",
              "    }\n",
              "\n",
              "    .dataframe tbody tr th {\n",
              "        vertical-align: top;\n",
              "    }\n",
              "\n",
              "    .dataframe thead th {\n",
              "        text-align: right;\n",
              "    }\n",
              "</style>\n",
              "<table border=\"1\" class=\"dataframe\">\n",
              "  <thead>\n",
              "    <tr style=\"text-align: right;\">\n",
              "      <th></th>\n",
              "      <th>item_id</th>\n",
              "      <th>user_id</th>\n",
              "      <th>region</th>\n",
              "      <th>city</th>\n",
              "      <th>parent_category_name</th>\n",
              "      <th>category_name</th>\n",
              "      <th>param_1</th>\n",
              "      <th>param_2</th>\n",
              "      <th>param_3</th>\n",
              "      <th>title</th>\n",
              "      <th>description</th>\n",
              "      <th>price</th>\n",
              "      <th>item_seq_number</th>\n",
              "      <th>activation_date</th>\n",
              "      <th>user_type</th>\n",
              "      <th>image</th>\n",
              "      <th>image_top_1</th>\n",
              "      <th>deal_probability</th>\n",
              "    </tr>\n",
              "  </thead>\n",
              "  <tbody>\n",
              "    <tr>\n",
              "      <th>0</th>\n",
              "      <td>b912c3c6a6ad</td>\n",
              "      <td>e00f8ff2eaf9</td>\n",
              "      <td>Свердловская область</td>\n",
              "      <td>Екатеринбург</td>\n",
              "      <td>Личные вещи</td>\n",
              "      <td>Товары для детей и игрушки</td>\n",
              "      <td>Постельные принадлежности</td>\n",
              "      <td>NaN</td>\n",
              "      <td>NaN</td>\n",
              "      <td>Кокоби(кокон для сна)</td>\n",
              "      <td>Кокон для сна малыша,пользовались меньше месяц...</td>\n",
              "      <td>400.0</td>\n",
              "      <td>2</td>\n",
              "      <td>2017-03-28</td>\n",
              "      <td>Private</td>\n",
              "      <td>d10c7e016e03247a3bf2d13348fe959fe6f436c1caf64c...</td>\n",
              "      <td>1008.0</td>\n",
              "      <td>0.12789</td>\n",
              "    </tr>\n",
              "    <tr>\n",
              "      <th>1</th>\n",
              "      <td>2dac0150717d</td>\n",
              "      <td>39aeb48f0017</td>\n",
              "      <td>Самарская область</td>\n",
              "      <td>Самара</td>\n",
              "      <td>Для дома и дачи</td>\n",
              "      <td>Мебель и интерьер</td>\n",
              "      <td>Другое</td>\n",
              "      <td>NaN</td>\n",
              "      <td>NaN</td>\n",
              "      <td>Стойка для Одежды</td>\n",
              "      <td>Стойка для одежды, под вешалки. С бутика.</td>\n",
              "      <td>3000.0</td>\n",
              "      <td>19</td>\n",
              "      <td>2017-03-26</td>\n",
              "      <td>Private</td>\n",
              "      <td>79c9392cc51a9c81c6eb91eceb8e552171db39d7142700...</td>\n",
              "      <td>692.0</td>\n",
              "      <td>0.00000</td>\n",
              "    </tr>\n",
              "    <tr>\n",
              "      <th>2</th>\n",
              "      <td>ba83aefab5dc</td>\n",
              "      <td>91e2f88dd6e3</td>\n",
              "      <td>Ростовская область</td>\n",
              "      <td>Ростов-на-Дону</td>\n",
              "      <td>Бытовая электроника</td>\n",
              "      <td>Аудио и видео</td>\n",
              "      <td>Видео, DVD и Blu-ray плееры</td>\n",
              "      <td>NaN</td>\n",
              "      <td>NaN</td>\n",
              "      <td>Philips bluray</td>\n",
              "      <td>В хорошем состоянии, домашний кинотеатр с blu ...</td>\n",
              "      <td>4000.0</td>\n",
              "      <td>9</td>\n",
              "      <td>2017-03-20</td>\n",
              "      <td>Private</td>\n",
              "      <td>b7f250ee3f39e1fedd77c141f273703f4a9be59db4b48a...</td>\n",
              "      <td>3032.0</td>\n",
              "      <td>0.43177</td>\n",
              "    </tr>\n",
              "    <tr>\n",
              "      <th>3</th>\n",
              "      <td>02996f1dd2ea</td>\n",
              "      <td>bf5cccea572d</td>\n",
              "      <td>Татарстан</td>\n",
              "      <td>Набережные Челны</td>\n",
              "      <td>Личные вещи</td>\n",
              "      <td>Товары для детей и игрушки</td>\n",
              "      <td>Автомобильные кресла</td>\n",
              "      <td>NaN</td>\n",
              "      <td>NaN</td>\n",
              "      <td>Автокресло</td>\n",
              "      <td>Продам кресло от0-25кг</td>\n",
              "      <td>2200.0</td>\n",
              "      <td>286</td>\n",
              "      <td>2017-03-25</td>\n",
              "      <td>Company</td>\n",
              "      <td>e6ef97e0725637ea84e3d203e82dadb43ed3cc0a1c8413...</td>\n",
              "      <td>796.0</td>\n",
              "      <td>0.80323</td>\n",
              "    </tr>\n",
              "    <tr>\n",
              "      <th>4</th>\n",
              "      <td>7c90be56d2ab</td>\n",
              "      <td>ef50846afc0b</td>\n",
              "      <td>Волгоградская область</td>\n",
              "      <td>Волгоград</td>\n",
              "      <td>Транспорт</td>\n",
              "      <td>Автомобили</td>\n",
              "      <td>С пробегом</td>\n",
              "      <td>ВАЗ (LADA)</td>\n",
              "      <td>2110</td>\n",
              "      <td>ВАЗ 2110, 2003</td>\n",
              "      <td>Все вопросы по телефону.</td>\n",
              "      <td>40000.0</td>\n",
              "      <td>3</td>\n",
              "      <td>2017-03-16</td>\n",
              "      <td>Private</td>\n",
              "      <td>54a687a3a0fc1d68aed99bdaaf551c5c70b761b16fd0a2...</td>\n",
              "      <td>2264.0</td>\n",
              "      <td>0.20797</td>\n",
              "    </tr>\n",
              "  </tbody>\n",
              "</table>\n",
              "</div>"
            ],
            "text/plain": [
              "        item_id       user_id                 region              city  \\\n",
              "0  b912c3c6a6ad  e00f8ff2eaf9   Свердловская область      Екатеринбург   \n",
              "1  2dac0150717d  39aeb48f0017      Самарская область            Самара   \n",
              "2  ba83aefab5dc  91e2f88dd6e3     Ростовская область    Ростов-на-Дону   \n",
              "3  02996f1dd2ea  bf5cccea572d              Татарстан  Набережные Челны   \n",
              "4  7c90be56d2ab  ef50846afc0b  Волгоградская область         Волгоград   \n",
              "\n",
              "  parent_category_name               category_name  \\\n",
              "0          Личные вещи  Товары для детей и игрушки   \n",
              "1      Для дома и дачи           Мебель и интерьер   \n",
              "2  Бытовая электроника               Аудио и видео   \n",
              "3          Личные вещи  Товары для детей и игрушки   \n",
              "4            Транспорт                  Автомобили   \n",
              "\n",
              "                       param_1     param_2 param_3                  title  \\\n",
              "0    Постельные принадлежности         NaN     NaN  Кокоби(кокон для сна)   \n",
              "1                       Другое         NaN     NaN      Стойка для Одежды   \n",
              "2  Видео, DVD и Blu-ray плееры         NaN     NaN         Philips bluray   \n",
              "3         Автомобильные кресла         NaN     NaN             Автокресло   \n",
              "4                   С пробегом  ВАЗ (LADA)    2110         ВАЗ 2110, 2003   \n",
              "\n",
              "                                         description    price  \\\n",
              "0  Кокон для сна малыша,пользовались меньше месяц...    400.0   \n",
              "1          Стойка для одежды, под вешалки. С бутика.   3000.0   \n",
              "2  В хорошем состоянии, домашний кинотеатр с blu ...   4000.0   \n",
              "3                             Продам кресло от0-25кг   2200.0   \n",
              "4                           Все вопросы по телефону.  40000.0   \n",
              "\n",
              "   item_seq_number activation_date user_type  \\\n",
              "0                2      2017-03-28   Private   \n",
              "1               19      2017-03-26   Private   \n",
              "2                9      2017-03-20   Private   \n",
              "3              286      2017-03-25   Company   \n",
              "4                3      2017-03-16   Private   \n",
              "\n",
              "                                               image  image_top_1  \\\n",
              "0  d10c7e016e03247a3bf2d13348fe959fe6f436c1caf64c...       1008.0   \n",
              "1  79c9392cc51a9c81c6eb91eceb8e552171db39d7142700...        692.0   \n",
              "2  b7f250ee3f39e1fedd77c141f273703f4a9be59db4b48a...       3032.0   \n",
              "3  e6ef97e0725637ea84e3d203e82dadb43ed3cc0a1c8413...        796.0   \n",
              "4  54a687a3a0fc1d68aed99bdaaf551c5c70b761b16fd0a2...       2264.0   \n",
              "\n",
              "   deal_probability  \n",
              "0           0.12789  \n",
              "1           0.00000  \n",
              "2           0.43177  \n",
              "3           0.80323  \n",
              "4           0.20797  "
            ]
          },
          "metadata": {
            "tags": []
          },
          "execution_count": 10
        }
      ]
    },
    {
      "metadata": {
        "id": "zImh-pF34oEA",
        "colab_type": "code",
        "colab": {
          "base_uri": "https://localhost:8080/",
          "height": 370
        },
        "collapsed": true,
        "outputId": "4cdcbb0a-4dc1-47ca-ef28-77ec3f5f9422"
      },
      "cell_type": "code",
      "source": [
        "#train_df.drop(['title', 'description'], axis = 1, inplace = True)\n",
        "#train_df.info()"
      ],
      "execution_count": 49,
      "outputs": [
        {
          "output_type": "stream",
          "text": [
            "<class 'pandas.core.frame.DataFrame'>\n",
            "RangeIndex: 1503424 entries, 0 to 1503423\n",
            "Data columns (total 16 columns):\n",
            "item_id                 1503424 non-null object\n",
            "user_id                 1503424 non-null object\n",
            "region                  1503424 non-null object\n",
            "city                    1503424 non-null object\n",
            "parent_category_name    1503424 non-null object\n",
            "category_name           1503424 non-null object\n",
            "param_1                 1441848 non-null object\n",
            "param_2                 848882 non-null object\n",
            "param_3                 640859 non-null object\n",
            "price                   1418062 non-null float64\n",
            "item_seq_number         1503424 non-null int64\n",
            "activation_date         1503424 non-null object\n",
            "user_type               1503424 non-null object\n",
            "image                   1390836 non-null object\n",
            "image_top_1             1390836 non-null float64\n",
            "deal_probability        1503424 non-null float64\n",
            "dtypes: float64(3), int64(1), object(12)\n",
            "memory usage: 183.5+ MB\n"
          ],
          "name": "stdout"
        }
      ]
    },
    {
      "metadata": {
        "id": "WJ_9RQaR54wF",
        "colab_type": "code",
        "colab": {
          "base_uri": "https://localhost:8080/",
          "height": 202
        },
        "collapsed": true,
        "outputId": "7a519eba-cf0c-4fe2-8329-0cc10c7332dc"
      },
      "cell_type": "code",
      "source": [
        "train_df.describe(include='O')"
      ],
      "execution_count": 50,
      "outputs": [
        {
          "output_type": "execute_result",
          "data": {
            "text/html": [
              "<div>\n",
              "<style scoped>\n",
              "    .dataframe tbody tr th:only-of-type {\n",
              "        vertical-align: middle;\n",
              "    }\n",
              "\n",
              "    .dataframe tbody tr th {\n",
              "        vertical-align: top;\n",
              "    }\n",
              "\n",
              "    .dataframe thead th {\n",
              "        text-align: right;\n",
              "    }\n",
              "</style>\n",
              "<table border=\"1\" class=\"dataframe\">\n",
              "  <thead>\n",
              "    <tr style=\"text-align: right;\">\n",
              "      <th></th>\n",
              "      <th>item_id</th>\n",
              "      <th>user_id</th>\n",
              "      <th>region</th>\n",
              "      <th>city</th>\n",
              "      <th>parent_category_name</th>\n",
              "      <th>category_name</th>\n",
              "      <th>param_1</th>\n",
              "      <th>param_2</th>\n",
              "      <th>param_3</th>\n",
              "      <th>activation_date</th>\n",
              "      <th>user_type</th>\n",
              "      <th>image</th>\n",
              "    </tr>\n",
              "  </thead>\n",
              "  <tbody>\n",
              "    <tr>\n",
              "      <th>count</th>\n",
              "      <td>1503424</td>\n",
              "      <td>1503424</td>\n",
              "      <td>1503424</td>\n",
              "      <td>1503424</td>\n",
              "      <td>1503424</td>\n",
              "      <td>1503424</td>\n",
              "      <td>1441848</td>\n",
              "      <td>848882</td>\n",
              "      <td>640859</td>\n",
              "      <td>1503424</td>\n",
              "      <td>1503424</td>\n",
              "      <td>1390836</td>\n",
              "    </tr>\n",
              "    <tr>\n",
              "      <th>unique</th>\n",
              "      <td>1503424</td>\n",
              "      <td>771769</td>\n",
              "      <td>28</td>\n",
              "      <td>1733</td>\n",
              "      <td>9</td>\n",
              "      <td>47</td>\n",
              "      <td>371</td>\n",
              "      <td>271</td>\n",
              "      <td>1219</td>\n",
              "      <td>21</td>\n",
              "      <td>3</td>\n",
              "      <td>1390836</td>\n",
              "    </tr>\n",
              "    <tr>\n",
              "      <th>top</th>\n",
              "      <td>6cc9ce5f3ab1</td>\n",
              "      <td>45ba3f23bf25</td>\n",
              "      <td>Краснодарский край</td>\n",
              "      <td>Краснодар</td>\n",
              "      <td>Личные вещи</td>\n",
              "      <td>Одежда, обувь, аксессуары</td>\n",
              "      <td>Женская одежда</td>\n",
              "      <td>Обувь</td>\n",
              "      <td>Вторичка</td>\n",
              "      <td>2017-03-20</td>\n",
              "      <td>Private</td>\n",
              "      <td>2b2597c9ff4ae6326115df2e6966bb3125eee005dfae98...</td>\n",
              "    </tr>\n",
              "    <tr>\n",
              "      <th>freq</th>\n",
              "      <td>1</td>\n",
              "      <td>1080</td>\n",
              "      <td>141416</td>\n",
              "      <td>63638</td>\n",
              "      <td>697623</td>\n",
              "      <td>282753</td>\n",
              "      <td>226289</td>\n",
              "      <td>150450</td>\n",
              "      <td>50615</td>\n",
              "      <td>115190</td>\n",
              "      <td>1075706</td>\n",
              "      <td>1</td>\n",
              "    </tr>\n",
              "  </tbody>\n",
              "</table>\n",
              "</div>"
            ],
            "text/plain": [
              "             item_id       user_id              region       city  \\\n",
              "count        1503424       1503424             1503424    1503424   \n",
              "unique       1503424        771769                  28       1733   \n",
              "top     6cc9ce5f3ab1  45ba3f23bf25  Краснодарский край  Краснодар   \n",
              "freq               1          1080              141416      63638   \n",
              "\n",
              "       parent_category_name              category_name         param_1  \\\n",
              "count               1503424                    1503424         1441848   \n",
              "unique                    9                         47             371   \n",
              "top             Личные вещи  Одежда, обувь, аксессуары  Женская одежда   \n",
              "freq                 697623                     282753          226289   \n",
              "\n",
              "       param_2   param_3 activation_date user_type  \\\n",
              "count   848882    640859         1503424   1503424   \n",
              "unique     271      1219              21         3   \n",
              "top      Обувь  Вторичка      2017-03-20   Private   \n",
              "freq    150450     50615          115190   1075706   \n",
              "\n",
              "                                                    image  \n",
              "count                                             1390836  \n",
              "unique                                            1390836  \n",
              "top     2b2597c9ff4ae6326115df2e6966bb3125eee005dfae98...  \n",
              "freq                                                    1  "
            ]
          },
          "metadata": {
            "tags": []
          },
          "execution_count": 50
        }
      ]
    },
    {
      "metadata": {
        "id": "-aUhfzAC__5B",
        "colab_type": "code",
        "colab": {}
      },
      "cell_type": "code",
      "source": [
        "# Merge image features\n",
        "train_df = pd.merge(train_df, image_features, how = 'left', left_on = 'image', right_on = 'image_id')\n",
        "train_df.drop(['image_id'], axis =1, inplace = True)\n",
        "train_df['flag_image_missing'] = train_df['image'].isnull()*1\n",
        "train_df.head()"
      ],
      "execution_count": 0,
      "outputs": []
    },
    {
      "metadata": {
        "id": "8nDyUw-gAoK4",
        "colab_type": "code",
        "colab": {
          "base_uri": "https://localhost:8080/",
          "height": 284
        },
        "outputId": "40c84fa3-94e2-489f-ac33-720199345a4b"
      },
      "cell_type": "code",
      "source": [
        "train_df.describe().applymap('{:,.2f}'.format)"
      ],
      "execution_count": 59,
      "outputs": [
        {
          "output_type": "execute_result",
          "data": {
            "text/html": [
              "<div>\n",
              "<style scoped>\n",
              "    .dataframe tbody tr th:only-of-type {\n",
              "        vertical-align: middle;\n",
              "    }\n",
              "\n",
              "    .dataframe tbody tr th {\n",
              "        vertical-align: top;\n",
              "    }\n",
              "\n",
              "    .dataframe thead th {\n",
              "        text-align: right;\n",
              "    }\n",
              "</style>\n",
              "<table border=\"1\" class=\"dataframe\">\n",
              "  <thead>\n",
              "    <tr style=\"text-align: right;\">\n",
              "      <th></th>\n",
              "      <th>price</th>\n",
              "      <th>item_seq_number</th>\n",
              "      <th>image_top_1</th>\n",
              "      <th>deal_probability</th>\n",
              "      <th>flag_clear_img</th>\n",
              "      <th>image_size</th>\n",
              "      <th>image_shape_ratio</th>\n",
              "    </tr>\n",
              "  </thead>\n",
              "  <tbody>\n",
              "    <tr>\n",
              "      <th>count</th>\n",
              "      <td>1,418,062.00</td>\n",
              "      <td>1,503,424.00</td>\n",
              "      <td>1,390,836.00</td>\n",
              "      <td>1,503,424.00</td>\n",
              "      <td>1,390,832.00</td>\n",
              "      <td>1,390,832.00</td>\n",
              "      <td>1,390,832.00</td>\n",
              "    </tr>\n",
              "    <tr>\n",
              "      <th>mean</th>\n",
              "      <td>316,708.09</td>\n",
              "      <td>743.67</td>\n",
              "      <td>1,241.93</td>\n",
              "      <td>0.14</td>\n",
              "      <td>0.18</td>\n",
              "      <td>166,790.95</td>\n",
              "      <td>1.04</td>\n",
              "    </tr>\n",
              "    <tr>\n",
              "      <th>std</th>\n",
              "      <td>66,891,542.10</td>\n",
              "      <td>5,572.52</td>\n",
              "      <td>970.46</td>\n",
              "      <td>0.26</td>\n",
              "      <td>0.39</td>\n",
              "      <td>31,078.61</td>\n",
              "      <td>0.41</td>\n",
              "    </tr>\n",
              "    <tr>\n",
              "      <th>min</th>\n",
              "      <td>0.00</td>\n",
              "      <td>1.00</td>\n",
              "      <td>0.00</td>\n",
              "      <td>0.00</td>\n",
              "      <td>0.00</td>\n",
              "      <td>1,150.00</td>\n",
              "      <td>0.06</td>\n",
              "    </tr>\n",
              "    <tr>\n",
              "      <th>25%</th>\n",
              "      <td>500.00</td>\n",
              "      <td>9.00</td>\n",
              "      <td>425.00</td>\n",
              "      <td>0.00</td>\n",
              "      <td>0.00</td>\n",
              "      <td>152,640.00</td>\n",
              "      <td>0.75</td>\n",
              "    </tr>\n",
              "    <tr>\n",
              "      <th>50%</th>\n",
              "      <td>1,300.00</td>\n",
              "      <td>29.00</td>\n",
              "      <td>1,057.00</td>\n",
              "      <td>0.00</td>\n",
              "      <td>0.00</td>\n",
              "      <td>172,800.00</td>\n",
              "      <td>0.86</td>\n",
              "    </tr>\n",
              "    <tr>\n",
              "      <th>75%</th>\n",
              "      <td>7,000.00</td>\n",
              "      <td>88.00</td>\n",
              "      <td>2,217.00</td>\n",
              "      <td>0.15</td>\n",
              "      <td>0.00</td>\n",
              "      <td>172,800.00</td>\n",
              "      <td>1.33</td>\n",
              "    </tr>\n",
              "    <tr>\n",
              "      <th>max</th>\n",
              "      <td>79,501,011,850.00</td>\n",
              "      <td>204,429.00</td>\n",
              "      <td>3,066.00</td>\n",
              "      <td>1.00</td>\n",
              "      <td>1.00</td>\n",
              "      <td>230,400.00</td>\n",
              "      <td>22.07</td>\n",
              "    </tr>\n",
              "  </tbody>\n",
              "</table>\n",
              "</div>"
            ],
            "text/plain": [
              "                   price item_seq_number   image_top_1 deal_probability  \\\n",
              "count       1,418,062.00    1,503,424.00  1,390,836.00     1,503,424.00   \n",
              "mean          316,708.09          743.67      1,241.93             0.14   \n",
              "std        66,891,542.10        5,572.52        970.46             0.26   \n",
              "min                 0.00            1.00          0.00             0.00   \n",
              "25%               500.00            9.00        425.00             0.00   \n",
              "50%             1,300.00           29.00      1,057.00             0.00   \n",
              "75%             7,000.00           88.00      2,217.00             0.15   \n",
              "max    79,501,011,850.00      204,429.00      3,066.00             1.00   \n",
              "\n",
              "      flag_clear_img    image_size image_shape_ratio  \n",
              "count   1,390,832.00  1,390,832.00      1,390,832.00  \n",
              "mean            0.18    166,790.95              1.04  \n",
              "std             0.39     31,078.61              0.41  \n",
              "min             0.00      1,150.00              0.06  \n",
              "25%             0.00    152,640.00              0.75  \n",
              "50%             0.00    172,800.00              0.86  \n",
              "75%             0.00    172,800.00              1.33  \n",
              "max             1.00    230,400.00             22.07  "
            ]
          },
          "metadata": {
            "tags": []
          },
          "execution_count": 59
        }
      ]
    },
    {
      "metadata": {
        "id": "fZiLzL_CdtDG",
        "colab_type": "code",
        "colab": {
          "base_uri": "https://localhost:8080/",
          "height": 446
        },
        "collapsed": true,
        "outputId": "f9f6bcdd-5d0c-417c-f79c-b3c3b891505f"
      },
      "cell_type": "code",
      "source": [
        "# Merge text columns (title and description) post normalisation\n",
        "train_normal_text.columns = ['user_id', 'item_id', 'title_pn', 'description_pn']\n",
        "train_df = pd.merge(train_df, train_normal_text[['item_id', 'title_pn', 'description_pn']], how = 'left', on = 'item_id')\n",
        "train_df.head()"
      ],
      "execution_count": 14,
      "outputs": [
        {
          "output_type": "execute_result",
          "data": {
            "text/html": [
              "<div>\n",
              "<style scoped>\n",
              "    .dataframe tbody tr th:only-of-type {\n",
              "        vertical-align: middle;\n",
              "    }\n",
              "\n",
              "    .dataframe tbody tr th {\n",
              "        vertical-align: top;\n",
              "    }\n",
              "\n",
              "    .dataframe thead th {\n",
              "        text-align: right;\n",
              "    }\n",
              "</style>\n",
              "<table border=\"1\" class=\"dataframe\">\n",
              "  <thead>\n",
              "    <tr style=\"text-align: right;\">\n",
              "      <th></th>\n",
              "      <th>item_id</th>\n",
              "      <th>user_id</th>\n",
              "      <th>region</th>\n",
              "      <th>city</th>\n",
              "      <th>parent_category_name</th>\n",
              "      <th>category_name</th>\n",
              "      <th>param_1</th>\n",
              "      <th>param_2</th>\n",
              "      <th>param_3</th>\n",
              "      <th>title</th>\n",
              "      <th>...</th>\n",
              "      <th>user_type</th>\n",
              "      <th>image</th>\n",
              "      <th>image_top_1</th>\n",
              "      <th>deal_probability</th>\n",
              "      <th>image_id</th>\n",
              "      <th>flag_clear_img</th>\n",
              "      <th>image_size</th>\n",
              "      <th>image_shape_ratio</th>\n",
              "      <th>title_pn</th>\n",
              "      <th>description_pn</th>\n",
              "    </tr>\n",
              "  </thead>\n",
              "  <tbody>\n",
              "    <tr>\n",
              "      <th>0</th>\n",
              "      <td>b912c3c6a6ad</td>\n",
              "      <td>e00f8ff2eaf9</td>\n",
              "      <td>Свердловская область</td>\n",
              "      <td>Екатеринбург</td>\n",
              "      <td>Личные вещи</td>\n",
              "      <td>Товары для детей и игрушки</td>\n",
              "      <td>Постельные принадлежности</td>\n",
              "      <td>NaN</td>\n",
              "      <td>NaN</td>\n",
              "      <td>Кокоби(кокон для сна)</td>\n",
              "      <td>...</td>\n",
              "      <td>Private</td>\n",
              "      <td>d10c7e016e03247a3bf2d13348fe959fe6f436c1caf64c...</td>\n",
              "      <td>1008.0</td>\n",
              "      <td>0.12789</td>\n",
              "      <td>d10c7e016e03247a3bf2d13348fe959fe6f436c1caf64c...</td>\n",
              "      <td>0.0</td>\n",
              "      <td>171840.0</td>\n",
              "      <td>0.745833</td>\n",
              "      <td>кокоби кокон для сон</td>\n",
              "      <td>кокон для сон малыш пользоваться маленький мес...</td>\n",
              "    </tr>\n",
              "    <tr>\n",
              "      <th>1</th>\n",
              "      <td>2dac0150717d</td>\n",
              "      <td>39aeb48f0017</td>\n",
              "      <td>Самарская область</td>\n",
              "      <td>Самара</td>\n",
              "      <td>Для дома и дачи</td>\n",
              "      <td>Мебель и интерьер</td>\n",
              "      <td>Другое</td>\n",
              "      <td>NaN</td>\n",
              "      <td>NaN</td>\n",
              "      <td>Стойка для Одежды</td>\n",
              "      <td>...</td>\n",
              "      <td>Private</td>\n",
              "      <td>79c9392cc51a9c81c6eb91eceb8e552171db39d7142700...</td>\n",
              "      <td>692.0</td>\n",
              "      <td>0.00000</td>\n",
              "      <td>79c9392cc51a9c81c6eb91eceb8e552171db39d7142700...</td>\n",
              "      <td>0.0</td>\n",
              "      <td>172800.0</td>\n",
              "      <td>0.750000</td>\n",
              "      <td>стойка для одежда</td>\n",
              "      <td>стойка для одежда под вешалка с бутик</td>\n",
              "    </tr>\n",
              "    <tr>\n",
              "      <th>2</th>\n",
              "      <td>ba83aefab5dc</td>\n",
              "      <td>91e2f88dd6e3</td>\n",
              "      <td>Ростовская область</td>\n",
              "      <td>Ростов-на-Дону</td>\n",
              "      <td>Бытовая электроника</td>\n",
              "      <td>Аудио и видео</td>\n",
              "      <td>Видео, DVD и Blu-ray плееры</td>\n",
              "      <td>NaN</td>\n",
              "      <td>NaN</td>\n",
              "      <td>Philips bluray</td>\n",
              "      <td>...</td>\n",
              "      <td>Private</td>\n",
              "      <td>b7f250ee3f39e1fedd77c141f273703f4a9be59db4b48a...</td>\n",
              "      <td>3032.0</td>\n",
              "      <td>0.43177</td>\n",
              "      <td>b7f250ee3f39e1fedd77c141f273703f4a9be59db4b48a...</td>\n",
              "      <td>0.0</td>\n",
              "      <td>141120.0</td>\n",
              "      <td>1.088889</td>\n",
              "      <td>philips bluray</td>\n",
              "      <td>в хороший состояние домашний кинотеатр с blu r...</td>\n",
              "    </tr>\n",
              "    <tr>\n",
              "      <th>3</th>\n",
              "      <td>02996f1dd2ea</td>\n",
              "      <td>bf5cccea572d</td>\n",
              "      <td>Татарстан</td>\n",
              "      <td>Набережные Челны</td>\n",
              "      <td>Личные вещи</td>\n",
              "      <td>Товары для детей и игрушки</td>\n",
              "      <td>Автомобильные кресла</td>\n",
              "      <td>NaN</td>\n",
              "      <td>NaN</td>\n",
              "      <td>Автокресло</td>\n",
              "      <td>...</td>\n",
              "      <td>Company</td>\n",
              "      <td>e6ef97e0725637ea84e3d203e82dadb43ed3cc0a1c8413...</td>\n",
              "      <td>796.0</td>\n",
              "      <td>0.80323</td>\n",
              "      <td>e6ef97e0725637ea84e3d203e82dadb43ed3cc0a1c8413...</td>\n",
              "      <td>0.0</td>\n",
              "      <td>129600.0</td>\n",
              "      <td>1.000000</td>\n",
              "      <td>автокресло</td>\n",
              "      <td>продать кресло от0-25кг</td>\n",
              "    </tr>\n",
              "    <tr>\n",
              "      <th>4</th>\n",
              "      <td>7c90be56d2ab</td>\n",
              "      <td>ef50846afc0b</td>\n",
              "      <td>Волгоградская область</td>\n",
              "      <td>Волгоград</td>\n",
              "      <td>Транспорт</td>\n",
              "      <td>Автомобили</td>\n",
              "      <td>С пробегом</td>\n",
              "      <td>ВАЗ (LADA)</td>\n",
              "      <td>2110</td>\n",
              "      <td>ВАЗ 2110, 2003</td>\n",
              "      <td>...</td>\n",
              "      <td>Private</td>\n",
              "      <td>54a687a3a0fc1d68aed99bdaaf551c5c70b761b16fd0a2...</td>\n",
              "      <td>2264.0</td>\n",
              "      <td>0.20797</td>\n",
              "      <td>54a687a3a0fc1d68aed99bdaaf551c5c70b761b16fd0a2...</td>\n",
              "      <td>0.0</td>\n",
              "      <td>230400.0</td>\n",
              "      <td>1.777778</td>\n",
              "      <td>ваза 2110 2003</td>\n",
              "      <td>весь вопрос по телефон</td>\n",
              "    </tr>\n",
              "  </tbody>\n",
              "</table>\n",
              "<p>5 rows × 24 columns</p>\n",
              "</div>"
            ],
            "text/plain": [
              "        item_id       user_id                 region              city  \\\n",
              "0  b912c3c6a6ad  e00f8ff2eaf9   Свердловская область      Екатеринбург   \n",
              "1  2dac0150717d  39aeb48f0017      Самарская область            Самара   \n",
              "2  ba83aefab5dc  91e2f88dd6e3     Ростовская область    Ростов-на-Дону   \n",
              "3  02996f1dd2ea  bf5cccea572d              Татарстан  Набережные Челны   \n",
              "4  7c90be56d2ab  ef50846afc0b  Волгоградская область         Волгоград   \n",
              "\n",
              "  parent_category_name               category_name  \\\n",
              "0          Личные вещи  Товары для детей и игрушки   \n",
              "1      Для дома и дачи           Мебель и интерьер   \n",
              "2  Бытовая электроника               Аудио и видео   \n",
              "3          Личные вещи  Товары для детей и игрушки   \n",
              "4            Транспорт                  Автомобили   \n",
              "\n",
              "                       param_1     param_2 param_3                  title  \\\n",
              "0    Постельные принадлежности         NaN     NaN  Кокоби(кокон для сна)   \n",
              "1                       Другое         NaN     NaN      Стойка для Одежды   \n",
              "2  Видео, DVD и Blu-ray плееры         NaN     NaN         Philips bluray   \n",
              "3         Автомобильные кресла         NaN     NaN             Автокресло   \n",
              "4                   С пробегом  ВАЗ (LADA)    2110         ВАЗ 2110, 2003   \n",
              "\n",
              "                         ...                         user_type  \\\n",
              "0                        ...                           Private   \n",
              "1                        ...                           Private   \n",
              "2                        ...                           Private   \n",
              "3                        ...                           Company   \n",
              "4                        ...                           Private   \n",
              "\n",
              "                                               image  image_top_1  \\\n",
              "0  d10c7e016e03247a3bf2d13348fe959fe6f436c1caf64c...       1008.0   \n",
              "1  79c9392cc51a9c81c6eb91eceb8e552171db39d7142700...        692.0   \n",
              "2  b7f250ee3f39e1fedd77c141f273703f4a9be59db4b48a...       3032.0   \n",
              "3  e6ef97e0725637ea84e3d203e82dadb43ed3cc0a1c8413...        796.0   \n",
              "4  54a687a3a0fc1d68aed99bdaaf551c5c70b761b16fd0a2...       2264.0   \n",
              "\n",
              "  deal_probability                                           image_id  \\\n",
              "0          0.12789  d10c7e016e03247a3bf2d13348fe959fe6f436c1caf64c...   \n",
              "1          0.00000  79c9392cc51a9c81c6eb91eceb8e552171db39d7142700...   \n",
              "2          0.43177  b7f250ee3f39e1fedd77c141f273703f4a9be59db4b48a...   \n",
              "3          0.80323  e6ef97e0725637ea84e3d203e82dadb43ed3cc0a1c8413...   \n",
              "4          0.20797  54a687a3a0fc1d68aed99bdaaf551c5c70b761b16fd0a2...   \n",
              "\n",
              "  flag_clear_img  image_size  image_shape_ratio              title_pn  \\\n",
              "0            0.0    171840.0           0.745833  кокоби кокон для сон   \n",
              "1            0.0    172800.0           0.750000     стойка для одежда   \n",
              "2            0.0    141120.0           1.088889        philips bluray   \n",
              "3            0.0    129600.0           1.000000            автокресло   \n",
              "4            0.0    230400.0           1.777778        ваза 2110 2003   \n",
              "\n",
              "                                      description_pn  \n",
              "0  кокон для сон малыш пользоваться маленький мес...  \n",
              "1              стойка для одежда под вешалка с бутик  \n",
              "2  в хороший состояние домашний кинотеатр с blu r...  \n",
              "3                            продать кресло от0-25кг  \n",
              "4                             весь вопрос по телефон  \n",
              "\n",
              "[5 rows x 24 columns]"
            ]
          },
          "metadata": {
            "tags": []
          },
          "execution_count": 14
        }
      ]
    },
    {
      "metadata": {
        "id": "1jcoeVDM6uPc",
        "colab_type": "code",
        "colab": {
          "base_uri": "https://localhost:8080/",
          "height": 550
        },
        "collapsed": true,
        "outputId": "ea796b61-20a0-4077-9ad5-c9039d119e5e"
      },
      "cell_type": "code",
      "source": [
        "test_df = pd.read_csv('test.csv')\n",
        "test_df.head()\n",
        "\n",
        "'''\n",
        "total = test_df.isnull().sum().sort_values(ascending = False)\n",
        "percent = (test_df.isnull().sum()/test_df.isnull().count()*100).sort_values(ascending = False)\n",
        "missing_test_data  = pd.concat([total, percent], axis=1, keys=['Total', 'Percent'])\n",
        "missing_test_data\n",
        "'''\n",
        "# Merge image features\n",
        "#test_df = pd.merge(test_df, test_image_features, how = 'left', left_on = 'image', right_on = 'image_id')\n",
        "#test_df.drop(['image_id'], axis =1, inplace = True)\n",
        "test_df['flag_image_missing'] = test_df['image'].isnull()*1\n",
        "test_df.head()\n",
        "\n",
        "# Merge text columns (title and description) post normalisation\n",
        "test_normal_text.columns = ['user_id', 'item_id', 'title_pn', 'description_pn']\n",
        "test_df = pd.merge(test_df, test_normal_text[['item_id', 'title_pn', 'description_pn']], how = 'left', on = 'item_id')"
      ],
      "execution_count": 12,
      "outputs": [
        {
          "output_type": "execute_result",
          "data": {
            "text/html": [
              "<div>\n",
              "<style scoped>\n",
              "    .dataframe tbody tr th:only-of-type {\n",
              "        vertical-align: middle;\n",
              "    }\n",
              "\n",
              "    .dataframe tbody tr th {\n",
              "        vertical-align: top;\n",
              "    }\n",
              "\n",
              "    .dataframe thead th {\n",
              "        text-align: right;\n",
              "    }\n",
              "</style>\n",
              "<table border=\"1\" class=\"dataframe\">\n",
              "  <thead>\n",
              "    <tr style=\"text-align: right;\">\n",
              "      <th></th>\n",
              "      <th>Total</th>\n",
              "      <th>Percent</th>\n",
              "    </tr>\n",
              "  </thead>\n",
              "  <tbody>\n",
              "    <tr>\n",
              "      <th>param_3</th>\n",
              "      <td>306331</td>\n",
              "      <td>60.249431</td>\n",
              "    </tr>\n",
              "    <tr>\n",
              "      <th>param_2</th>\n",
              "      <td>233229</td>\n",
              "      <td>45.871670</td>\n",
              "    </tr>\n",
              "    <tr>\n",
              "      <th>image</th>\n",
              "      <td>42609</td>\n",
              "      <td>8.380373</td>\n",
              "    </tr>\n",
              "    <tr>\n",
              "      <th>image_top_1</th>\n",
              "      <td>42609</td>\n",
              "      <td>8.380373</td>\n",
              "    </tr>\n",
              "    <tr>\n",
              "      <th>price</th>\n",
              "      <td>30585</td>\n",
              "      <td>6.015483</td>\n",
              "    </tr>\n",
              "    <tr>\n",
              "      <th>param_1</th>\n",
              "      <td>22910</td>\n",
              "      <td>4.505957</td>\n",
              "    </tr>\n",
              "    <tr>\n",
              "      <th>item_seq_number</th>\n",
              "      <td>0</td>\n",
              "      <td>0.000000</td>\n",
              "    </tr>\n",
              "    <tr>\n",
              "      <th>description</th>\n",
              "      <td>0</td>\n",
              "      <td>0.000000</td>\n",
              "    </tr>\n",
              "    <tr>\n",
              "      <th>title</th>\n",
              "      <td>0</td>\n",
              "      <td>0.000000</td>\n",
              "    </tr>\n",
              "    <tr>\n",
              "      <th>activation_date</th>\n",
              "      <td>0</td>\n",
              "      <td>0.000000</td>\n",
              "    </tr>\n",
              "    <tr>\n",
              "      <th>user_type</th>\n",
              "      <td>0</td>\n",
              "      <td>0.000000</td>\n",
              "    </tr>\n",
              "    <tr>\n",
              "      <th>category_name</th>\n",
              "      <td>0</td>\n",
              "      <td>0.000000</td>\n",
              "    </tr>\n",
              "    <tr>\n",
              "      <th>parent_category_name</th>\n",
              "      <td>0</td>\n",
              "      <td>0.000000</td>\n",
              "    </tr>\n",
              "    <tr>\n",
              "      <th>city</th>\n",
              "      <td>0</td>\n",
              "      <td>0.000000</td>\n",
              "    </tr>\n",
              "    <tr>\n",
              "      <th>region</th>\n",
              "      <td>0</td>\n",
              "      <td>0.000000</td>\n",
              "    </tr>\n",
              "    <tr>\n",
              "      <th>user_id</th>\n",
              "      <td>0</td>\n",
              "      <td>0.000000</td>\n",
              "    </tr>\n",
              "    <tr>\n",
              "      <th>item_id</th>\n",
              "      <td>0</td>\n",
              "      <td>0.000000</td>\n",
              "    </tr>\n",
              "  </tbody>\n",
              "</table>\n",
              "</div>"
            ],
            "text/plain": [
              "                       Total    Percent\n",
              "param_3               306331  60.249431\n",
              "param_2               233229  45.871670\n",
              "image                  42609   8.380373\n",
              "image_top_1            42609   8.380373\n",
              "price                  30585   6.015483\n",
              "param_1                22910   4.505957\n",
              "item_seq_number            0   0.000000\n",
              "description                0   0.000000\n",
              "title                      0   0.000000\n",
              "activation_date            0   0.000000\n",
              "user_type                  0   0.000000\n",
              "category_name              0   0.000000\n",
              "parent_category_name       0   0.000000\n",
              "city                       0   0.000000\n",
              "region                     0   0.000000\n",
              "user_id                    0   0.000000\n",
              "item_id                    0   0.000000"
            ]
          },
          "metadata": {
            "tags": []
          },
          "execution_count": 12
        }
      ]
    },
    {
      "metadata": {
        "id": "GIAXRAo9fSUo",
        "colab_type": "code",
        "colab": {
          "base_uri": "https://localhost:8080/",
          "height": 437
        },
        "outputId": "b0bd3c6f-28f6-4482-d635-58af2a8de640"
      },
      "cell_type": "code",
      "source": [
        "test_df.rename(columns = {'user_id_x':'user_id'}, inplace = True)\n",
        "test_df.info()"
      ],
      "execution_count": 25,
      "outputs": [
        {
          "output_type": "stream",
          "text": [
            "<class 'pandas.core.frame.DataFrame'>\n",
            "Int64Index: 508438 entries, 0 to 508437\n",
            "Data columns (total 20 columns):\n",
            "item_id                 508438 non-null object\n",
            "user_id                 508438 non-null object\n",
            "region                  508438 non-null object\n",
            "city                    508438 non-null object\n",
            "parent_category_name    508438 non-null object\n",
            "category_name           508438 non-null object\n",
            "param_1                 485528 non-null object\n",
            "param_2                 275209 non-null object\n",
            "param_3                 202107 non-null object\n",
            "title                   508438 non-null object\n",
            "description             508438 non-null object\n",
            "price                   477853 non-null float64\n",
            "item_seq_number         508438 non-null int64\n",
            "activation_date         508438 non-null object\n",
            "user_type               508438 non-null object\n",
            "image                   465829 non-null object\n",
            "image_top_1             465829 non-null float64\n",
            "flag_image_missing      508438 non-null int64\n",
            "title_pn                508438 non-null object\n",
            "description_pn          508330 non-null object\n",
            "dtypes: float64(2), int64(2), object(16)\n",
            "memory usage: 81.5+ MB\n"
          ],
          "name": "stdout"
        }
      ]
    },
    {
      "metadata": {
        "id": "dO6bpRXy-zuD",
        "colab_type": "code",
        "colab": {
          "base_uri": "https://localhost:8080/",
          "height": 202
        },
        "collapsed": true,
        "outputId": "32c8e689-6bc7-410f-c0ee-88dc37ea59ac"
      },
      "cell_type": "code",
      "source": [
        "test_df.describe(include='O')"
      ],
      "execution_count": 55,
      "outputs": [
        {
          "output_type": "execute_result",
          "data": {
            "text/html": [
              "<div>\n",
              "<style scoped>\n",
              "    .dataframe tbody tr th:only-of-type {\n",
              "        vertical-align: middle;\n",
              "    }\n",
              "\n",
              "    .dataframe tbody tr th {\n",
              "        vertical-align: top;\n",
              "    }\n",
              "\n",
              "    .dataframe thead th {\n",
              "        text-align: right;\n",
              "    }\n",
              "</style>\n",
              "<table border=\"1\" class=\"dataframe\">\n",
              "  <thead>\n",
              "    <tr style=\"text-align: right;\">\n",
              "      <th></th>\n",
              "      <th>item_id</th>\n",
              "      <th>user_id</th>\n",
              "      <th>region</th>\n",
              "      <th>city</th>\n",
              "      <th>parent_category_name</th>\n",
              "      <th>category_name</th>\n",
              "      <th>param_1</th>\n",
              "      <th>param_2</th>\n",
              "      <th>param_3</th>\n",
              "      <th>title</th>\n",
              "      <th>description</th>\n",
              "      <th>activation_date</th>\n",
              "      <th>user_type</th>\n",
              "      <th>image</th>\n",
              "    </tr>\n",
              "  </thead>\n",
              "  <tbody>\n",
              "    <tr>\n",
              "      <th>count</th>\n",
              "      <td>508438</td>\n",
              "      <td>508438</td>\n",
              "      <td>508438</td>\n",
              "      <td>508438</td>\n",
              "      <td>508438</td>\n",
              "      <td>508438</td>\n",
              "      <td>485528</td>\n",
              "      <td>275209</td>\n",
              "      <td>202107</td>\n",
              "      <td>508438</td>\n",
              "      <td>508438</td>\n",
              "      <td>508438</td>\n",
              "      <td>508438</td>\n",
              "      <td>465829</td>\n",
              "    </tr>\n",
              "    <tr>\n",
              "      <th>unique</th>\n",
              "      <td>508438</td>\n",
              "      <td>306069</td>\n",
              "      <td>28</td>\n",
              "      <td>1644</td>\n",
              "      <td>9</td>\n",
              "      <td>47</td>\n",
              "      <td>361</td>\n",
              "      <td>255</td>\n",
              "      <td>973</td>\n",
              "      <td>298039</td>\n",
              "      <td>485209</td>\n",
              "      <td>9</td>\n",
              "      <td>3</td>\n",
              "      <td>465829</td>\n",
              "    </tr>\n",
              "    <tr>\n",
              "      <th>top</th>\n",
              "      <td>42b5f175cac0</td>\n",
              "      <td>abcdd1ca1a5c</td>\n",
              "      <td>Краснодарский край</td>\n",
              "      <td>Екатеринбург</td>\n",
              "      <td>Личные вещи</td>\n",
              "      <td>Одежда, обувь, аксессуары</td>\n",
              "      <td>Женская одежда</td>\n",
              "      <td>Обувь</td>\n",
              "      <td>Вторичка</td>\n",
              "      <td>Платье</td>\n",
              "      <td>В хорошем состоянии</td>\n",
              "      <td>2017-04-12</td>\n",
              "      <td>Private</td>\n",
              "      <td>d6080269821c937375618ada4b726a95dee6b502f094cd...</td>\n",
              "    </tr>\n",
              "    <tr>\n",
              "      <th>freq</th>\n",
              "      <td>1</td>\n",
              "      <td>496</td>\n",
              "      <td>45098</td>\n",
              "      <td>22391</td>\n",
              "      <td>216577</td>\n",
              "      <td>84896</td>\n",
              "      <td>66642</td>\n",
              "      <td>48776</td>\n",
              "      <td>18307</td>\n",
              "      <td>4673</td>\n",
              "      <td>918</td>\n",
              "      <td>81824</td>\n",
              "      <td>358259</td>\n",
              "      <td>1</td>\n",
              "    </tr>\n",
              "  </tbody>\n",
              "</table>\n",
              "</div>"
            ],
            "text/plain": [
              "             item_id       user_id              region          city  \\\n",
              "count         508438        508438              508438        508438   \n",
              "unique        508438        306069                  28          1644   \n",
              "top     42b5f175cac0  abcdd1ca1a5c  Краснодарский край  Екатеринбург   \n",
              "freq               1           496               45098         22391   \n",
              "\n",
              "       parent_category_name              category_name         param_1  \\\n",
              "count                508438                     508438          485528   \n",
              "unique                    9                         47             361   \n",
              "top             Личные вещи  Одежда, обувь, аксессуары  Женская одежда   \n",
              "freq                 216577                      84896           66642   \n",
              "\n",
              "       param_2   param_3   title          description activation_date  \\\n",
              "count   275209    202107  508438               508438          508438   \n",
              "unique     255       973  298039               485209               9   \n",
              "top      Обувь  Вторичка  Платье  В хорошем состоянии      2017-04-12   \n",
              "freq     48776     18307    4673                  918           81824   \n",
              "\n",
              "       user_type                                              image  \n",
              "count     508438                                             465829  \n",
              "unique         3                                             465829  \n",
              "top      Private  d6080269821c937375618ada4b726a95dee6b502f094cd...  \n",
              "freq      358259                                                  1  "
            ]
          },
          "metadata": {
            "tags": []
          },
          "execution_count": 55
        }
      ]
    },
    {
      "metadata": {
        "id": "N2T7JY6K2QgH",
        "colab_type": "code",
        "colab": {
          "base_uri": "https://localhost:8080/",
          "height": 2587
        },
        "collapsed": true,
        "outputId": "38ca0daa-ac07-44a1-9f73-1d2fc046ae70"
      },
      "cell_type": "code",
      "source": [
        "import nltk\n",
        "nltk.download('stopwords')\n",
        "stopWords = stopwords.words('russian')\n",
        "stopWords"
      ],
      "execution_count": 38,
      "outputs": [
        {
          "output_type": "stream",
          "text": [
            "[nltk_data] Downloading package stopwords to /content/nltk_data...\n",
            "[nltk_data]   Package stopwords is already up-to-date!\n"
          ],
          "name": "stdout"
        },
        {
          "output_type": "execute_result",
          "data": {
            "text/plain": [
              "['и',\n",
              " 'в',\n",
              " 'во',\n",
              " 'не',\n",
              " 'что',\n",
              " 'он',\n",
              " 'на',\n",
              " 'я',\n",
              " 'с',\n",
              " 'со',\n",
              " 'как',\n",
              " 'а',\n",
              " 'то',\n",
              " 'все',\n",
              " 'она',\n",
              " 'так',\n",
              " 'его',\n",
              " 'но',\n",
              " 'да',\n",
              " 'ты',\n",
              " 'к',\n",
              " 'у',\n",
              " 'же',\n",
              " 'вы',\n",
              " 'за',\n",
              " 'бы',\n",
              " 'по',\n",
              " 'только',\n",
              " 'ее',\n",
              " 'мне',\n",
              " 'было',\n",
              " 'вот',\n",
              " 'от',\n",
              " 'меня',\n",
              " 'еще',\n",
              " 'нет',\n",
              " 'о',\n",
              " 'из',\n",
              " 'ему',\n",
              " 'теперь',\n",
              " 'когда',\n",
              " 'даже',\n",
              " 'ну',\n",
              " 'вдруг',\n",
              " 'ли',\n",
              " 'если',\n",
              " 'уже',\n",
              " 'или',\n",
              " 'ни',\n",
              " 'быть',\n",
              " 'был',\n",
              " 'него',\n",
              " 'до',\n",
              " 'вас',\n",
              " 'нибудь',\n",
              " 'опять',\n",
              " 'уж',\n",
              " 'вам',\n",
              " 'ведь',\n",
              " 'там',\n",
              " 'потом',\n",
              " 'себя',\n",
              " 'ничего',\n",
              " 'ей',\n",
              " 'может',\n",
              " 'они',\n",
              " 'тут',\n",
              " 'где',\n",
              " 'есть',\n",
              " 'надо',\n",
              " 'ней',\n",
              " 'для',\n",
              " 'мы',\n",
              " 'тебя',\n",
              " 'их',\n",
              " 'чем',\n",
              " 'была',\n",
              " 'сам',\n",
              " 'чтоб',\n",
              " 'без',\n",
              " 'будто',\n",
              " 'чего',\n",
              " 'раз',\n",
              " 'тоже',\n",
              " 'себе',\n",
              " 'под',\n",
              " 'будет',\n",
              " 'ж',\n",
              " 'тогда',\n",
              " 'кто',\n",
              " 'этот',\n",
              " 'того',\n",
              " 'потому',\n",
              " 'этого',\n",
              " 'какой',\n",
              " 'совсем',\n",
              " 'ним',\n",
              " 'здесь',\n",
              " 'этом',\n",
              " 'один',\n",
              " 'почти',\n",
              " 'мой',\n",
              " 'тем',\n",
              " 'чтобы',\n",
              " 'нее',\n",
              " 'сейчас',\n",
              " 'были',\n",
              " 'куда',\n",
              " 'зачем',\n",
              " 'всех',\n",
              " 'никогда',\n",
              " 'можно',\n",
              " 'при',\n",
              " 'наконец',\n",
              " 'два',\n",
              " 'об',\n",
              " 'другой',\n",
              " 'хоть',\n",
              " 'после',\n",
              " 'над',\n",
              " 'больше',\n",
              " 'тот',\n",
              " 'через',\n",
              " 'эти',\n",
              " 'нас',\n",
              " 'про',\n",
              " 'всего',\n",
              " 'них',\n",
              " 'какая',\n",
              " 'много',\n",
              " 'разве',\n",
              " 'три',\n",
              " 'эту',\n",
              " 'моя',\n",
              " 'впрочем',\n",
              " 'хорошо',\n",
              " 'свою',\n",
              " 'этой',\n",
              " 'перед',\n",
              " 'иногда',\n",
              " 'лучше',\n",
              " 'чуть',\n",
              " 'том',\n",
              " 'нельзя',\n",
              " 'такой',\n",
              " 'им',\n",
              " 'более',\n",
              " 'всегда',\n",
              " 'конечно',\n",
              " 'всю',\n",
              " 'между']"
            ]
          },
          "metadata": {
            "tags": []
          },
          "execution_count": 38
        }
      ]
    },
    {
      "metadata": {
        "id": "YC35wJURBt8Q",
        "colab_type": "code",
        "colab": {
          "base_uri": "https://localhost:8080/",
          "height": 706
        },
        "collapsed": true,
        "outputId": "37a57d42-76bd-4613-b8a0-2f7a9e85753e"
      },
      "cell_type": "code",
      "source": [
        "### TFIDF Vectorizer ###\n",
        "def text_f(ngram_min, ngram_max, num_SVD, textcol, train_df, test_df):\n",
        "    tfidf_vec = TfidfVectorizer(ngram_range=(ngram_min,ngram_max), stop_words = stopWords)\n",
        "\n",
        "    train_df[textcol] = train_df[textcol].fillna('_NA_')\n",
        "    test_df[textcol] = test_df[textcol].fillna('_NA_')\n",
        "    \n",
        "    train_tfidf = tfidf_vec.fit_transform(train_df[textcol].values.tolist())\n",
        "    test_tfidf = tfidf_vec.transform(test_df[textcol].values.tolist())\n",
        "\n",
        "    ### SVD Components ###\n",
        "    n_comp = num_SVD\n",
        "    svd_obj = TruncatedSVD(n_components=n_comp, algorithm='arpack')\n",
        "    svd_obj.fit(train_tfidf)\n",
        "    train_svd = pd.DataFrame(svd_obj.transform(train_tfidf))\n",
        "    test_svd = pd.DataFrame(svd_obj.transform(test_tfidf))\n",
        "    train_svd.columns = ['svd_'+textcol+'_'+str(i+1) for i in range(n_comp)]\n",
        "    test_svd.columns = ['svd_'+textcol+'_'+str(i+1) for i in range(n_comp)]\n",
        "    train_df = pd.concat([train_df, train_svd], axis=1)\n",
        "    test_df = pd.concat([test_df, test_svd], axis=1)\n",
        "    del train_tfidf, test_tfidf, train_svd, test_svd\n",
        "    return train_df, test_df\n",
        "train_df, test_df = text_f(1, 1, 3, 'title', train_df, test_df)\n",
        "train_df, test_df = text_f(1, 1, 3, 'description', train_df, test_df)\n",
        "train_df, test_df = text_f(1, 1, 3, 'title_pn', train_df, test_df)\n",
        "train_df, test_df = text_f(1, 1, 3, 'description_pn', train_df, test_df)\n"
      ],
      "execution_count": 53,
      "outputs": [
        {
          "output_type": "stream",
          "text": [
            "<class 'pandas.core.frame.DataFrame'>\n",
            "Int64Index: 1503424 entries, 0 to 1503423\n",
            "Data columns (total 36 columns):\n",
            "item_id                 1503424 non-null object\n",
            "user_id                 1503424 non-null object\n",
            "region                  1503424 non-null object\n",
            "city                    1503424 non-null object\n",
            "parent_category_name    1503424 non-null object\n",
            "category_name           1503424 non-null object\n",
            "param_1                 1441848 non-null object\n",
            "param_2                 848882 non-null object\n",
            "param_3                 640859 non-null object\n",
            "title                   1503424 non-null object\n",
            "description             1503424 non-null object\n",
            "price                   1418062 non-null float64\n",
            "item_seq_number         1503424 non-null int64\n",
            "activation_date         1503424 non-null object\n",
            "user_type               1503424 non-null object\n",
            "image                   1390836 non-null object\n",
            "image_top_1             1390836 non-null float64\n",
            "deal_probability        1503424 non-null float64\n",
            "flag_clear_img          1390832 non-null float64\n",
            "image_size              1390832 non-null float64\n",
            "image_shape_ratio       1390832 non-null float64\n",
            "title_pn                1503424 non-null object\n",
            "description_pn          1503424 non-null object\n",
            "flag_image_missing      1503424 non-null int64\n",
            "svd_title_1             1503424 non-null float64\n",
            "svd_title_2             1503424 non-null float64\n",
            "svd_title_3             1503424 non-null float64\n",
            "svd_description_1       1503424 non-null float64\n",
            "svd_description_2       1503424 non-null float64\n",
            "svd_description_3       1503424 non-null float64\n",
            "svd_title_pn_1          1503424 non-null float64\n",
            "svd_title_pn_2          1503424 non-null float64\n",
            "svd_title_pn_3          1503424 non-null float64\n",
            "svd_description_pn_1    1503424 non-null float64\n",
            "svd_description_pn_2    1503424 non-null float64\n",
            "svd_description_pn_3    1503424 non-null float64\n",
            "dtypes: float64(18), int64(2), object(16)\n",
            "memory usage: 464.4+ MB\n"
          ],
          "name": "stdout"
        }
      ]
    },
    {
      "metadata": {
        "id": "RCOzyaxYujiE",
        "colab_type": "code",
        "colab": {
          "base_uri": "https://localhost:8080/",
          "height": 118
        },
        "outputId": "f12ceb4b-855b-4164-f231-c20b6c823705"
      },
      "cell_type": "code",
      "source": [
        "#Price, Image_top_1\n",
        "def other_f(df):\n",
        "    \n",
        "    df['flag_price_missing'] = df[\"price\"].isnull()*1\n",
        "    df[\"price_log\"] = np.log(df[\"price\"]+0.001)\n",
        "    df[\"price_log\"].fillna(-999,inplace=True)\n",
        "    \n",
        "    df[\"image_top_1\"].fillna(-999,inplace=True)\n",
        "    \n",
        "    df['activation_date'] = pd.to_datetime(df['activation_date'])\n",
        "    df[\"weekday\"] = df['activation_date'].dt.weekday\n",
        "    df[\"weekofyear\"] = df['activation_date'].dt.week\n",
        "    df[\"dayofmonth\"] = df['activation_date'].dt.day\n",
        "    \n",
        "    print(\"\\nEncode Variables\")\n",
        "    categorical = [\"region\", \"city\", \"parent_category_name\", \"category_name\", \"user_type\", \"param_1\", \"param_2\", \"param_3\"]\n",
        "    # , \"image_top_1\"]\n",
        "    print(\"Encoding :\",categorical)\n",
        "    # Encoder:\n",
        "    lbl = preprocessing.LabelEncoder()\n",
        "    for col in categorical:\n",
        "        df[col] = lbl.fit_transform(df[col].astype(str))\n",
        "    \n",
        "other_f(train_df)\n",
        "other_f(test_df)"
      ],
      "execution_count": 85,
      "outputs": [
        {
          "output_type": "stream",
          "text": [
            "\n",
            "Encode Variables\n",
            "Encoding : ['param_1', 'param_2', 'param_3']\n",
            "\n",
            "Encode Variables\n",
            "Encoding : ['param_1', 'param_2', 'param_3']\n"
          ],
          "name": "stdout"
        }
      ]
    },
    {
      "metadata": {
        "id": "3yIqunW6GPAU",
        "colab_type": "text"
      },
      "cell_type": "markdown",
      "source": [
        "**Step 3 - Training and Validation:**\n",
        "  * lightgbm with 5-fold Cross Validation\n"
      ]
    },
    {
      "metadata": {
        "id": "amYwJS6CPS8A",
        "colab_type": "code",
        "colab": {
          "base_uri": "https://localhost:8080/",
          "height": 386
        },
        "outputId": "87a4bfff-e65b-4ef6-d3b2-08d38389ef10"
      },
      "cell_type": "code",
      "source": [
        "#train_df['dayofmonth'].value_counts()\n",
        "#test_df['dayofmonth'].value_counts()"
      ],
      "execution_count": 100,
      "outputs": [
        {
          "output_type": "execute_result",
          "data": {
            "text/plain": [
              "20    115190\n",
              "27    114863\n",
              "19    114416\n",
              "26    113513\n",
              "28    112885\n",
              "21    110535\n",
              "22    109813\n",
              "15    108615\n",
              "23    106544\n",
              "16    106168\n",
              "17     98773\n",
              "18     97554\n",
              "24     97351\n",
              "25     97104\n",
              "29        87\n",
              "2          3\n",
              "1          3\n",
              "30         3\n",
              "3          2\n",
              "7          1\n",
              "31         1\n",
              "Name: dayofmonth, dtype: int64"
            ]
          },
          "metadata": {
            "tags": []
          },
          "execution_count": 100
        }
      ]
    },
    {
      "metadata": {
        "id": "3slDSNOr9mCx",
        "colab_type": "code",
        "colab": {
          "base_uri": "https://localhost:8080/",
          "height": 454
        },
        "outputId": "be01ba72-e149-4ba9-9da9-2a4b1727a3ed"
      },
      "cell_type": "code",
      "source": [
        "#Specify the features\n",
        "tabular_cols = ['flag_price_missing', 'price_log']\n",
        "time_cols = ['weekday', 'dayofmonth']\n",
        "encode_cols = ['region', 'city', 'parent_category_name', 'category_name', 'item_seq_number', 'user_type']\n",
        "text_cols = ['svd_title_1', 'svd_title_2', 'svd_title_3', 'svd_description_1', 'svd_description_2', 'svd_description_3', \"param_1\", \"param_2\", \"param_3\"]\n",
        "image_cols = ['image_top_1', 'flag_image_missing']\n",
        "\n",
        "select_cols = tabular_cols + time_cols + encode_cols + text_cols + image_cols\n",
        "\n",
        "train_df[select_cols].info()"
      ],
      "execution_count": 101,
      "outputs": [
        {
          "output_type": "stream",
          "text": [
            "<class 'pandas.core.frame.DataFrame'>\n",
            "Int64Index: 1503424 entries, 0 to 1503423\n",
            "Data columns (total 21 columns):\n",
            "flag_price_missing      1503424 non-null int64\n",
            "price_log               1503424 non-null float64\n",
            "weekday                 1503424 non-null int64\n",
            "dayofmonth              1503424 non-null int64\n",
            "region                  1503424 non-null int64\n",
            "city                    1503424 non-null int64\n",
            "parent_category_name    1503424 non-null int64\n",
            "category_name           1503424 non-null int64\n",
            "item_seq_number         1503424 non-null int64\n",
            "user_type               1503424 non-null int64\n",
            "svd_title_1             1503424 non-null float64\n",
            "svd_title_2             1503424 non-null float64\n",
            "svd_title_3             1503424 non-null float64\n",
            "svd_description_1       1503424 non-null float64\n",
            "svd_description_2       1503424 non-null float64\n",
            "svd_description_3       1503424 non-null float64\n",
            "param_1                 1503424 non-null int64\n",
            "param_2                 1503424 non-null int64\n",
            "param_3                 1503424 non-null int64\n",
            "image_top_1             1503424 non-null float64\n",
            "flag_image_missing      1503424 non-null int64\n",
            "dtypes: float64(8), int64(13)\n",
            "memory usage: 292.3 MB\n"
          ],
          "name": "stdout"
        }
      ]
    },
    {
      "metadata": {
        "id": "lcglyZlQuBx5",
        "colab_type": "code",
        "colab": {
          "base_uri": "https://localhost:8080/",
          "height": 3038
        },
        "collapsed": true,
        "outputId": "23fa1216-1bb2-4ea0-daca-c0894414877f"
      },
      "cell_type": "code",
      "source": [
        "#Specify the parameters\n",
        "params = {\n",
        "    \"objective\" : \"regression\",\n",
        "    \"metric\" : \"rmse\",\n",
        "    \"num_leaves\" : 30,\n",
        "    \"learning_rate\" : 0.1,\n",
        "    \"bagging_fraction\" : 0.7,\n",
        "    \"feature_fraction\" : 0.7,\n",
        "    \"bagging_frequency\" : 5,\n",
        "    \"bagging_seed\" : 2018,\n",
        "    \"verbosity\" : -1\n",
        "    }\n",
        "\n",
        "\n",
        "from sklearn.cross_validation import KFold\n",
        "\n",
        "\n",
        "  \n",
        "def run_kfold(k, X_all, y_all, max_iteration, early_stop_iteration):\n",
        "    kf = KFold(train_df.shape[0], n_folds=k)\n",
        "    outcomes = []\n",
        "    eval_summary = []\n",
        "    fold = 0\n",
        "    for train_index, valid_index in kf:\n",
        "        fold += 1\n",
        "        X_train, X_valid = X_all.values[train_index], X_all.values[valid_index]\n",
        "        y_train, y_valid = y_all.values[train_index], y_all.values[valid_index]\n",
        "        lgtrain = lgb.Dataset(X_train, label=y_train)\n",
        "        lgval = lgb.Dataset(X_valid, label=y_valid)\n",
        "        evals_result = {}\n",
        "        model = lgb.train(params, lgtrain, max_iteration, valid_sets=[lgval], early_stopping_rounds=early_stop_iteration, verbose_eval=50, evals_result=evals_result)\n",
        "        print(\"Fold {0} best iteration: {1}\".format(fold, model.best_iteration))\n",
        "        \n",
        "        rmse = np.sqrt(metrics.mean_squared_error(y_valid, model.predict(X_valid, num_iteration=model.best_iteration)))\n",
        "        print(\"Fold {0} rmse: {1}\".format(fold, rmse))  \n",
        "        \n",
        "        outcomes.append(rmse)\n",
        "        eval_summary.append(evals_result)\n",
        "           \n",
        "    mean_outcome = np.mean(outcomes)\n",
        "    std_outcome = np.std(outcomes)\n",
        "    print(\"Mean RMSE: {0}; Std RMSE {1}\".format(mean_outcome, std_outcome)) \n",
        "    return eval_summary\n",
        "    \n",
        "    #return model, evals_result\n",
        "\n",
        "eval_summary = run_kfold(k = 5, X_all = train_df[select_cols], y_all = train_df['deal_probability'], max_iteration = 1000, early_stop_iteration = 100)\n",
        "#pd.DataFrame(dict(zip(['fold 0', 'fold 1', 'fold 2', 'fold 3', 'fold 4'], eval_summary))).plot.line()"
      ],
      "execution_count": 102,
      "outputs": [
        {
          "output_type": "stream",
          "text": [
            "Training until validation scores don't improve for 100 rounds.\n",
            "[50]\tvalid_0's rmse: 0.232062\n",
            "[100]\tvalid_0's rmse: 0.230113\n",
            "[150]\tvalid_0's rmse: 0.229196\n",
            "[200]\tvalid_0's rmse: 0.228599\n",
            "[250]\tvalid_0's rmse: 0.228232\n",
            "[300]\tvalid_0's rmse: 0.227879\n",
            "[350]\tvalid_0's rmse: 0.227598\n",
            "[400]\tvalid_0's rmse: 0.2273\n",
            "[450]\tvalid_0's rmse: 0.227099\n",
            "[500]\tvalid_0's rmse: 0.22693\n",
            "[550]\tvalid_0's rmse: 0.226803\n",
            "[600]\tvalid_0's rmse: 0.226643\n",
            "[650]\tvalid_0's rmse: 0.226497\n",
            "[700]\tvalid_0's rmse: 0.226369\n",
            "[750]\tvalid_0's rmse: 0.226233\n",
            "[800]\tvalid_0's rmse: 0.22614\n",
            "[850]\tvalid_0's rmse: 0.226056\n",
            "[900]\tvalid_0's rmse: 0.225985\n",
            "[950]\tvalid_0's rmse: 0.225926\n",
            "[1000]\tvalid_0's rmse: 0.225866\n",
            "Did not meet early stopping. Best iteration is:\n",
            "[1000]\tvalid_0's rmse: 0.225866\n",
            "Fold 1 best iteration: 1000\n",
            "Fold 1 rmse: 0.22586565420024468\n",
            "Training until validation scores don't improve for 100 rounds.\n",
            "[50]\tvalid_0's rmse: 0.23194\n",
            "[100]\tvalid_0's rmse: 0.230044\n",
            "[150]\tvalid_0's rmse: 0.229133\n",
            "[200]\tvalid_0's rmse: 0.228555\n",
            "[250]\tvalid_0's rmse: 0.228177\n",
            "[300]\tvalid_0's rmse: 0.22779\n",
            "[350]\tvalid_0's rmse: 0.227478\n",
            "[400]\tvalid_0's rmse: 0.22727\n",
            "[450]\tvalid_0's rmse: 0.227094\n",
            "[500]\tvalid_0's rmse: 0.22691\n",
            "[550]\tvalid_0's rmse: 0.226762\n",
            "[600]\tvalid_0's rmse: 0.226627\n",
            "[650]\tvalid_0's rmse: 0.226499\n",
            "[700]\tvalid_0's rmse: 0.226406\n",
            "[750]\tvalid_0's rmse: 0.22631\n",
            "[800]\tvalid_0's rmse: 0.226239\n",
            "[850]\tvalid_0's rmse: 0.226153\n",
            "[900]\tvalid_0's rmse: 0.226084\n",
            "[950]\tvalid_0's rmse: 0.226009\n",
            "[1000]\tvalid_0's rmse: 0.225954\n",
            "Did not meet early stopping. Best iteration is:\n",
            "[1000]\tvalid_0's rmse: 0.225954\n",
            "Fold 2 best iteration: 1000\n",
            "Fold 2 rmse: 0.22595438587671304\n",
            "Training until validation scores don't improve for 100 rounds.\n",
            "[50]\tvalid_0's rmse: 0.23182\n",
            "[100]\tvalid_0's rmse: 0.229894\n",
            "[150]\tvalid_0's rmse: 0.229002\n",
            "[200]\tvalid_0's rmse: 0.228369\n",
            "[250]\tvalid_0's rmse: 0.228063\n",
            "[300]\tvalid_0's rmse: 0.227667\n",
            "[350]\tvalid_0's rmse: 0.22744\n",
            "[400]\tvalid_0's rmse: 0.227203\n",
            "[450]\tvalid_0's rmse: 0.226945\n",
            "[500]\tvalid_0's rmse: 0.226695\n",
            "[550]\tvalid_0's rmse: 0.22654\n",
            "[600]\tvalid_0's rmse: 0.2264\n",
            "[650]\tvalid_0's rmse: 0.226284\n",
            "[700]\tvalid_0's rmse: 0.226174\n",
            "[750]\tvalid_0's rmse: 0.226068\n",
            "[800]\tvalid_0's rmse: 0.225973\n",
            "[850]\tvalid_0's rmse: 0.225852\n",
            "[900]\tvalid_0's rmse: 0.225761\n",
            "[950]\tvalid_0's rmse: 0.225683\n",
            "[1000]\tvalid_0's rmse: 0.225629\n",
            "Did not meet early stopping. Best iteration is:\n",
            "[1000]\tvalid_0's rmse: 0.225629\n",
            "Fold 3 best iteration: 1000\n",
            "Fold 3 rmse: 0.22562909201697653\n",
            "Training until validation scores don't improve for 100 rounds.\n",
            "[50]\tvalid_0's rmse: 0.232117\n",
            "[100]\tvalid_0's rmse: 0.230253\n",
            "[150]\tvalid_0's rmse: 0.229326\n",
            "[200]\tvalid_0's rmse: 0.228743\n",
            "[250]\tvalid_0's rmse: 0.228306\n",
            "[300]\tvalid_0's rmse: 0.228048\n"
          ],
          "name": "stdout"
        },
        {
          "output_type": "stream",
          "text": [
            "[350]\tvalid_0's rmse: 0.227768\n",
            "[400]\tvalid_0's rmse: 0.227535\n",
            "[450]\tvalid_0's rmse: 0.227284\n",
            "[500]\tvalid_0's rmse: 0.22715\n",
            "[550]\tvalid_0's rmse: 0.226964\n",
            "[600]\tvalid_0's rmse: 0.226839\n",
            "[650]\tvalid_0's rmse: 0.226683\n",
            "[700]\tvalid_0's rmse: 0.226563\n",
            "[750]\tvalid_0's rmse: 0.226425\n",
            "[800]\tvalid_0's rmse: 0.226342\n",
            "[850]\tvalid_0's rmse: 0.226242\n",
            "[900]\tvalid_0's rmse: 0.226151\n",
            "[950]\tvalid_0's rmse: 0.226061\n",
            "[1000]\tvalid_0's rmse: 0.226\n",
            "Did not meet early stopping. Best iteration is:\n",
            "[1000]\tvalid_0's rmse: 0.226\n",
            "Fold 4 best iteration: 1000\n",
            "Fold 4 rmse: 0.22600047550587093\n",
            "Training until validation scores don't improve for 100 rounds.\n",
            "[50]\tvalid_0's rmse: 0.232388\n",
            "[100]\tvalid_0's rmse: 0.230411\n",
            "[150]\tvalid_0's rmse: 0.22958\n",
            "[200]\tvalid_0's rmse: 0.228922\n",
            "[250]\tvalid_0's rmse: 0.228473\n",
            "[300]\tvalid_0's rmse: 0.228174\n",
            "[350]\tvalid_0's rmse: 0.227889\n",
            "[400]\tvalid_0's rmse: 0.227596\n",
            "[450]\tvalid_0's rmse: 0.227371\n",
            "[500]\tvalid_0's rmse: 0.227179\n",
            "[550]\tvalid_0's rmse: 0.227034\n",
            "[600]\tvalid_0's rmse: 0.226884\n",
            "[650]\tvalid_0's rmse: 0.226742\n",
            "[700]\tvalid_0's rmse: 0.22663\n",
            "[750]\tvalid_0's rmse: 0.226523\n",
            "[800]\tvalid_0's rmse: 0.226389\n",
            "[850]\tvalid_0's rmse: 0.226282\n",
            "[900]\tvalid_0's rmse: 0.22618\n",
            "[950]\tvalid_0's rmse: 0.22609\n",
            "[1000]\tvalid_0's rmse: 0.226017\n",
            "Did not meet early stopping. Best iteration is:\n",
            "[998]\tvalid_0's rmse: 0.226016\n",
            "Fold 5 best iteration: 998\n",
            "Fold 5 rmse: 0.22601556998140315\n",
            "Mean RMSE: 0.2258930355162417; Std RMSE 0.00014194211533154354\n"
          ],
          "name": "stdout"
        },
        {
          "output_type": "error",
          "ename": "TypeError",
          "evalue": "ignored",
          "traceback": [
            "\u001b[0;31m---------------------------------------------------------------------------\u001b[0m",
            "\u001b[0;31mTypeError\u001b[0m                                 Traceback (most recent call last)",
            "\u001b[0;32m<ipython-input-102-6ef952e98b38>\u001b[0m in \u001b[0;36m<module>\u001b[0;34m()\u001b[0m\n\u001b[1;32m     45\u001b[0m \u001b[0;34m\u001b[0m\u001b[0m\n\u001b[1;32m     46\u001b[0m \u001b[0meval_summary\u001b[0m \u001b[0;34m=\u001b[0m \u001b[0mrun_kfold\u001b[0m\u001b[0;34m(\u001b[0m\u001b[0mk\u001b[0m \u001b[0;34m=\u001b[0m \u001b[0;36m5\u001b[0m\u001b[0;34m,\u001b[0m \u001b[0mX_all\u001b[0m \u001b[0;34m=\u001b[0m \u001b[0mtrain_df\u001b[0m\u001b[0;34m[\u001b[0m\u001b[0mselect_cols\u001b[0m\u001b[0;34m]\u001b[0m\u001b[0;34m,\u001b[0m \u001b[0my_all\u001b[0m \u001b[0;34m=\u001b[0m \u001b[0mtrain_df\u001b[0m\u001b[0;34m[\u001b[0m\u001b[0;34m'deal_probability'\u001b[0m\u001b[0;34m]\u001b[0m\u001b[0;34m,\u001b[0m \u001b[0mmax_iteration\u001b[0m \u001b[0;34m=\u001b[0m \u001b[0;36m1000\u001b[0m\u001b[0;34m,\u001b[0m \u001b[0mearly_stop_iteration\u001b[0m \u001b[0;34m=\u001b[0m \u001b[0;36m100\u001b[0m\u001b[0;34m)\u001b[0m\u001b[0;34m\u001b[0m\u001b[0m\n\u001b[0;32m---> 47\u001b[0;31m \u001b[0mpd\u001b[0m\u001b[0;34m.\u001b[0m\u001b[0mDataFrame\u001b[0m\u001b[0;34m(\u001b[0m\u001b[0mdict\u001b[0m\u001b[0;34m(\u001b[0m\u001b[0mzip\u001b[0m\u001b[0;34m(\u001b[0m\u001b[0;34m[\u001b[0m\u001b[0;34m'fold 0'\u001b[0m\u001b[0;34m,\u001b[0m \u001b[0;34m'fold 1'\u001b[0m\u001b[0;34m,\u001b[0m \u001b[0;34m'fold 2'\u001b[0m\u001b[0;34m,\u001b[0m \u001b[0;34m'fold 3'\u001b[0m\u001b[0;34m,\u001b[0m \u001b[0;34m'fold 4'\u001b[0m\u001b[0;34m]\u001b[0m\u001b[0;34m,\u001b[0m \u001b[0meval_summary\u001b[0m\u001b[0;34m)\u001b[0m\u001b[0;34m)\u001b[0m\u001b[0;34m)\u001b[0m\u001b[0;34m.\u001b[0m\u001b[0mplot\u001b[0m\u001b[0;34m.\u001b[0m\u001b[0mline\u001b[0m\u001b[0;34m(\u001b[0m\u001b[0;34m)\u001b[0m\u001b[0;34m\u001b[0m\u001b[0m\n\u001b[0m",
            "\u001b[0;32m/usr/local/lib/python3.6/dist-packages/pandas/plotting/_core.py\u001b[0m in \u001b[0;36mline\u001b[0;34m(self, x, y, **kwds)\u001b[0m\n\u001b[1;32m   2695\u001b[0m         \u001b[0maxes\u001b[0m \u001b[0;34m:\u001b[0m \u001b[0mmatplotlib\u001b[0m\u001b[0;34m.\u001b[0m\u001b[0mAxesSubplot\u001b[0m \u001b[0;32mor\u001b[0m \u001b[0mnp\u001b[0m\u001b[0;34m.\u001b[0m\u001b[0marray\u001b[0m \u001b[0mof\u001b[0m \u001b[0mthem\u001b[0m\u001b[0;34m\u001b[0m\u001b[0m\n\u001b[1;32m   2696\u001b[0m         \"\"\"\n\u001b[0;32m-> 2697\u001b[0;31m         \u001b[0;32mreturn\u001b[0m \u001b[0mself\u001b[0m\u001b[0;34m(\u001b[0m\u001b[0mkind\u001b[0m\u001b[0;34m=\u001b[0m\u001b[0;34m'line'\u001b[0m\u001b[0;34m,\u001b[0m \u001b[0mx\u001b[0m\u001b[0;34m=\u001b[0m\u001b[0mx\u001b[0m\u001b[0;34m,\u001b[0m \u001b[0my\u001b[0m\u001b[0;34m=\u001b[0m\u001b[0my\u001b[0m\u001b[0;34m,\u001b[0m \u001b[0;34m**\u001b[0m\u001b[0mkwds\u001b[0m\u001b[0;34m)\u001b[0m\u001b[0;34m\u001b[0m\u001b[0m\n\u001b[0m\u001b[1;32m   2698\u001b[0m \u001b[0;34m\u001b[0m\u001b[0m\n\u001b[1;32m   2699\u001b[0m     \u001b[0;32mdef\u001b[0m \u001b[0mbar\u001b[0m\u001b[0;34m(\u001b[0m\u001b[0mself\u001b[0m\u001b[0;34m,\u001b[0m \u001b[0mx\u001b[0m\u001b[0;34m=\u001b[0m\u001b[0;32mNone\u001b[0m\u001b[0;34m,\u001b[0m \u001b[0my\u001b[0m\u001b[0;34m=\u001b[0m\u001b[0;32mNone\u001b[0m\u001b[0;34m,\u001b[0m \u001b[0;34m**\u001b[0m\u001b[0mkwds\u001b[0m\u001b[0;34m)\u001b[0m\u001b[0;34m:\u001b[0m\u001b[0;34m\u001b[0m\u001b[0m\n",
            "\u001b[0;32m/usr/local/lib/python3.6/dist-packages/pandas/plotting/_core.py\u001b[0m in \u001b[0;36m__call__\u001b[0;34m(self, x, y, kind, ax, subplots, sharex, sharey, layout, figsize, use_index, title, grid, legend, style, logx, logy, loglog, xticks, yticks, xlim, ylim, rot, fontsize, colormap, table, yerr, xerr, secondary_y, sort_columns, **kwds)\u001b[0m\n\u001b[1;32m   2675\u001b[0m                           \u001b[0mfontsize\u001b[0m\u001b[0;34m=\u001b[0m\u001b[0mfontsize\u001b[0m\u001b[0;34m,\u001b[0m \u001b[0mcolormap\u001b[0m\u001b[0;34m=\u001b[0m\u001b[0mcolormap\u001b[0m\u001b[0;34m,\u001b[0m \u001b[0mtable\u001b[0m\u001b[0;34m=\u001b[0m\u001b[0mtable\u001b[0m\u001b[0;34m,\u001b[0m\u001b[0;34m\u001b[0m\u001b[0m\n\u001b[1;32m   2676\u001b[0m                           \u001b[0myerr\u001b[0m\u001b[0;34m=\u001b[0m\u001b[0myerr\u001b[0m\u001b[0;34m,\u001b[0m \u001b[0mxerr\u001b[0m\u001b[0;34m=\u001b[0m\u001b[0mxerr\u001b[0m\u001b[0;34m,\u001b[0m \u001b[0msecondary_y\u001b[0m\u001b[0;34m=\u001b[0m\u001b[0msecondary_y\u001b[0m\u001b[0;34m,\u001b[0m\u001b[0;34m\u001b[0m\u001b[0m\n\u001b[0;32m-> 2677\u001b[0;31m                           sort_columns=sort_columns, **kwds)\n\u001b[0m\u001b[1;32m   2678\u001b[0m     \u001b[0m__call__\u001b[0m\u001b[0;34m.\u001b[0m\u001b[0m__doc__\u001b[0m \u001b[0;34m=\u001b[0m \u001b[0mplot_frame\u001b[0m\u001b[0;34m.\u001b[0m\u001b[0m__doc__\u001b[0m\u001b[0;34m\u001b[0m\u001b[0m\n\u001b[1;32m   2679\u001b[0m \u001b[0;34m\u001b[0m\u001b[0m\n",
            "\u001b[0;32m/usr/local/lib/python3.6/dist-packages/pandas/plotting/_core.py\u001b[0m in \u001b[0;36mplot_frame\u001b[0;34m(data, x, y, kind, ax, subplots, sharex, sharey, layout, figsize, use_index, title, grid, legend, style, logx, logy, loglog, xticks, yticks, xlim, ylim, rot, fontsize, colormap, table, yerr, xerr, secondary_y, sort_columns, **kwds)\u001b[0m\n\u001b[1;32m   1900\u001b[0m                  \u001b[0myerr\u001b[0m\u001b[0;34m=\u001b[0m\u001b[0myerr\u001b[0m\u001b[0;34m,\u001b[0m \u001b[0mxerr\u001b[0m\u001b[0;34m=\u001b[0m\u001b[0mxerr\u001b[0m\u001b[0;34m,\u001b[0m\u001b[0;34m\u001b[0m\u001b[0m\n\u001b[1;32m   1901\u001b[0m                  \u001b[0msecondary_y\u001b[0m\u001b[0;34m=\u001b[0m\u001b[0msecondary_y\u001b[0m\u001b[0;34m,\u001b[0m \u001b[0msort_columns\u001b[0m\u001b[0;34m=\u001b[0m\u001b[0msort_columns\u001b[0m\u001b[0;34m,\u001b[0m\u001b[0;34m\u001b[0m\u001b[0m\n\u001b[0;32m-> 1902\u001b[0;31m                  **kwds)\n\u001b[0m\u001b[1;32m   1903\u001b[0m \u001b[0;34m\u001b[0m\u001b[0m\n\u001b[1;32m   1904\u001b[0m \u001b[0;34m\u001b[0m\u001b[0m\n",
            "\u001b[0;32m/usr/local/lib/python3.6/dist-packages/pandas/plotting/_core.py\u001b[0m in \u001b[0;36m_plot\u001b[0;34m(data, x, y, subplots, ax, kind, **kwds)\u001b[0m\n\u001b[1;32m   1727\u001b[0m         \u001b[0mplot_obj\u001b[0m \u001b[0;34m=\u001b[0m \u001b[0mklass\u001b[0m\u001b[0;34m(\u001b[0m\u001b[0mdata\u001b[0m\u001b[0;34m,\u001b[0m \u001b[0msubplots\u001b[0m\u001b[0;34m=\u001b[0m\u001b[0msubplots\u001b[0m\u001b[0;34m,\u001b[0m \u001b[0max\u001b[0m\u001b[0;34m=\u001b[0m\u001b[0max\u001b[0m\u001b[0;34m,\u001b[0m \u001b[0mkind\u001b[0m\u001b[0;34m=\u001b[0m\u001b[0mkind\u001b[0m\u001b[0;34m,\u001b[0m \u001b[0;34m**\u001b[0m\u001b[0mkwds\u001b[0m\u001b[0;34m)\u001b[0m\u001b[0;34m\u001b[0m\u001b[0m\n\u001b[1;32m   1728\u001b[0m \u001b[0;34m\u001b[0m\u001b[0m\n\u001b[0;32m-> 1729\u001b[0;31m     \u001b[0mplot_obj\u001b[0m\u001b[0;34m.\u001b[0m\u001b[0mgenerate\u001b[0m\u001b[0;34m(\u001b[0m\u001b[0;34m)\u001b[0m\u001b[0;34m\u001b[0m\u001b[0m\n\u001b[0m\u001b[1;32m   1730\u001b[0m     \u001b[0mplot_obj\u001b[0m\u001b[0;34m.\u001b[0m\u001b[0mdraw\u001b[0m\u001b[0;34m(\u001b[0m\u001b[0;34m)\u001b[0m\u001b[0;34m\u001b[0m\u001b[0m\n\u001b[1;32m   1731\u001b[0m     \u001b[0;32mreturn\u001b[0m \u001b[0mplot_obj\u001b[0m\u001b[0;34m.\u001b[0m\u001b[0mresult\u001b[0m\u001b[0;34m\u001b[0m\u001b[0m\n",
            "\u001b[0;32m/usr/local/lib/python3.6/dist-packages/pandas/plotting/_core.py\u001b[0m in \u001b[0;36mgenerate\u001b[0;34m(self)\u001b[0m\n\u001b[1;32m    248\u001b[0m     \u001b[0;32mdef\u001b[0m \u001b[0mgenerate\u001b[0m\u001b[0;34m(\u001b[0m\u001b[0mself\u001b[0m\u001b[0;34m)\u001b[0m\u001b[0;34m:\u001b[0m\u001b[0;34m\u001b[0m\u001b[0m\n\u001b[1;32m    249\u001b[0m         \u001b[0mself\u001b[0m\u001b[0;34m.\u001b[0m\u001b[0m_args_adjust\u001b[0m\u001b[0;34m(\u001b[0m\u001b[0;34m)\u001b[0m\u001b[0;34m\u001b[0m\u001b[0m\n\u001b[0;32m--> 250\u001b[0;31m         \u001b[0mself\u001b[0m\u001b[0;34m.\u001b[0m\u001b[0m_compute_plot_data\u001b[0m\u001b[0;34m(\u001b[0m\u001b[0;34m)\u001b[0m\u001b[0;34m\u001b[0m\u001b[0m\n\u001b[0m\u001b[1;32m    251\u001b[0m         \u001b[0mself\u001b[0m\u001b[0;34m.\u001b[0m\u001b[0m_setup_subplots\u001b[0m\u001b[0;34m(\u001b[0m\u001b[0;34m)\u001b[0m\u001b[0;34m\u001b[0m\u001b[0m\n\u001b[1;32m    252\u001b[0m         \u001b[0mself\u001b[0m\u001b[0;34m.\u001b[0m\u001b[0m_make_plot\u001b[0m\u001b[0;34m(\u001b[0m\u001b[0;34m)\u001b[0m\u001b[0;34m\u001b[0m\u001b[0m\n",
            "\u001b[0;32m/usr/local/lib/python3.6/dist-packages/pandas/plotting/_core.py\u001b[0m in \u001b[0;36m_compute_plot_data\u001b[0;34m(self)\u001b[0m\n\u001b[1;32m    363\u001b[0m         \u001b[0;32mif\u001b[0m \u001b[0mis_empty\u001b[0m\u001b[0;34m:\u001b[0m\u001b[0;34m\u001b[0m\u001b[0m\n\u001b[1;32m    364\u001b[0m             raise TypeError('Empty {0!r}: no numeric data to '\n\u001b[0;32m--> 365\u001b[0;31m                             'plot'.format(numeric_data.__class__.__name__))\n\u001b[0m\u001b[1;32m    366\u001b[0m \u001b[0;34m\u001b[0m\u001b[0m\n\u001b[1;32m    367\u001b[0m         \u001b[0mself\u001b[0m\u001b[0;34m.\u001b[0m\u001b[0mdata\u001b[0m \u001b[0;34m=\u001b[0m \u001b[0mnumeric_data\u001b[0m\u001b[0;34m\u001b[0m\u001b[0m\n",
            "\u001b[0;31mTypeError\u001b[0m: Empty 'DataFrame': no numeric data to plot"
          ]
        }
      ]
    },
    {
      "metadata": {
        "id": "1GFfTVjBEZ-2",
        "colab_type": "code",
        "colab": {
          "base_uri": "https://localhost:8080/",
          "height": 50
        },
        "outputId": "90d4d6d1-81b2-4e41-e892-72714251a1ed"
      },
      "cell_type": "code",
      "source": [
        "# Create predictions on test\n",
        "%%time\n",
        "lgtrain = lgb.Dataset(train_df[select_cols], label=train_df['deal_probability'])\n",
        "model_final = lgb.train(params, lgtrain, num_boost_round=1000, verbose_eval=50)\n",
        "pred_test_y = model_final.predict(test_df[select_cols])\n"
      ],
      "execution_count": 107,
      "outputs": [
        {
          "output_type": "stream",
          "text": [
            "CPU times: user 3min 43s, sys: 1.73 s, total: 3min 45s\n",
            "Wall time: 1min 53s\n"
          ],
          "name": "stdout"
        }
      ]
    },
    {
      "metadata": {
        "id": "cUbnEzxDGDtc",
        "colab_type": "code",
        "colab": {
          "base_uri": "https://localhost:8080/",
          "height": 50
        },
        "outputId": "7596c6c4-8026-4752-ae35-d0afe340857e"
      },
      "cell_type": "code",
      "source": [
        "%%time\n",
        "version = 'v3'\n",
        "lgsub = pd.DataFrame(pred_test_y,columns=[\"deal_probability\"], index=test_df.item_id)\n",
        "lgsub['deal_probability'].clip(0.0, 1.0, inplace=True) # Between 0 and 1\n",
        "lgsub.to_csv('sub_'+version+'.csv',index=True,header=True)\n",
        "lgsub.head()\n",
        "files.download('sub_'+version+'.csv')"
      ],
      "execution_count": 108,
      "outputs": [
        {
          "output_type": "stream",
          "text": [
            "CPU times: user 1.66 s, sys: 93 ms, total: 1.76 s\n",
            "Wall time: 1min\n"
          ],
          "name": "stdout"
        }
      ]
    },
    {
      "metadata": {
        "id": "YFPv-sA-IG-7",
        "colab_type": "code",
        "colab": {
          "base_uri": "https://localhost:8080/",
          "height": 364
        },
        "outputId": "fb1798c4-5b1f-4088-cf5d-32c685166da8"
      },
      "cell_type": "code",
      "source": [
        "lgsub.plot.hist(bins = 10)"
      ],
      "execution_count": 109,
      "outputs": [
        {
          "output_type": "execute_result",
          "data": {
            "text/plain": [
              "<matplotlib.axes._subplots.AxesSubplot at 0x7f7e72119940>"
            ]
          },
          "metadata": {
            "tags": []
          },
          "execution_count": 109
        },
        {
          "output_type": "display_data",
          "data": {
            "image/png": "[encoded data removed]",
            "text/plain": [
              "<matplotlib.figure.Figure at 0x7f7e721170b8>"
            ]
          },
          "metadata": {
            "tags": []
          }
        }
      ]
    },
    {
      "metadata": {
        "id": "vY2o-232Hc_7",
        "colab_type": "text"
      },
      "cell_type": "markdown",
      "source": [
        "**Step 4 - Plot Feature Importance**\n",
        "  * v1: image_top_1, price_log, svd_title_1/2/3"
      ]
    },
    {
      "metadata": {
        "id": "LIMZknh_EOUS",
        "colab_type": "code",
        "colab": {
          "base_uri": "https://localhost:8080/",
          "height": 1057
        },
        "outputId": "87565734-d8ce-4ede-d295-7509c683eb88"
      },
      "cell_type": "code",
      "source": [
        "fig, ax = plt.subplots(figsize=(12,18))\n",
        "lgb.plot_importance(model_final, max_num_features=50, height=0.8, ax=ax)\n",
        "ax.grid(False)\n",
        "plt.title(\"LightGBM - Feature Importance\", fontsize=15)\n",
        "plt.show()"
      ],
      "execution_count": 110,
      "outputs": [
        {
          "output_type": "display_data",
          "data": {
            "image/png": "[encoded data removed]",
            "text/plain": [
              "<matplotlib.figure.Figure at 0x7f7e72117e48>"
            ]
          },
          "metadata": {
            "tags": []
          }
        }
      ]
    }
  ]
}